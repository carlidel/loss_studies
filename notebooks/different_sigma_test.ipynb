{
 "cells": [
  {
   "cell_type": "markdown",
   "metadata": {},
   "source": [
    "# Test for evaluating the invariant law for different $\\sigma$ values in relative $I$ evolution"
   ]
  },
  {
   "cell_type": "markdown",
   "metadata": {},
   "source": [
    "## Setup scripts if we are under SWAN"
   ]
  },
  {
   "cell_type": "code",
   "execution_count": null,
   "metadata": {},
   "outputs": [],
   "source": [
    "# Working in the right path\n",
    "%cd /eos/project/d/da-and-diffusion-studies/DA_Studies/Simulations/Models/loss_studies/notebooks"
   ]
  },
  {
   "cell_type": "code",
   "execution_count": null,
   "metadata": {},
   "outputs": [],
   "source": [
    "# Install the libraries\n",
    "import sys\n",
    "!{sys.executable} -m pip install --user tqdm pynverse sixtrackwrap crank-nicolson-numba henon-map symplectic-map\n",
    "!{sys.executable} -m pip install --user --upgrade sixtrackwrap \n",
    "!{sys.executable} -m pip install --user --upgrade crank-nicolson-numba \n",
    "!{sys.executable} -m pip install --user --upgrade henon-map \n",
    "!{sys.executable} -m pip install --user --upgrade symplectic-map\n",
    "!export PYTHONPATH=$CERNBOX_HOME.local/lib/python3.7/site-packages:$PYTHONPATH"
   ]
  },
  {
   "cell_type": "code",
   "execution_count": null,
   "metadata": {},
   "outputs": [],
   "source": [
    "# For this \"presentation\" only!\n",
    "import warnings\n",
    "warnings.filterwarnings('ignore')"
   ]
  },
  {
   "cell_type": "markdown",
   "metadata": {},
   "source": [
    "## Imports"
   ]
  },
  {
   "cell_type": "code",
   "execution_count": 2,
   "metadata": {},
   "outputs": [],
   "source": [
    "%matplotlib widget"
   ]
  },
  {
   "cell_type": "code",
   "execution_count": 3,
   "metadata": {},
   "outputs": [
    {
     "name": "stderr",
     "output_type": "stream",
     "text": [
      "/home/carlidel/Insync/carlo.montanari3@studio.unibo.it/OneDrive Biz/projects/loss_studies/notebooks/fit_utils.py:14: TqdmExperimentalWarning: Using `tqdm.autonotebook.tqdm` in notebook mode. Use `tqdm.tqdm` instead to force console mode (e.g. in jupyter console)\n",
      "  from tqdm.autonotebook import tqdm\n"
     ]
    }
   ],
   "source": [
    "# Base libraries\n",
    "import math\n",
    "import numpy as np\n",
    "import scipy.integrate as integrate\n",
    "from scipy.special import erf\n",
    "import pickle\n",
    "import itertools\n",
    "from scipy.optimize import curve_fit\n",
    "\n",
    "from numba import njit, prange\n",
    "\n",
    "from tqdm.notebook import tqdm\n",
    "import time\n",
    "import matplotlib.pyplot as plt\n",
    "import ipywidgets as widgets\n",
    "import matplotlib.pyplot as plt\n",
    "import matplotlib\n",
    "import matplotlib.ticker as ticker\n",
    "from math import gcd\n",
    "\n",
    "import pandas as pd\n",
    "\n",
    "from scipy.special import lambertw\n",
    "from scipy.interpolate import interp1d\n",
    "\n",
    "import os\n",
    "\n",
    "# Personal libraries\n",
    "import sixtrackwrap as sx\n",
    "import crank_nicolson_numba.nekhoroshev as nk\n",
    "\n",
    "# Personal modules\n",
    "import fit_utils as fit"
   ]
  },
  {
   "cell_type": "markdown",
   "metadata": {},
   "source": [
    "## Load data and setup original DA"
   ]
  },
  {
   "cell_type": "code",
   "execution_count": 6,
   "metadata": {},
   "outputs": [],
   "source": [
    "sigma = 0.3\n",
    "sigma_b = 0.5"
   ]
  },
  {
   "cell_type": "code",
   "execution_count": 5,
   "metadata": {},
   "outputs": [],
   "source": [
    "savepath = \"../data/\"\n",
    "\n",
    "turn_samples = 100\n",
    "min_turns = 10**3\n",
    "max_turns = 10**6\n",
    "\n",
    "# Do we want to load ALL the Hénon data files or should we skip some?\n",
    "skipper = 10\n",
    "\n",
    "cut_point = 1.0"
   ]
  },
  {
   "cell_type": "code",
   "execution_count": 9,
   "metadata": {
    "scrolled": true
   },
   "outputs": [
    {
     "data": {
      "application/vnd.jupyter.widget-view+json": {
       "model_id": "8767bd1e93b1427abb36cbb924047277",
       "version_major": 2,
       "version_minor": 0
      },
      "text/plain": [
       "HBox(children=(FloatProgress(value=0.0, max=1.0), HTML(value='')))"
      ]
     },
     "metadata": {},
     "output_type": "display_data"
    },
    {
     "name": "stdout",
     "output_type": "stream",
     "text": [
      "Loading file:  henon_eps_2.pkl\n",
      "Real part\n",
      "Done DA\n",
      "Gaussian part\n",
      "Done Gaussian\n",
      "Gaussian loss but with 'Real' DA values\n",
      "Bis\n",
      "Gaussian part\n",
      "Done Gaussian\n",
      "Gaussian loss but with 'Real' DA values\n",
      "Finished processing.\n",
      "\n"
     ]
    }
   ],
   "source": [
    "epsilons = []\n",
    "\n",
    "real_losses = []\n",
    "gaussian_losses = []\n",
    "\n",
    "real_DAs = []\n",
    "gaussian_DAs = []\n",
    "\n",
    "real_losses_b = []\n",
    "gaussian_losses_b = []\n",
    "gaussian_DAs_b = []\n",
    "\n",
    "files = list(sorted(list(filter(lambda f: \"henon_eps_\" in f and \"unif\" not in f, os.listdir(savepath))), key=lambda f: float(f[10: -4])))[::skipper]\n",
    "\n",
    "for f in tqdm(files):\n",
    "    print(\"Loading file: \", f)\n",
    "    unif_f = \"unif_\" + f\n",
    "    epsilon = float(f[10: -4])\n",
    "    epsilons.append(epsilon)\n",
    "    engine = sx.uniform_radial_scanner.load_values(savepath + f)\n",
    "    unif_engine = sx.uniform_scanner.load_values(savepath + unif_f)\n",
    "    \n",
    "    baseline_samples = engine.baseline_samples\n",
    "    d_r = engine.dr\n",
    "    turn_sampling = np.linspace(min_turns, max_turns, turn_samples, dtype=np.int)[::-1]\n",
    "    \n",
    "    print(\"Real part\")\n",
    "    real_DAs.append(engine.compute_DA_standard(turn_sampling))\n",
    "    print(\"Done DA\")\n",
    "    \n",
    "    print(\"Gaussian part\")\n",
    "    engine.assign_weights(sx.assign_symmetric_gaussian(sigma))\n",
    "    unif_engine.assign_weights(\n",
    "        sx.assign_symmetric_gaussian(sigma, polar=False), radial_cut=cut_point)\n",
    "    baseline = engine.compute_loss_cut(cut_point)\n",
    "    \n",
    "    gaussian_losses.append(engine.compute_loss(turn_sampling, cut_point, True))\n",
    "    gaussian_DAs.append(\n",
    "        fit.DA_from_symmetric_gaussian_loss(gaussian_losses[-1], sigma, cut_point))\n",
    "    print(\"Done Gaussian\")\n",
    "    \n",
    "    print(\"Gaussian loss but with 'Real' DA values\")\n",
    "    real_losses.append(fit.symmetric_gaussian_loss(real_DAs[-1], sigma, cut_point))\n",
    "    \n",
    "    ##############################################################################\n",
    "    print(\"Bis\")\n",
    "    print(\"Gaussian part\")\n",
    "    engine.assign_weights(sx.assign_symmetric_gaussian(sigma_b))\n",
    "    unif_engine.assign_weights(\n",
    "        sx.assign_symmetric_gaussian(sigma_b, polar=False), radial_cut=cut_point)\n",
    "    baseline = engine.compute_loss_cut(cut_point)\n",
    "    \n",
    "    gaussian_losses_b.append(engine.compute_loss(turn_sampling, cut_point, True))\n",
    "    gaussian_DAs_b.append(\n",
    "        fit.DA_from_symmetric_gaussian_loss(gaussian_losses_b[-1], sigma_b, cut_point))\n",
    "    print(\"Done Gaussian\")\n",
    "    \n",
    "    print(\"Gaussian loss but with 'Real' DA values\")\n",
    "    real_losses_b.append(fit.symmetric_gaussian_loss(real_DAs[-1], sigma_b, cut_point))\n",
    "    \n",
    "    print(\"Finished processing.\")"
   ]
  },
  {
   "cell_type": "code",
   "execution_count": 25,
   "metadata": {},
   "outputs": [
    {
     "name": "stdout",
     "output_type": "stream",
     "text": [
      "[0.48725754]\n",
      "[0.49529021]\n",
      "[0.48380637]\n",
      "[0.49071474]\n"
     ]
    }
   ],
   "source": [
    "sigma = 0.2\n",
    "sigma_b = 0.3\n",
    "\n",
    "engine.assign_weights(sx.assign_symmetric_gaussian(sigma))\n",
    "loss = engine.compute_loss([turn_sampling[50]], cut_point, True)\n",
    "print(fit.DA_from_symmetric_gaussian_loss(loss, sigma, cut_point))\n",
    "\n",
    "engine.assign_weights(sx.assign_symmetric_gaussian(sigma_b))\n",
    "loss = engine.compute_loss([turn_sampling[50]], cut_point, True)\n",
    "print(fit.DA_from_symmetric_gaussian_loss(loss, sigma_b, cut_point))\n",
    "\n",
    "unif_engine.assign_weights(sx.assign_symmetric_gaussian(sigma, polar=False), radial_cut=cut_point)\n",
    "loss = unif_engine.compute_loss([turn_sampling[50]], True)\n",
    "print(fit.DA_from_symmetric_gaussian_loss(loss, sigma, cut_point))\n",
    "\n",
    "unif_engine.assign_weights(sx.assign_symmetric_gaussian(sigma_b, polar=False), radial_cut=cut_point)\n",
    "loss = unif_engine.compute_loss([turn_sampling[50]], True)\n",
    "print(fit.DA_from_symmetric_gaussian_loss(loss, sigma_b, cut_point))"
   ]
  },
  {
   "cell_type": "code",
   "execution_count": 16,
   "metadata": {},
   "outputs": [
    {
     "data": {
      "application/vnd.jupyter.widget-view+json": {
       "model_id": "982fbcfc08a741b8b98a16e52ef5408c",
       "version_major": 2,
       "version_minor": 0
      },
      "text/plain": [
       "Canvas(toolbar=Toolbar(toolitems=[('Home', 'Reset original view', 'home', 'home'), ('Back', 'Back to previous …"
      ]
     },
     "metadata": {},
     "output_type": "display_data"
    }
   ],
   "source": [
    "plt.figure()\n",
    "\n",
    "for i in range(len(real_losses)):\n",
    "    plt.plot(turn_sampling, real_losses[i], c=\"C0\")\n",
    "    plt.plot(turn_sampling, gaussian_losses[i], c=\"C1\")\n",
    "    plt.plot(turn_sampling, real_losses_b[i], c=\"C0\")\n",
    "    plt.plot(turn_sampling, gaussian_losses_b[i], c=\"C1\")"
   ]
  },
  {
   "cell_type": "code",
   "execution_count": 11,
   "metadata": {},
   "outputs": [
    {
     "data": {
      "application/vnd.jupyter.widget-view+json": {
       "model_id": "0cda311db26043409eac548bfb195057",
       "version_major": 2,
       "version_minor": 0
      },
      "text/plain": [
       "Canvas(toolbar=Toolbar(toolitems=[('Home', 'Reset original view', 'home', 'home'), ('Back', 'Back to previous …"
      ]
     },
     "metadata": {},
     "output_type": "display_data"
    }
   ],
   "source": [
    "plt.figure()\n",
    "\n",
    "for i in range(len(real_losses)):\n",
    "    plt.plot(turn_sampling, real_DAs[i], c=\"C0\")\n",
    "    plt.plot(turn_sampling, gaussian_DAs[i], c=\"C1\")\n",
    "    plt.plot(turn_sampling, gaussian_DAs_b[i], c=\"C2\")"
   ]
  },
  {
   "cell_type": "code",
   "execution_count": null,
   "metadata": {},
   "outputs": [],
   "source": []
  }
 ],
 "metadata": {
  "kernelspec": {
   "display_name": "Python 3",
   "language": "python",
   "name": "python3"
  },
  "language_info": {
   "codemirror_mode": {
    "name": "ipython",
    "version": 3
   },
   "file_extension": ".py",
   "mimetype": "text/x-python",
   "name": "python",
   "nbconvert_exporter": "python",
   "pygments_lexer": "ipython3",
   "version": "3.7.7"
  }
 },
 "nbformat": 4,
 "nbformat_minor": 4
}
