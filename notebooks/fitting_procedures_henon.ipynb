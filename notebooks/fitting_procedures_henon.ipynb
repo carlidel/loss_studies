{
 "cells": [
  {
   "cell_type": "markdown",
   "metadata": {},
   "source": [
    "# General DA fittings and Fokker-Planck comparisons (Hénon map)"
   ]
  },
  {
   "cell_type": "markdown",
   "metadata": {},
   "source": [
    "## Setup scripts if we are under SWAN"
   ]
  },
  {
   "cell_type": "code",
   "execution_count": null,
   "metadata": {},
   "outputs": [],
   "source": [
    "# Working in the right path\n",
    "%cd /eos/project/d/da-and-diffusion-studies/DA_Studies/Simulations/Models/loss_studies/notebooks"
   ]
  },
  {
   "cell_type": "code",
   "execution_count": null,
   "metadata": {},
   "outputs": [],
   "source": [
    "# Install the libraries\n",
    "import sys\n",
    "!{sys.executable} -m pip install --user tqdm pynverse sixtrackwrap crank-nicolson-numba henon-map symplectic-map\n",
    "!{sys.executable} -m pip install --user --upgrade sixtrackwrap \n",
    "!{sys.executable} -m pip install --user --upgrade crank-nicolson-numba \n",
    "!{sys.executable} -m pip install --user --upgrade henon-map \n",
    "!{sys.executable} -m pip install --user --upgrade symplectic-map\n",
    "!export PYTHONPATH=$CERNBOX_HOME.local/lib/python3.7/site-packages:$PYTHONPATH"
   ]
  },
  {
   "cell_type": "code",
   "execution_count": null,
   "metadata": {},
   "outputs": [],
   "source": [
    "# For this \"presentation\" only!\n",
    "import warnings\n",
    "warnings.filterwarnings('ignore')"
   ]
  },
  {
   "cell_type": "markdown",
   "metadata": {},
   "source": [
    "## Imports"
   ]
  },
  {
   "cell_type": "code",
   "execution_count": 2,
   "metadata": {},
   "outputs": [],
   "source": [
    "%matplotlib widget"
   ]
  },
  {
   "cell_type": "code",
   "execution_count": 3,
   "metadata": {},
   "outputs": [
    {
     "name": "stderr",
     "output_type": "stream",
     "text": [
      "/home/carlidel/Insync/carlo.montanari3@studio.unibo.it/OneDrive Biz/projects/loss_studies/notebooks/fit_utils.py:14: TqdmExperimentalWarning: Using `tqdm.autonotebook.tqdm` in notebook mode. Use `tqdm.tqdm` instead to force console mode (e.g. in jupyter console)\n",
      "  from tqdm.autonotebook import tqdm\n"
     ]
    }
   ],
   "source": [
    "# Base libraries\n",
    "import math\n",
    "import numpy as np\n",
    "import scipy.integrate as integrate\n",
    "from scipy.special import erf\n",
    "import pickle\n",
    "import itertools\n",
    "from scipy.optimize import curve_fit\n",
    "\n",
    "from numba import njit, prange\n",
    "\n",
    "from tqdm.notebook import tqdm\n",
    "import time\n",
    "import matplotlib.pyplot as plt\n",
    "import ipywidgets as widgets\n",
    "import matplotlib.pyplot as plt\n",
    "import matplotlib\n",
    "import matplotlib.ticker as ticker\n",
    "from math import gcd\n",
    "\n",
    "import pandas as pd\n",
    "\n",
    "from scipy.special import lambertw\n",
    "from scipy.interpolate import interp1d\n",
    "\n",
    "import os\n",
    "\n",
    "# Personal libraries\n",
    "import sixtrackwrap as sx\n",
    "import crank_nicolson_numba.nekhoroshev as nk\n",
    "\n",
    "# Personal modules\n",
    "import fit_utils as fit"
   ]
  },
  {
   "cell_type": "markdown",
   "metadata": {},
   "source": [
    "## Load data and setup original DA"
   ]
  },
  {
   "cell_type": "code",
   "execution_count": 4,
   "metadata": {},
   "outputs": [],
   "source": [
    "savepath = \"../data/\"\n",
    "\n",
    "sigma = 0.3\n",
    "turn_samples = 100\n",
    "\n",
    "# Do we want to load ALL the Hénon data files or should we skip some?\n",
    "skipper = 1\n",
    "\n",
    "cut_point = 0.9"
   ]
  },
  {
   "cell_type": "code",
   "execution_count": 7,
   "metadata": {
    "scrolled": true
   },
   "outputs": [
    {
     "data": {
      "application/vnd.jupyter.widget-view+json": {
       "model_id": "0ba04391e0a84151b5d22a0fba92f3e8",
       "version_major": 2,
       "version_minor": 0
      },
      "text/plain": [
       "HBox(children=(FloatProgress(value=0.0, max=8.0), HTML(value='')))"
      ]
     },
     "metadata": {},
     "output_type": "display_data"
    },
    {
     "name": "stdout",
     "output_type": "stream",
     "text": [
      "Loading file:  henon_eps_2.pkl\n",
      "Real part\n",
      "Done DA\n",
      "Gaussian part\n",
      "Done Gaussian\n",
      "Gaussian loss but with 'Real' DA values\n",
      "Finished processing.\n",
      "Loading file:  henon_eps_6.pkl\n",
      "Real part\n",
      "Done DA\n",
      "Gaussian part\n",
      "Done Gaussian\n",
      "Gaussian loss but with 'Real' DA values\n",
      "Finished processing.\n",
      "Loading file:  henon_eps_10.pkl\n",
      "Real part\n",
      "Done DA\n",
      "Gaussian part\n",
      "Done Gaussian\n",
      "Gaussian loss but with 'Real' DA values\n",
      "Finished processing.\n",
      "Loading file:  henon_eps_14.pkl\n",
      "Real part\n",
      "Done DA\n",
      "Gaussian part\n",
      "Done Gaussian\n",
      "Gaussian loss but with 'Real' DA values\n",
      "Finished processing.\n",
      "Loading file:  henon_eps_18.pkl\n",
      "Real part\n",
      "Done DA\n",
      "Gaussian part\n",
      "Done Gaussian\n",
      "Gaussian loss but with 'Real' DA values\n",
      "Finished processing.\n",
      "Loading file:  henon_eps_22.pkl\n",
      "Real part\n",
      "Done DA\n",
      "Gaussian part\n",
      "Done Gaussian\n",
      "Gaussian loss but with 'Real' DA values\n",
      "Finished processing.\n",
      "Loading file:  henon_eps_26.pkl\n",
      "Real part\n",
      "Done DA\n",
      "Gaussian part\n",
      "Done Gaussian\n",
      "Gaussian loss but with 'Real' DA values\n",
      "Finished processing.\n",
      "Loading file:  henon_eps_30.pkl\n",
      "Real part\n",
      "Done DA\n",
      "Gaussian part\n",
      "Done Gaussian\n",
      "Gaussian loss but with 'Real' DA values\n",
      "Finished processing.\n",
      "\n"
     ]
    }
   ],
   "source": [
    "epsilons = []\n",
    "\n",
    "real_losses = []\n",
    "gaussian_losses = []\n",
    "\n",
    "real_DAs = []\n",
    "gaussian_DAs = []\n",
    "\n",
    "files = list(sorted(list(filter(lambda f: \"henon_eps_\" in f, os.listdir(savepath))), key=lambda f: float(f[10: -4])))[::skipper]\n",
    "\n",
    "for f in tqdm(files):\n",
    "    print(\"Loading file: \", f)\n",
    "    epsilon = float(f[10: -4])\n",
    "    epsilons.append(epsilon)\n",
    "    engine = sx.uniform_radial_scanner.load_values(savepath + f)\n",
    "\n",
    "    baseline_samples = engine.baseline_samples\n",
    "    min_turns = 10**3\n",
    "    max_turns = 10**6\n",
    "    d_r = engine.dr\n",
    "    turn_sampling = np.linspace(min_turns, max_turns, turn_samples, dtype=np.int)[::-1]\n",
    "    \n",
    "    print(\"Real part\")\n",
    "    real_DAs.append(engine.compute_DA_standard(turn_sampling))\n",
    "    print(\"Done DA\")\n",
    "    \n",
    "    print(\"Gaussian part\")\n",
    "    engine.assign_weights(sx.assign_symmetric_gaussian(sigma))\n",
    "    gaussian_losses.append(engine.compute_loss(turn_sampling, cut_point))\n",
    "    gaussian_DAs.append(fit.DA_from_symmetric_gaussian_loss(gaussian_losses[-1], sigma, cut_point))\n",
    "    print(\"Done Gaussian\")\n",
    "    \n",
    "    print(\"Gaussian loss but with 'Real' DA values\")\n",
    "    baseline = engine.compute_loss_cut(cut_point)\n",
    "    real_losses.append(np.array([engine.compute_loss_cut(da) / baseline for da in real_DAs[-1]]))\n",
    "    print(\"Finished processing.\")"
   ]
  },
  {
   "cell_type": "markdown",
   "metadata": {},
   "source": [
    "## General fitting of all the Hénon maps across all models"
   ]
  },
  {
   "cell_type": "code",
   "execution_count": 16,
   "metadata": {},
   "outputs": [],
   "source": [
    "labels = (\n",
    "    (\"epsilon\", \"\"),\n",
    "    (\"type\", \"\"),\n",
    "    (\"sigma\", \"\"),\n",
    "    (\"Model 2\", \"k\"),\n",
    "    (\"Model 2\", \"k err\"),\n",
    "    (\"Model 2\", \"rho\"),\n",
    "    (\"Model 2\", \"rho err\"),\n",
    "    (\"Model 2\", \"N0\"),\n",
    "    (\"Model 2\", \"N0 err\"),\n",
    "    (\"Model 2\", \"Chi2\"),\n",
    "    (\"Model 4 (2 free pars)\", \"k\"),\n",
    "    (\"Model 4 (2 free pars)\", \"k err\"),\n",
    "    (\"Model 4 (2 free pars)\", \"rho\"),\n",
    "    (\"Model 4 (2 free pars)\", \"rho err\"),\n",
    "    (\"Model 4 (2 free pars)\", \"lambda\"),\n",
    "    (\"Model 4 (2 free pars)\", \"Chi2\"),\n",
    "    (\"Model 4 (3 free pars)\", \"k\"),\n",
    "    (\"Model 4 (3 free pars)\", \"k err\"),\n",
    "    (\"Model 4 (3 free pars)\", \"rho\"),\n",
    "    (\"Model 4 (3 free pars)\", \"rho err\"),\n",
    "    (\"Model 4 (3 free pars)\", \"N0\"),\n",
    "    (\"Model 4 (3 free pars)\", \"N0 err\"),\n",
    "    (\"Model 4 (3 free pars)\", \"lambda\"),\n",
    "    (\"Model 4 (3 free pars)\", \"Chi2\"),\n",
    ")\n",
    "\n",
    "fitting_data = pd.DataFrame(columns=pd.MultiIndex.from_tuples(labels))\n",
    "lost_table = []"
   ]
  },
  {
   "cell_type": "code",
   "execution_count": 17,
   "metadata": {},
   "outputs": [],
   "source": [
    "k_min = 0.1\n",
    "k_max = 2.00\n",
    "samples = 100\n",
    "\n",
    "ks = np.linspace(k_min, k_max, samples)"
   ]
  },
  {
   "cell_type": "code",
   "execution_count": 18,
   "metadata": {
    "scrolled": true
   },
   "outputs": [
    {
     "data": {
      "application/vnd.jupyter.widget-view+json": {
       "model_id": "87a9416d9ccf4972be9e3e9c92aa3531",
       "version_major": 2,
       "version_minor": 0
      },
      "text/plain": [
       "HBox(children=(FloatProgress(value=0.0, max=8.0), HTML(value='')))"
      ]
     },
     "metadata": {},
     "output_type": "display_data"
    },
    {
     "data": {
      "application/vnd.jupyter.widget-view+json": {
       "model_id": "25f4409710df40ee8e0d7f141c16f40e",
       "version_major": 2,
       "version_minor": 0
      },
      "text/plain": [
       "HBox(children=(FloatProgress(value=0.0), HTML(value='')))"
      ]
     },
     "metadata": {},
     "output_type": "display_data"
    },
    {
     "name": "stdout",
     "output_type": "stream",
     "text": [
      "\n"
     ]
    },
    {
     "data": {
      "application/vnd.jupyter.widget-view+json": {
       "model_id": "5e3fcfa328df47ebb2651c6e7533e519",
       "version_major": 2,
       "version_minor": 0
      },
      "text/plain": [
       "HBox(children=(FloatProgress(value=0.0), HTML(value='')))"
      ]
     },
     "metadata": {},
     "output_type": "display_data"
    },
    {
     "name": "stdout",
     "output_type": "stream",
     "text": [
      "\n"
     ]
    },
    {
     "data": {
      "application/vnd.jupyter.widget-view+json": {
       "model_id": "7afeef9029ad45dd83f69a059d5cbcba",
       "version_major": 2,
       "version_minor": 0
      },
      "text/plain": [
       "HBox(children=(FloatProgress(value=0.0), HTML(value='')))"
      ]
     },
     "metadata": {},
     "output_type": "display_data"
    },
    {
     "name": "stdout",
     "output_type": "stream",
     "text": [
      "\n"
     ]
    },
    {
     "data": {
      "application/vnd.jupyter.widget-view+json": {
       "model_id": "66f02a294770410e8033208ce4a01178",
       "version_major": 2,
       "version_minor": 0
      },
      "text/plain": [
       "HBox(children=(FloatProgress(value=0.0), HTML(value='')))"
      ]
     },
     "metadata": {},
     "output_type": "display_data"
    },
    {
     "name": "stdout",
     "output_type": "stream",
     "text": [
      "\n"
     ]
    },
    {
     "data": {
      "application/vnd.jupyter.widget-view+json": {
       "model_id": "58020a7c9e5b47d584bc6e1b904a6c27",
       "version_major": 2,
       "version_minor": 0
      },
      "text/plain": [
       "HBox(children=(FloatProgress(value=0.0), HTML(value='')))"
      ]
     },
     "metadata": {},
     "output_type": "display_data"
    },
    {
     "name": "stdout",
     "output_type": "stream",
     "text": [
      "\n"
     ]
    },
    {
     "data": {
      "application/vnd.jupyter.widget-view+json": {
       "model_id": "06549f711fde486eaf752d259f2019c6",
       "version_major": 2,
       "version_minor": 0
      },
      "text/plain": [
       "HBox(children=(FloatProgress(value=0.0), HTML(value='')))"
      ]
     },
     "metadata": {},
     "output_type": "display_data"
    },
    {
     "name": "stdout",
     "output_type": "stream",
     "text": [
      "\n"
     ]
    },
    {
     "data": {
      "application/vnd.jupyter.widget-view+json": {
       "model_id": "912d85626f0d444dbea69910e471cf39",
       "version_major": 2,
       "version_minor": 0
      },
      "text/plain": [
       "HBox(children=(FloatProgress(value=0.0), HTML(value='')))"
      ]
     },
     "metadata": {},
     "output_type": "display_data"
    },
    {
     "name": "stdout",
     "output_type": "stream",
     "text": [
      "\n"
     ]
    },
    {
     "data": {
      "application/vnd.jupyter.widget-view+json": {
       "model_id": "e10bcef25abc413db041cad6a8b6de6e",
       "version_major": 2,
       "version_minor": 0
      },
      "text/plain": [
       "HBox(children=(FloatProgress(value=0.0), HTML(value='')))"
      ]
     },
     "metadata": {},
     "output_type": "display_data"
    },
    {
     "name": "stdout",
     "output_type": "stream",
     "text": [
      "\n"
     ]
    },
    {
     "data": {
      "application/vnd.jupyter.widget-view+json": {
       "model_id": "6fef7fcaa4384c69929861590de80530",
       "version_major": 2,
       "version_minor": 0
      },
      "text/plain": [
       "HBox(children=(FloatProgress(value=0.0), HTML(value='')))"
      ]
     },
     "metadata": {},
     "output_type": "display_data"
    },
    {
     "name": "stdout",
     "output_type": "stream",
     "text": [
      "\n"
     ]
    },
    {
     "data": {
      "application/vnd.jupyter.widget-view+json": {
       "model_id": "edeaff5a86df4de2b6250218ce484552",
       "version_major": 2,
       "version_minor": 0
      },
      "text/plain": [
       "HBox(children=(FloatProgress(value=0.0), HTML(value='')))"
      ]
     },
     "metadata": {},
     "output_type": "display_data"
    },
    {
     "name": "stdout",
     "output_type": "stream",
     "text": [
      "\n"
     ]
    },
    {
     "data": {
      "application/vnd.jupyter.widget-view+json": {
       "model_id": "6c1416cd392e4bc5977ff9626bfb8c51",
       "version_major": 2,
       "version_minor": 0
      },
      "text/plain": [
       "HBox(children=(FloatProgress(value=0.0), HTML(value='')))"
      ]
     },
     "metadata": {},
     "output_type": "display_data"
    },
    {
     "name": "stdout",
     "output_type": "stream",
     "text": [
      "\n"
     ]
    },
    {
     "data": {
      "application/vnd.jupyter.widget-view+json": {
       "model_id": "7dd6537cb17b40918851a39374a1db8f",
       "version_major": 2,
       "version_minor": 0
      },
      "text/plain": [
       "HBox(children=(FloatProgress(value=0.0), HTML(value='')))"
      ]
     },
     "metadata": {},
     "output_type": "display_data"
    },
    {
     "name": "stdout",
     "output_type": "stream",
     "text": [
      "\n"
     ]
    },
    {
     "data": {
      "application/vnd.jupyter.widget-view+json": {
       "model_id": "2d0a5fe341ca4655b1cad34138f2169c",
       "version_major": 2,
       "version_minor": 0
      },
      "text/plain": [
       "HBox(children=(FloatProgress(value=0.0), HTML(value='')))"
      ]
     },
     "metadata": {},
     "output_type": "display_data"
    },
    {
     "name": "stdout",
     "output_type": "stream",
     "text": [
      "\n"
     ]
    },
    {
     "data": {
      "application/vnd.jupyter.widget-view+json": {
       "model_id": "08467c63965748989a7a1b2e93c37dcc",
       "version_major": 2,
       "version_minor": 0
      },
      "text/plain": [
       "HBox(children=(FloatProgress(value=0.0), HTML(value='')))"
      ]
     },
     "metadata": {},
     "output_type": "display_data"
    },
    {
     "name": "stdout",
     "output_type": "stream",
     "text": [
      "\n"
     ]
    },
    {
     "data": {
      "application/vnd.jupyter.widget-view+json": {
       "model_id": "863c87358ab042d89ef72bc436f96b25",
       "version_major": 2,
       "version_minor": 0
      },
      "text/plain": [
       "HBox(children=(FloatProgress(value=0.0), HTML(value='')))"
      ]
     },
     "metadata": {},
     "output_type": "display_data"
    },
    {
     "name": "stdout",
     "output_type": "stream",
     "text": [
      "\n"
     ]
    },
    {
     "data": {
      "application/vnd.jupyter.widget-view+json": {
       "model_id": "8ba9f039143c4d788f8fc0f6cc989df7",
       "version_major": 2,
       "version_minor": 0
      },
      "text/plain": [
       "HBox(children=(FloatProgress(value=0.0), HTML(value='')))"
      ]
     },
     "metadata": {},
     "output_type": "display_data"
    },
    {
     "name": "stdout",
     "output_type": "stream",
     "text": [
      "\n"
     ]
    },
    {
     "data": {
      "application/vnd.jupyter.widget-view+json": {
       "model_id": "700a686d325e44a6b83b6d63805da629",
       "version_major": 2,
       "version_minor": 0
      },
      "text/plain": [
       "HBox(children=(FloatProgress(value=0.0), HTML(value='')))"
      ]
     },
     "metadata": {},
     "output_type": "display_data"
    },
    {
     "name": "stdout",
     "output_type": "stream",
     "text": [
      "\n"
     ]
    },
    {
     "data": {
      "application/vnd.jupyter.widget-view+json": {
       "model_id": "5d63533e21034875894b8e9ea9e6e056",
       "version_major": 2,
       "version_minor": 0
      },
      "text/plain": [
       "HBox(children=(FloatProgress(value=0.0), HTML(value='')))"
      ]
     },
     "metadata": {},
     "output_type": "display_data"
    },
    {
     "name": "stdout",
     "output_type": "stream",
     "text": [
      "\n"
     ]
    },
    {
     "data": {
      "application/vnd.jupyter.widget-view+json": {
       "model_id": "fa1a97d4eb724b7da6e9d84eda70174d",
       "version_major": 2,
       "version_minor": 0
      },
      "text/plain": [
       "HBox(children=(FloatProgress(value=0.0), HTML(value='')))"
      ]
     },
     "metadata": {},
     "output_type": "display_data"
    },
    {
     "name": "stdout",
     "output_type": "stream",
     "text": [
      "\n"
     ]
    },
    {
     "data": {
      "application/vnd.jupyter.widget-view+json": {
       "model_id": "1c597db08063478693140ca2e8e0e21f",
       "version_major": 2,
       "version_minor": 0
      },
      "text/plain": [
       "HBox(children=(FloatProgress(value=0.0), HTML(value='')))"
      ]
     },
     "metadata": {},
     "output_type": "display_data"
    },
    {
     "name": "stdout",
     "output_type": "stream",
     "text": [
      "\n"
     ]
    },
    {
     "data": {
      "application/vnd.jupyter.widget-view+json": {
       "model_id": "0441fcca80cb4790a1de7c6c96c3305c",
       "version_major": 2,
       "version_minor": 0
      },
      "text/plain": [
       "HBox(children=(FloatProgress(value=0.0), HTML(value='')))"
      ]
     },
     "metadata": {},
     "output_type": "display_data"
    },
    {
     "name": "stdout",
     "output_type": "stream",
     "text": [
      "\n"
     ]
    },
    {
     "data": {
      "application/vnd.jupyter.widget-view+json": {
       "model_id": "c00e42d824cd4f11935b3ebae394606d",
       "version_major": 2,
       "version_minor": 0
      },
      "text/plain": [
       "HBox(children=(FloatProgress(value=0.0), HTML(value='')))"
      ]
     },
     "metadata": {},
     "output_type": "display_data"
    },
    {
     "name": "stdout",
     "output_type": "stream",
     "text": [
      "\n"
     ]
    },
    {
     "data": {
      "application/vnd.jupyter.widget-view+json": {
       "model_id": "3a170630f261462fb2dd535369756d4a",
       "version_major": 2,
       "version_minor": 0
      },
      "text/plain": [
       "HBox(children=(FloatProgress(value=0.0), HTML(value='')))"
      ]
     },
     "metadata": {},
     "output_type": "display_data"
    },
    {
     "name": "stdout",
     "output_type": "stream",
     "text": [
      "\n"
     ]
    },
    {
     "data": {
      "application/vnd.jupyter.widget-view+json": {
       "model_id": "c762aa3a77ac4080bd064ead28965f91",
       "version_major": 2,
       "version_minor": 0
      },
      "text/plain": [
       "HBox(children=(FloatProgress(value=0.0), HTML(value='')))"
      ]
     },
     "metadata": {},
     "output_type": "display_data"
    },
    {
     "name": "stdout",
     "output_type": "stream",
     "text": [
      "\n"
     ]
    },
    {
     "data": {
      "application/vnd.jupyter.widget-view+json": {
       "model_id": "1553230f777143e39e8a1ad90486e802",
       "version_major": 2,
       "version_minor": 0
      },
      "text/plain": [
       "HBox(children=(FloatProgress(value=0.0), HTML(value='')))"
      ]
     },
     "metadata": {},
     "output_type": "display_data"
    },
    {
     "name": "stdout",
     "output_type": "stream",
     "text": [
      "\n"
     ]
    },
    {
     "data": {
      "application/vnd.jupyter.widget-view+json": {
       "model_id": "5dd720046cd14d9782ce5916ac0c6767",
       "version_major": 2,
       "version_minor": 0
      },
      "text/plain": [
       "HBox(children=(FloatProgress(value=0.0), HTML(value='')))"
      ]
     },
     "metadata": {},
     "output_type": "display_data"
    },
    {
     "name": "stdout",
     "output_type": "stream",
     "text": [
      "\n"
     ]
    },
    {
     "data": {
      "application/vnd.jupyter.widget-view+json": {
       "model_id": "3f5be6e0527f499b943e34429e997982",
       "version_major": 2,
       "version_minor": 0
      },
      "text/plain": [
       "HBox(children=(FloatProgress(value=0.0), HTML(value='')))"
      ]
     },
     "metadata": {},
     "output_type": "display_data"
    },
    {
     "name": "stdout",
     "output_type": "stream",
     "text": [
      "\n"
     ]
    },
    {
     "data": {
      "application/vnd.jupyter.widget-view+json": {
       "model_id": "9fa21a3d6e5041e9b466931a733b573a",
       "version_major": 2,
       "version_minor": 0
      },
      "text/plain": [
       "HBox(children=(FloatProgress(value=0.0), HTML(value='')))"
      ]
     },
     "metadata": {},
     "output_type": "display_data"
    },
    {
     "name": "stdout",
     "output_type": "stream",
     "text": [
      "\n"
     ]
    },
    {
     "data": {
      "application/vnd.jupyter.widget-view+json": {
       "model_id": "412590170d3a4e6783ebf4874ed91188",
       "version_major": 2,
       "version_minor": 0
      },
      "text/plain": [
       "HBox(children=(FloatProgress(value=0.0), HTML(value='')))"
      ]
     },
     "metadata": {},
     "output_type": "display_data"
    },
    {
     "name": "stdout",
     "output_type": "stream",
     "text": [
      "\n"
     ]
    },
    {
     "data": {
      "application/vnd.jupyter.widget-view+json": {
       "model_id": "fe88bf3e44cd426180211e23483bd6fb",
       "version_major": 2,
       "version_minor": 0
      },
      "text/plain": [
       "HBox(children=(FloatProgress(value=0.0), HTML(value='')))"
      ]
     },
     "metadata": {},
     "output_type": "display_data"
    },
    {
     "name": "stdout",
     "output_type": "stream",
     "text": [
      "\n"
     ]
    },
    {
     "data": {
      "application/vnd.jupyter.widget-view+json": {
       "model_id": "74b6cd7e2f8e4cd48634cfeddd7a7c3e",
       "version_major": 2,
       "version_minor": 0
      },
      "text/plain": [
       "HBox(children=(FloatProgress(value=0.0), HTML(value='')))"
      ]
     },
     "metadata": {},
     "output_type": "display_data"
    },
    {
     "name": "stdout",
     "output_type": "stream",
     "text": [
      "\n"
     ]
    },
    {
     "data": {
      "application/vnd.jupyter.widget-view+json": {
       "model_id": "d3fc209e869044d296416f293cab47a6",
       "version_major": 2,
       "version_minor": 0
      },
      "text/plain": [
       "HBox(children=(FloatProgress(value=0.0), HTML(value='')))"
      ]
     },
     "metadata": {},
     "output_type": "display_data"
    },
    {
     "name": "stdout",
     "output_type": "stream",
     "text": [
      "\n"
     ]
    },
    {
     "data": {
      "application/vnd.jupyter.widget-view+json": {
       "model_id": "176778713f8d45eebc1b52f3666b8275",
       "version_major": 2,
       "version_minor": 0
      },
      "text/plain": [
       "HBox(children=(FloatProgress(value=0.0), HTML(value='')))"
      ]
     },
     "metadata": {},
     "output_type": "display_data"
    },
    {
     "name": "stdout",
     "output_type": "stream",
     "text": [
      "\n"
     ]
    },
    {
     "data": {
      "application/vnd.jupyter.widget-view+json": {
       "model_id": "f8679e52b18d4509877fe7c7a010f36e",
       "version_major": 2,
       "version_minor": 0
      },
      "text/plain": [
       "HBox(children=(FloatProgress(value=0.0), HTML(value='')))"
      ]
     },
     "metadata": {},
     "output_type": "display_data"
    },
    {
     "name": "stdout",
     "output_type": "stream",
     "text": [
      "\n"
     ]
    },
    {
     "data": {
      "application/vnd.jupyter.widget-view+json": {
       "model_id": "6f9bd2a4145241ac8d586e1f738af368",
       "version_major": 2,
       "version_minor": 0
      },
      "text/plain": [
       "HBox(children=(FloatProgress(value=0.0), HTML(value='')))"
      ]
     },
     "metadata": {},
     "output_type": "display_data"
    },
    {
     "name": "stdout",
     "output_type": "stream",
     "text": [
      "\n"
     ]
    },
    {
     "data": {
      "application/vnd.jupyter.widget-view+json": {
       "model_id": "0f54cef5aaf94a758d136a10e4810ef7",
       "version_major": 2,
       "version_minor": 0
      },
      "text/plain": [
       "HBox(children=(FloatProgress(value=0.0), HTML(value='')))"
      ]
     },
     "metadata": {},
     "output_type": "display_data"
    },
    {
     "name": "stdout",
     "output_type": "stream",
     "text": [
      "\n"
     ]
    },
    {
     "data": {
      "application/vnd.jupyter.widget-view+json": {
       "model_id": "621763fa0ea640109e9e6c9478dec940",
       "version_major": 2,
       "version_minor": 0
      },
      "text/plain": [
       "HBox(children=(FloatProgress(value=0.0), HTML(value='')))"
      ]
     },
     "metadata": {},
     "output_type": "display_data"
    },
    {
     "name": "stdout",
     "output_type": "stream",
     "text": [
      "\n"
     ]
    },
    {
     "data": {
      "application/vnd.jupyter.widget-view+json": {
       "model_id": "2a34c53dbcc74587adf97d69a27b6e05",
       "version_major": 2,
       "version_minor": 0
      },
      "text/plain": [
       "HBox(children=(FloatProgress(value=0.0), HTML(value='')))"
      ]
     },
     "metadata": {},
     "output_type": "display_data"
    },
    {
     "name": "stdout",
     "output_type": "stream",
     "text": [
      "\n"
     ]
    },
    {
     "data": {
      "application/vnd.jupyter.widget-view+json": {
       "model_id": "194dd284e69d414b8dbcd0525545e5f1",
       "version_major": 2,
       "version_minor": 0
      },
      "text/plain": [
       "HBox(children=(FloatProgress(value=0.0), HTML(value='')))"
      ]
     },
     "metadata": {},
     "output_type": "display_data"
    },
    {
     "name": "stdout",
     "output_type": "stream",
     "text": [
      "\n"
     ]
    },
    {
     "data": {
      "application/vnd.jupyter.widget-view+json": {
       "model_id": "779c0fd98b2142e49567b12304d03eb1",
       "version_major": 2,
       "version_minor": 0
      },
      "text/plain": [
       "HBox(children=(FloatProgress(value=0.0), HTML(value='')))"
      ]
     },
     "metadata": {},
     "output_type": "display_data"
    },
    {
     "name": "stdout",
     "output_type": "stream",
     "text": [
      "\n"
     ]
    },
    {
     "data": {
      "application/vnd.jupyter.widget-view+json": {
       "model_id": "4906689f70e945f69e5cbb044d1b7ad3",
       "version_major": 2,
       "version_minor": 0
      },
      "text/plain": [
       "HBox(children=(FloatProgress(value=0.0), HTML(value='')))"
      ]
     },
     "metadata": {},
     "output_type": "display_data"
    },
    {
     "name": "stdout",
     "output_type": "stream",
     "text": [
      "\n"
     ]
    },
    {
     "data": {
      "application/vnd.jupyter.widget-view+json": {
       "model_id": "34550bea276043eda6c120f43d74e585",
       "version_major": 2,
       "version_minor": 0
      },
      "text/plain": [
       "HBox(children=(FloatProgress(value=0.0), HTML(value='')))"
      ]
     },
     "metadata": {},
     "output_type": "display_data"
    },
    {
     "name": "stdout",
     "output_type": "stream",
     "text": [
      "\n"
     ]
    },
    {
     "data": {
      "application/vnd.jupyter.widget-view+json": {
       "model_id": "4061c47f4054425c99b9cb66a2033151",
       "version_major": 2,
       "version_minor": 0
      },
      "text/plain": [
       "HBox(children=(FloatProgress(value=0.0), HTML(value='')))"
      ]
     },
     "metadata": {},
     "output_type": "display_data"
    },
    {
     "name": "stdout",
     "output_type": "stream",
     "text": [
      "\n"
     ]
    },
    {
     "data": {
      "application/vnd.jupyter.widget-view+json": {
       "model_id": "b9e3f6f8b797434aa26463434392fb89",
       "version_major": 2,
       "version_minor": 0
      },
      "text/plain": [
       "HBox(children=(FloatProgress(value=0.0), HTML(value='')))"
      ]
     },
     "metadata": {},
     "output_type": "display_data"
    },
    {
     "name": "stdout",
     "output_type": "stream",
     "text": [
      "\n"
     ]
    },
    {
     "data": {
      "application/vnd.jupyter.widget-view+json": {
       "model_id": "8384a240499244ec80124c78e02eed72",
       "version_major": 2,
       "version_minor": 0
      },
      "text/plain": [
       "HBox(children=(FloatProgress(value=0.0), HTML(value='')))"
      ]
     },
     "metadata": {},
     "output_type": "display_data"
    },
    {
     "name": "stdout",
     "output_type": "stream",
     "text": [
      "\n"
     ]
    },
    {
     "data": {
      "application/vnd.jupyter.widget-view+json": {
       "model_id": "95aa7f1d2f434029adbd1e923f6f9086",
       "version_major": 2,
       "version_minor": 0
      },
      "text/plain": [
       "HBox(children=(FloatProgress(value=0.0), HTML(value='')))"
      ]
     },
     "metadata": {},
     "output_type": "display_data"
    },
    {
     "name": "stdout",
     "output_type": "stream",
     "text": [
      "\n"
     ]
    },
    {
     "data": {
      "application/vnd.jupyter.widget-view+json": {
       "model_id": "751f8ef15381422d8e8e4308bc05f774",
       "version_major": 2,
       "version_minor": 0
      },
      "text/plain": [
       "HBox(children=(FloatProgress(value=0.0), HTML(value='')))"
      ]
     },
     "metadata": {},
     "output_type": "display_data"
    },
    {
     "name": "stdout",
     "output_type": "stream",
     "text": [
      "\n"
     ]
    },
    {
     "data": {
      "application/vnd.jupyter.widget-view+json": {
       "model_id": "ca27f0c114dd424684b7b62f1bab1576",
       "version_major": 2,
       "version_minor": 0
      },
      "text/plain": [
       "HBox(children=(FloatProgress(value=0.0), HTML(value='')))"
      ]
     },
     "metadata": {},
     "output_type": "display_data"
    },
    {
     "name": "stdout",
     "output_type": "stream",
     "text": [
      "\n",
      "\n"
     ]
    }
   ],
   "source": [
    "for i, eps in tqdm(list(enumerate(epsilons))):\n",
    "    # Model 2\n",
    "    real_pars, real_errs, real_co_pars = fit.explore_k_model_2(\n",
    "        turn_sampling, real_DAs[i], k_min, k_max, samples\n",
    "    )\n",
    "    gaussian_loss_pars, gaussian_loss_errs, gaussian_loss_co_pars = fit.explore_k_model_2(\n",
    "        turn_sampling, gaussian_DAs[i], k_min, k_max, samples\n",
    "    )\n",
    "\n",
    "    real_selected_err_2 = np.min(real_errs)\n",
    "    real_selected_k_2 = ks[np.argmin(real_errs)]\n",
    "    real_selected_pars_2 = real_pars[np.argmin(real_errs)]\n",
    "    real_selected_co_pars_2 = real_co_pars[np.argmin(real_errs)]\n",
    "\n",
    "    gaussian_loss_selected_err_2 = np.min(gaussian_loss_errs)\n",
    "    gaussian_loss_selected_k_2 = ks[np.argmin(gaussian_loss_errs)]\n",
    "    gaussian_loss_selected_pars_2 = gaussian_loss_pars[np.argmin(gaussian_loss_errs)]\n",
    "    gaussian_loss_selected_co_pars_2 = gaussian_loss_co_pars[np.argmin(gaussian_loss_errs)]\n",
    "    \n",
    "    # Model 4 (2 pars)\n",
    "    real_pars, real_errs, real_co_pars = fit.explore_k_model_4(\n",
    "        turn_sampling, real_DAs[i], k_min, k_max, samples\n",
    "    )\n",
    "    gaussian_loss_pars, gaussian_loss_errs, gaussian_loss_co_pars = fit.explore_k_model_4(\n",
    "        turn_sampling, gaussian_DAs[i], k_min, k_max, samples\n",
    "    )\n",
    "\n",
    "    real_selected_err_4 = np.min(real_errs)\n",
    "    real_selected_k_4 = ks[np.argmin(real_errs)]\n",
    "    real_selected_pars_4 = real_pars[np.argmin(real_errs)]\n",
    "    real_selected_co_pars_4 = real_co_pars[np.argmin(real_errs)]\n",
    "\n",
    "    gaussian_loss_selected_err_4 = np.min(gaussian_loss_errs)\n",
    "    gaussian_loss_selected_k_4 = ks[np.argmin(gaussian_loss_errs)]\n",
    "    gaussian_loss_selected_pars_4 = gaussian_loss_pars[np.argmin(gaussian_loss_errs)]\n",
    "    gaussian_loss_selected_co_pars_4 = gaussian_loss_co_pars[np.argmin(gaussian_loss_errs)]\n",
    "    \n",
    "    # Model 4 (3 pars)\n",
    "    real_pars, real_errs, real_co_pars = fit.explore_model_4_free(\n",
    "        turn_sampling, real_DAs[i], k_min, k_max, samples\n",
    "    )\n",
    "    gaussian_loss_pars, gaussian_loss_errs, gaussian_loss_co_pars = fit.explore_model_4_free(\n",
    "        turn_sampling, gaussian_DAs[i], k_min, k_max, samples\n",
    "    )\n",
    "\n",
    "    real_selected_err_4_free = np.min(real_errs)\n",
    "    real_selected_k_4_free = ks[np.argmin(real_errs)]\n",
    "    real_selected_pars_4_free = real_pars[np.argmin(real_errs)]\n",
    "    real_selected_co_pars_4_free = real_co_pars[np.argmin(real_errs)]\n",
    "\n",
    "    gaussian_loss_selected_err_4_free = np.min(gaussian_loss_errs)\n",
    "    gaussian_loss_selected_k_4_free = ks[np.argmin(gaussian_loss_errs)]\n",
    "    gaussian_loss_selected_pars_4_free = gaussian_loss_pars[np.argmin(gaussian_loss_errs)]\n",
    "    gaussian_loss_selected_co_pars_4_free = gaussian_loss_co_pars[np.argmin(gaussian_loss_errs)]\n",
    "    \n",
    "    # Saving Data\n",
    "    fitting_data.loc[len(fitting_data)] = [\n",
    "        epsilons[i],\n",
    "        \"real\",\n",
    "        np.nan,\n",
    "        real_selected_k_2,\n",
    "        ks[1] - ks[0],\n",
    "        real_selected_pars_2[0],\n",
    "        np.sqrt(real_selected_co_pars_2[0][0]),\n",
    "        real_selected_pars_2[1],\n",
    "        np.sqrt(real_selected_co_pars_2[1][1]),\n",
    "        real_selected_err_2,\n",
    "        real_selected_k_4,\n",
    "        ks[1] - ks[0],\n",
    "        real_selected_pars_4[0],\n",
    "        np.sqrt(real_selected_co_pars_4[0][0]),\n",
    "        1/2,\n",
    "        real_selected_err_4,\n",
    "        real_selected_k_4_free,\n",
    "        ks[1] - ks[0],\n",
    "        real_selected_pars_4_free[0],\n",
    "        np.sqrt(real_selected_co_pars_4_free[0][0]),\n",
    "        real_selected_pars_4_free[1],\n",
    "        np.sqrt(real_selected_co_pars_4_free[1][1]),\n",
    "        1/2,\n",
    "        real_selected_err_4_free\n",
    "    ]\n",
    "    \n",
    "    lost_table.append(real_losses[i])\n",
    "    \n",
    "    fitting_data.loc[len(fitting_data)] = [\n",
    "        epsilons[i],\n",
    "        \"gaussian\",\n",
    "        sigma,\n",
    "        gaussian_loss_selected_k_2,\n",
    "        ks[1] - ks[0],\n",
    "        gaussian_loss_selected_pars_2[0],\n",
    "        np.sqrt(gaussian_loss_selected_co_pars_2[0][0]),\n",
    "        gaussian_loss_selected_pars_2[1],\n",
    "        np.sqrt(gaussian_loss_selected_co_pars_2[1][1]),\n",
    "        gaussian_loss_selected_err_2,\n",
    "        gaussian_loss_selected_k_4,\n",
    "        ks[1] - ks[0],\n",
    "        gaussian_loss_selected_pars_4[0],\n",
    "        np.sqrt(gaussian_loss_selected_co_pars_4[0][0]),\n",
    "        1/2,\n",
    "        gaussian_loss_selected_err_4,\n",
    "        gaussian_loss_selected_k_4_free,\n",
    "        ks[1] - ks[0],\n",
    "        gaussian_loss_selected_pars_4_free[0],\n",
    "        np.sqrt(gaussian_loss_selected_co_pars_4_free[0][0]),\n",
    "        gaussian_loss_selected_pars_4_free[1],\n",
    "        np.sqrt(gaussian_loss_selected_co_pars_4_free[1][1]),\n",
    "        1/2,\n",
    "        gaussian_loss_selected_err_4_free\n",
    "    ]\n",
    "    \n",
    "    lost_table.append(gaussian_losses[i])"
   ]
  },
  {
   "cell_type": "markdown",
   "metadata": {},
   "source": [
    "### Visualize the $\\kappa$ value for the various models"
   ]
  },
  {
   "cell_type": "code",
   "execution_count": 24,
   "metadata": {},
   "outputs": [
    {
     "data": {
      "application/vnd.jupyter.widget-view+json": {
       "model_id": "9d780a64c16848e691a885802332f2bd",
       "version_major": 2,
       "version_minor": 0
      },
      "text/plain": [
       "Canvas(toolbar=Toolbar(toolitems=[('Home', 'Reset original view', 'home', 'home'), ('Back', 'Back to previous …"
      ]
     },
     "metadata": {},
     "output_type": "display_data"
    }
   ],
   "source": [
    "fig1, ax1 = plt.subplots(1,2)\n",
    "\n",
    "p_filter = fitting_data[(\"type\", \"\")] == \"real\" \n",
    "\n",
    "ax1[0].scatter(\n",
    "    fitting_data[p_filter][(\"epsilon\", \"\")],\n",
    "    fitting_data[p_filter][(\"Model 2\", \"k\")],\n",
    "    label=\"Model 2\"\n",
    ")\n",
    "ax1[0].scatter(\n",
    "    fitting_data[p_filter][(\"epsilon\", \"\")],\n",
    "    fitting_data[p_filter][(\"Model 4 (2 free pars)\", \"k\")],\n",
    "    label=\"Model 4 (2 pars)\"\n",
    ")\n",
    "ax1[0].scatter(\n",
    "    fitting_data[p_filter][(\"epsilon\", \"\")],\n",
    "    fitting_data[p_filter][(\"Model 4 (3 free pars)\", \"k\")],\n",
    "    label=\"Model 4 (3 pars)\"\n",
    ")\n",
    "\n",
    "ax1[0].set_xlabel(\"$\\\\epsilon$\")\n",
    "ax1[0].set_ylabel(\"$\\\\kappa$\")\n",
    "ax1[0].set_title(\"Real DA\")\n",
    "ax1[0].legend(fontsize=\"xx-small\")\n",
    "\n",
    "p_filter = fitting_data[(\"type\", \"\")] == \"gaussian\" \n",
    "\n",
    "ax1[1].scatter(\n",
    "    fitting_data[p_filter][(\"epsilon\", \"\")],\n",
    "    fitting_data[p_filter][(\"Model 2\", \"k\")],\n",
    "    label=\"Model 2\"\n",
    ")\n",
    "ax1[1].scatter(\n",
    "    fitting_data[p_filter][(\"epsilon\", \"\")],\n",
    "    fitting_data[p_filter][(\"Model 4 (2 free pars)\", \"k\")],\n",
    "    label=\"Model 4 (2 pars)\"\n",
    ")\n",
    "ax1[1].scatter(\n",
    "    fitting_data[p_filter][(\"epsilon\", \"\")],\n",
    "    fitting_data[p_filter][(\"Model 4 (3 free pars)\", \"k\")],\n",
    "    label=\"Model 4 (3 pars)\"\n",
    ")\n",
    "\n",
    "ax1[1].set_xlabel(\"$\\\\epsilon$\")\n",
    "ax1[1].set_ylabel(\"$\\\\kappa$\")\n",
    "ax1[1].set_title(\"DA from Gaussian loss\")\n",
    "ax1[1].legend(fontsize=\"xx-small\")\n",
    "\n",
    "p_filter = fitting_data[(\"type\", \"\")] == \"uniform\" "
   ]
  },
  {
   "cell_type": "code",
   "execution_count": 20,
   "metadata": {
    "scrolled": true
   },
   "outputs": [
    {
     "data": {
      "text/html": [
       "<div>\n",
       "<style scoped>\n",
       "    .dataframe tbody tr th:only-of-type {\n",
       "        vertical-align: middle;\n",
       "    }\n",
       "\n",
       "    .dataframe tbody tr th {\n",
       "        vertical-align: top;\n",
       "    }\n",
       "\n",
       "    .dataframe thead tr th {\n",
       "        text-align: left;\n",
       "    }\n",
       "</style>\n",
       "<table border=\"1\" class=\"dataframe\">\n",
       "  <thead>\n",
       "    <tr>\n",
       "      <th></th>\n",
       "      <th>epsilon</th>\n",
       "      <th>type</th>\n",
       "      <th>sigma</th>\n",
       "      <th colspan=\"7\" halign=\"left\">Model 2</th>\n",
       "    </tr>\n",
       "    <tr>\n",
       "      <th></th>\n",
       "      <th></th>\n",
       "      <th></th>\n",
       "      <th></th>\n",
       "      <th>k</th>\n",
       "      <th>k err</th>\n",
       "      <th>rho</th>\n",
       "      <th>rho err</th>\n",
       "      <th>N0</th>\n",
       "      <th>N0 err</th>\n",
       "      <th>Chi2</th>\n",
       "    </tr>\n",
       "  </thead>\n",
       "  <tbody>\n",
       "    <tr>\n",
       "      <th>0</th>\n",
       "      <td>2.0</td>\n",
       "      <td>real</td>\n",
       "      <td>NaN</td>\n",
       "      <td>0.234343</td>\n",
       "      <td>0.019192</td>\n",
       "      <td>1.835630</td>\n",
       "      <td>0.001863</td>\n",
       "      <td>3.913099</td>\n",
       "      <td>1.875598e-01</td>\n",
       "      <td>0.000110</td>\n",
       "    </tr>\n",
       "    <tr>\n",
       "      <th>1</th>\n",
       "      <td>2.0</td>\n",
       "      <td>gaussian</td>\n",
       "      <td>0.3</td>\n",
       "      <td>0.138384</td>\n",
       "      <td>0.019192</td>\n",
       "      <td>1.108686</td>\n",
       "      <td>0.000312</td>\n",
       "      <td>174.072875</td>\n",
       "      <td>2.346540e+00</td>\n",
       "      <td>0.000057</td>\n",
       "    </tr>\n",
       "    <tr>\n",
       "      <th>2</th>\n",
       "      <td>6.0</td>\n",
       "      <td>real</td>\n",
       "      <td>NaN</td>\n",
       "      <td>0.368687</td>\n",
       "      <td>0.019192</td>\n",
       "      <td>3.509941</td>\n",
       "      <td>0.002510</td>\n",
       "      <td>0.185349</td>\n",
       "      <td>5.104695e-03</td>\n",
       "      <td>0.000026</td>\n",
       "    </tr>\n",
       "    <tr>\n",
       "      <th>3</th>\n",
       "      <td>6.0</td>\n",
       "      <td>gaussian</td>\n",
       "      <td>0.3</td>\n",
       "      <td>0.253535</td>\n",
       "      <td>0.019192</td>\n",
       "      <td>1.946185</td>\n",
       "      <td>0.001527</td>\n",
       "      <td>12.686566</td>\n",
       "      <td>3.839377e-01</td>\n",
       "      <td>0.000103</td>\n",
       "    </tr>\n",
       "    <tr>\n",
       "      <th>4</th>\n",
       "      <td>10.0</td>\n",
       "      <td>real</td>\n",
       "      <td>NaN</td>\n",
       "      <td>0.483838</td>\n",
       "      <td>0.019192</td>\n",
       "      <td>6.072436</td>\n",
       "      <td>0.004085</td>\n",
       "      <td>0.015448</td>\n",
       "      <td>3.590381e-04</td>\n",
       "      <td>0.000015</td>\n",
       "    </tr>\n",
       "    <tr>\n",
       "      <th>5</th>\n",
       "      <td>10.0</td>\n",
       "      <td>gaussian</td>\n",
       "      <td>0.3</td>\n",
       "      <td>0.311111</td>\n",
       "      <td>0.019192</td>\n",
       "      <td>2.540155</td>\n",
       "      <td>0.001730</td>\n",
       "      <td>4.402483</td>\n",
       "      <td>1.050076e-01</td>\n",
       "      <td>0.000054</td>\n",
       "    </tr>\n",
       "    <tr>\n",
       "      <th>6</th>\n",
       "      <td>14.0</td>\n",
       "      <td>real</td>\n",
       "      <td>NaN</td>\n",
       "      <td>0.656566</td>\n",
       "      <td>0.019192</td>\n",
       "      <td>13.928873</td>\n",
       "      <td>0.016458</td>\n",
       "      <td>0.000313</td>\n",
       "      <td>1.163130e-05</td>\n",
       "      <td>0.000028</td>\n",
       "    </tr>\n",
       "    <tr>\n",
       "      <th>7</th>\n",
       "      <td>14.0</td>\n",
       "      <td>gaussian</td>\n",
       "      <td>0.3</td>\n",
       "      <td>0.349495</td>\n",
       "      <td>0.019192</td>\n",
       "      <td>3.021043</td>\n",
       "      <td>0.001685</td>\n",
       "      <td>2.304382</td>\n",
       "      <td>4.254840e-02</td>\n",
       "      <td>0.000030</td>\n",
       "    </tr>\n",
       "    <tr>\n",
       "      <th>8</th>\n",
       "      <td>18.0</td>\n",
       "      <td>real</td>\n",
       "      <td>NaN</td>\n",
       "      <td>0.771717</td>\n",
       "      <td>0.019192</td>\n",
       "      <td>23.740494</td>\n",
       "      <td>0.036355</td>\n",
       "      <td>0.000037</td>\n",
       "      <td>1.665938e-06</td>\n",
       "      <td>0.000038</td>\n",
       "    </tr>\n",
       "    <tr>\n",
       "      <th>9</th>\n",
       "      <td>18.0</td>\n",
       "      <td>gaussian</td>\n",
       "      <td>0.3</td>\n",
       "      <td>0.368687</td>\n",
       "      <td>0.019192</td>\n",
       "      <td>3.266681</td>\n",
       "      <td>0.001263</td>\n",
       "      <td>1.937657</td>\n",
       "      <td>2.387312e-02</td>\n",
       "      <td>0.000014</td>\n",
       "    </tr>\n",
       "    <tr>\n",
       "      <th>10</th>\n",
       "      <td>22.0</td>\n",
       "      <td>real</td>\n",
       "      <td>NaN</td>\n",
       "      <td>0.867677</td>\n",
       "      <td>0.019192</td>\n",
       "      <td>36.195525</td>\n",
       "      <td>0.095800</td>\n",
       "      <td>0.000010</td>\n",
       "      <td>7.667986e-07</td>\n",
       "      <td>0.000103</td>\n",
       "    </tr>\n",
       "    <tr>\n",
       "      <th>11</th>\n",
       "      <td>22.0</td>\n",
       "      <td>gaussian</td>\n",
       "      <td>0.3</td>\n",
       "      <td>0.387879</td>\n",
       "      <td>0.019192</td>\n",
       "      <td>3.539406</td>\n",
       "      <td>0.001287</td>\n",
       "      <td>1.551573</td>\n",
       "      <td>1.740717e-02</td>\n",
       "      <td>0.000012</td>\n",
       "    </tr>\n",
       "    <tr>\n",
       "      <th>12</th>\n",
       "      <td>26.0</td>\n",
       "      <td>real</td>\n",
       "      <td>NaN</td>\n",
       "      <td>0.906061</td>\n",
       "      <td>0.019192</td>\n",
       "      <td>41.431612</td>\n",
       "      <td>0.116709</td>\n",
       "      <td>0.000013</td>\n",
       "      <td>9.422083e-07</td>\n",
       "      <td>0.000117</td>\n",
       "    </tr>\n",
       "    <tr>\n",
       "      <th>13</th>\n",
       "      <td>26.0</td>\n",
       "      <td>gaussian</td>\n",
       "      <td>0.3</td>\n",
       "      <td>0.407071</td>\n",
       "      <td>0.019192</td>\n",
       "      <td>3.828161</td>\n",
       "      <td>0.001858</td>\n",
       "      <td>1.291900</td>\n",
       "      <td>1.872808e-02</td>\n",
       "      <td>0.000021</td>\n",
       "    </tr>\n",
       "    <tr>\n",
       "      <th>14</th>\n",
       "      <td>30.0</td>\n",
       "      <td>real</td>\n",
       "      <td>NaN</td>\n",
       "      <td>0.944444</td>\n",
       "      <td>0.019192</td>\n",
       "      <td>47.853141</td>\n",
       "      <td>0.125729</td>\n",
       "      <td>0.000012</td>\n",
       "      <td>7.891996e-07</td>\n",
       "      <td>0.000099</td>\n",
       "    </tr>\n",
       "    <tr>\n",
       "      <th>15</th>\n",
       "      <td>30.0</td>\n",
       "      <td>gaussian</td>\n",
       "      <td>0.3</td>\n",
       "      <td>0.464646</td>\n",
       "      <td>0.019192</td>\n",
       "      <td>4.982714</td>\n",
       "      <td>0.004215</td>\n",
       "      <td>0.450558</td>\n",
       "      <td>1.085980e-02</td>\n",
       "      <td>0.000048</td>\n",
       "    </tr>\n",
       "  </tbody>\n",
       "</table>\n",
       "</div>"
      ],
      "text/plain": [
       "   epsilon      type sigma   Model 2                                 \\\n",
       "                                   k     k err        rho   rho err   \n",
       "0      2.0      real   NaN  0.234343  0.019192   1.835630  0.001863   \n",
       "1      2.0  gaussian   0.3  0.138384  0.019192   1.108686  0.000312   \n",
       "2      6.0      real   NaN  0.368687  0.019192   3.509941  0.002510   \n",
       "3      6.0  gaussian   0.3  0.253535  0.019192   1.946185  0.001527   \n",
       "4     10.0      real   NaN  0.483838  0.019192   6.072436  0.004085   \n",
       "5     10.0  gaussian   0.3  0.311111  0.019192   2.540155  0.001730   \n",
       "6     14.0      real   NaN  0.656566  0.019192  13.928873  0.016458   \n",
       "7     14.0  gaussian   0.3  0.349495  0.019192   3.021043  0.001685   \n",
       "8     18.0      real   NaN  0.771717  0.019192  23.740494  0.036355   \n",
       "9     18.0  gaussian   0.3  0.368687  0.019192   3.266681  0.001263   \n",
       "10    22.0      real   NaN  0.867677  0.019192  36.195525  0.095800   \n",
       "11    22.0  gaussian   0.3  0.387879  0.019192   3.539406  0.001287   \n",
       "12    26.0      real   NaN  0.906061  0.019192  41.431612  0.116709   \n",
       "13    26.0  gaussian   0.3  0.407071  0.019192   3.828161  0.001858   \n",
       "14    30.0      real   NaN  0.944444  0.019192  47.853141  0.125729   \n",
       "15    30.0  gaussian   0.3  0.464646  0.019192   4.982714  0.004215   \n",
       "\n",
       "                                        \n",
       "            N0        N0 err      Chi2  \n",
       "0     3.913099  1.875598e-01  0.000110  \n",
       "1   174.072875  2.346540e+00  0.000057  \n",
       "2     0.185349  5.104695e-03  0.000026  \n",
       "3    12.686566  3.839377e-01  0.000103  \n",
       "4     0.015448  3.590381e-04  0.000015  \n",
       "5     4.402483  1.050076e-01  0.000054  \n",
       "6     0.000313  1.163130e-05  0.000028  \n",
       "7     2.304382  4.254840e-02  0.000030  \n",
       "8     0.000037  1.665938e-06  0.000038  \n",
       "9     1.937657  2.387312e-02  0.000014  \n",
       "10    0.000010  7.667986e-07  0.000103  \n",
       "11    1.551573  1.740717e-02  0.000012  \n",
       "12    0.000013  9.422083e-07  0.000117  \n",
       "13    1.291900  1.872808e-02  0.000021  \n",
       "14    0.000012  7.891996e-07  0.000099  \n",
       "15    0.450558  1.085980e-02  0.000048  "
      ]
     },
     "execution_count": 20,
     "metadata": {},
     "output_type": "execute_result"
    }
   ],
   "source": [
    "fitting_data[[\"epsilon\", \"type\", \"sigma\", \"Model 2\"]]"
   ]
  },
  {
   "cell_type": "code",
   "execution_count": 21,
   "metadata": {
    "scrolled": true
   },
   "outputs": [
    {
     "data": {
      "text/html": [
       "<div>\n",
       "<style scoped>\n",
       "    .dataframe tbody tr th:only-of-type {\n",
       "        vertical-align: middle;\n",
       "    }\n",
       "\n",
       "    .dataframe tbody tr th {\n",
       "        vertical-align: top;\n",
       "    }\n",
       "\n",
       "    .dataframe thead tr th {\n",
       "        text-align: left;\n",
       "    }\n",
       "</style>\n",
       "<table border=\"1\" class=\"dataframe\">\n",
       "  <thead>\n",
       "    <tr>\n",
       "      <th></th>\n",
       "      <th>epsilon</th>\n",
       "      <th>type</th>\n",
       "      <th>sigma</th>\n",
       "      <th colspan=\"6\" halign=\"left\">Model 4 (2 free pars)</th>\n",
       "    </tr>\n",
       "    <tr>\n",
       "      <th></th>\n",
       "      <th></th>\n",
       "      <th></th>\n",
       "      <th></th>\n",
       "      <th>k</th>\n",
       "      <th>k err</th>\n",
       "      <th>rho</th>\n",
       "      <th>rho err</th>\n",
       "      <th>lambda</th>\n",
       "      <th>Chi2</th>\n",
       "    </tr>\n",
       "  </thead>\n",
       "  <tbody>\n",
       "    <tr>\n",
       "      <th>0</th>\n",
       "      <td>2.0</td>\n",
       "      <td>real</td>\n",
       "      <td>NaN</td>\n",
       "      <td>0.291919</td>\n",
       "      <td>0.019192</td>\n",
       "      <td>2.528580</td>\n",
       "      <td>0.000488</td>\n",
       "      <td>0.5</td>\n",
       "      <td>0.000167</td>\n",
       "    </tr>\n",
       "    <tr>\n",
       "      <th>1</th>\n",
       "      <td>2.0</td>\n",
       "      <td>gaussian</td>\n",
       "      <td>0.3</td>\n",
       "      <td>0.311111</td>\n",
       "      <td>0.019192</td>\n",
       "      <td>2.800042</td>\n",
       "      <td>0.001302</td>\n",
       "      <td>0.5</td>\n",
       "      <td>0.000963</td>\n",
       "    </tr>\n",
       "    <tr>\n",
       "      <th>2</th>\n",
       "      <td>6.0</td>\n",
       "      <td>real</td>\n",
       "      <td>NaN</td>\n",
       "      <td>0.349495</td>\n",
       "      <td>0.019192</td>\n",
       "      <td>3.203132</td>\n",
       "      <td>0.000280</td>\n",
       "      <td>0.5</td>\n",
       "      <td>0.000036</td>\n",
       "    </tr>\n",
       "    <tr>\n",
       "      <th>3</th>\n",
       "      <td>6.0</td>\n",
       "      <td>gaussian</td>\n",
       "      <td>0.3</td>\n",
       "      <td>0.368687</td>\n",
       "      <td>0.019192</td>\n",
       "      <td>3.556280</td>\n",
       "      <td>0.000883</td>\n",
       "      <td>0.5</td>\n",
       "      <td>0.000269</td>\n",
       "    </tr>\n",
       "    <tr>\n",
       "      <th>4</th>\n",
       "      <td>10.0</td>\n",
       "      <td>real</td>\n",
       "      <td>NaN</td>\n",
       "      <td>0.387879</td>\n",
       "      <td>0.019192</td>\n",
       "      <td>3.729218</td>\n",
       "      <td>0.000384</td>\n",
       "      <td>0.5</td>\n",
       "      <td>0.000048</td>\n",
       "    </tr>\n",
       "    <tr>\n",
       "      <th>5</th>\n",
       "      <td>10.0</td>\n",
       "      <td>gaussian</td>\n",
       "      <td>0.3</td>\n",
       "      <td>0.407071</td>\n",
       "      <td>0.019192</td>\n",
       "      <td>4.146752</td>\n",
       "      <td>0.000676</td>\n",
       "      <td>0.5</td>\n",
       "      <td>0.000120</td>\n",
       "    </tr>\n",
       "    <tr>\n",
       "      <th>6</th>\n",
       "      <td>14.0</td>\n",
       "      <td>real</td>\n",
       "      <td>NaN</td>\n",
       "      <td>0.407071</td>\n",
       "      <td>0.019192</td>\n",
       "      <td>3.999251</td>\n",
       "      <td>0.000806</td>\n",
       "      <td>0.5</td>\n",
       "      <td>0.000194</td>\n",
       "    </tr>\n",
       "    <tr>\n",
       "      <th>7</th>\n",
       "      <td>14.0</td>\n",
       "      <td>gaussian</td>\n",
       "      <td>0.3</td>\n",
       "      <td>0.426263</td>\n",
       "      <td>0.019192</td>\n",
       "      <td>4.459445</td>\n",
       "      <td>0.000557</td>\n",
       "      <td>0.5</td>\n",
       "      <td>0.000071</td>\n",
       "    </tr>\n",
       "    <tr>\n",
       "      <th>8</th>\n",
       "      <td>18.0</td>\n",
       "      <td>real</td>\n",
       "      <td>NaN</td>\n",
       "      <td>0.445455</td>\n",
       "      <td>0.019192</td>\n",
       "      <td>4.648181</td>\n",
       "      <td>0.001130</td>\n",
       "      <td>0.5</td>\n",
       "      <td>0.000251</td>\n",
       "    </tr>\n",
       "    <tr>\n",
       "      <th>9</th>\n",
       "      <td>18.0</td>\n",
       "      <td>gaussian</td>\n",
       "      <td>0.3</td>\n",
       "      <td>0.426263</td>\n",
       "      <td>0.019192</td>\n",
       "      <td>4.426356</td>\n",
       "      <td>0.000606</td>\n",
       "      <td>0.5</td>\n",
       "      <td>0.000074</td>\n",
       "    </tr>\n",
       "    <tr>\n",
       "      <th>10</th>\n",
       "      <td>22.0</td>\n",
       "      <td>real</td>\n",
       "      <td>NaN</td>\n",
       "      <td>0.464646</td>\n",
       "      <td>0.019192</td>\n",
       "      <td>4.977479</td>\n",
       "      <td>0.001708</td>\n",
       "      <td>0.5</td>\n",
       "      <td>0.000521</td>\n",
       "    </tr>\n",
       "    <tr>\n",
       "      <th>11</th>\n",
       "      <td>22.0</td>\n",
       "      <td>gaussian</td>\n",
       "      <td>0.3</td>\n",
       "      <td>0.445455</td>\n",
       "      <td>0.019192</td>\n",
       "      <td>4.763605</td>\n",
       "      <td>0.000431</td>\n",
       "      <td>0.5</td>\n",
       "      <td>0.000033</td>\n",
       "    </tr>\n",
       "    <tr>\n",
       "      <th>12</th>\n",
       "      <td>26.0</td>\n",
       "      <td>real</td>\n",
       "      <td>NaN</td>\n",
       "      <td>0.483838</td>\n",
       "      <td>0.019192</td>\n",
       "      <td>5.325588</td>\n",
       "      <td>0.002068</td>\n",
       "      <td>0.5</td>\n",
       "      <td>0.000665</td>\n",
       "    </tr>\n",
       "    <tr>\n",
       "      <th>13</th>\n",
       "      <td>26.0</td>\n",
       "      <td>gaussian</td>\n",
       "      <td>0.3</td>\n",
       "      <td>0.464646</td>\n",
       "      <td>0.019192</td>\n",
       "      <td>5.121889</td>\n",
       "      <td>0.000448</td>\n",
       "      <td>0.5</td>\n",
       "      <td>0.000034</td>\n",
       "    </tr>\n",
       "    <tr>\n",
       "      <th>14</th>\n",
       "      <td>30.0</td>\n",
       "      <td>real</td>\n",
       "      <td>NaN</td>\n",
       "      <td>0.503030</td>\n",
       "      <td>0.019192</td>\n",
       "      <td>5.698385</td>\n",
       "      <td>0.002294</td>\n",
       "      <td>0.5</td>\n",
       "      <td>0.000697</td>\n",
       "    </tr>\n",
       "    <tr>\n",
       "      <th>15</th>\n",
       "      <td>30.0</td>\n",
       "      <td>gaussian</td>\n",
       "      <td>0.3</td>\n",
       "      <td>0.483838</td>\n",
       "      <td>0.019192</td>\n",
       "      <td>5.499997</td>\n",
       "      <td>0.000654</td>\n",
       "      <td>0.5</td>\n",
       "      <td>0.000065</td>\n",
       "    </tr>\n",
       "  </tbody>\n",
       "</table>\n",
       "</div>"
      ],
      "text/plain": [
       "   epsilon      type sigma Model 4 (2 free pars)                      \\\n",
       "                                               k     k err       rho   \n",
       "0      2.0      real   NaN              0.291919  0.019192  2.528580   \n",
       "1      2.0  gaussian   0.3              0.311111  0.019192  2.800042   \n",
       "2      6.0      real   NaN              0.349495  0.019192  3.203132   \n",
       "3      6.0  gaussian   0.3              0.368687  0.019192  3.556280   \n",
       "4     10.0      real   NaN              0.387879  0.019192  3.729218   \n",
       "5     10.0  gaussian   0.3              0.407071  0.019192  4.146752   \n",
       "6     14.0      real   NaN              0.407071  0.019192  3.999251   \n",
       "7     14.0  gaussian   0.3              0.426263  0.019192  4.459445   \n",
       "8     18.0      real   NaN              0.445455  0.019192  4.648181   \n",
       "9     18.0  gaussian   0.3              0.426263  0.019192  4.426356   \n",
       "10    22.0      real   NaN              0.464646  0.019192  4.977479   \n",
       "11    22.0  gaussian   0.3              0.445455  0.019192  4.763605   \n",
       "12    26.0      real   NaN              0.483838  0.019192  5.325588   \n",
       "13    26.0  gaussian   0.3              0.464646  0.019192  5.121889   \n",
       "14    30.0      real   NaN              0.503030  0.019192  5.698385   \n",
       "15    30.0  gaussian   0.3              0.483838  0.019192  5.499997   \n",
       "\n",
       "                               \n",
       "     rho err lambda      Chi2  \n",
       "0   0.000488    0.5  0.000167  \n",
       "1   0.001302    0.5  0.000963  \n",
       "2   0.000280    0.5  0.000036  \n",
       "3   0.000883    0.5  0.000269  \n",
       "4   0.000384    0.5  0.000048  \n",
       "5   0.000676    0.5  0.000120  \n",
       "6   0.000806    0.5  0.000194  \n",
       "7   0.000557    0.5  0.000071  \n",
       "8   0.001130    0.5  0.000251  \n",
       "9   0.000606    0.5  0.000074  \n",
       "10  0.001708    0.5  0.000521  \n",
       "11  0.000431    0.5  0.000033  \n",
       "12  0.002068    0.5  0.000665  \n",
       "13  0.000448    0.5  0.000034  \n",
       "14  0.002294    0.5  0.000697  \n",
       "15  0.000654    0.5  0.000065  "
      ]
     },
     "execution_count": 21,
     "metadata": {},
     "output_type": "execute_result"
    }
   ],
   "source": [
    "fitting_data[[\"epsilon\", \"type\", \"sigma\", \"Model 4 (2 free pars)\"]]"
   ]
  },
  {
   "cell_type": "code",
   "execution_count": 22,
   "metadata": {
    "scrolled": true
   },
   "outputs": [
    {
     "data": {
      "text/html": [
       "<div>\n",
       "<style scoped>\n",
       "    .dataframe tbody tr th:only-of-type {\n",
       "        vertical-align: middle;\n",
       "    }\n",
       "\n",
       "    .dataframe tbody tr th {\n",
       "        vertical-align: top;\n",
       "    }\n",
       "\n",
       "    .dataframe thead tr th {\n",
       "        text-align: left;\n",
       "    }\n",
       "</style>\n",
       "<table border=\"1\" class=\"dataframe\">\n",
       "  <thead>\n",
       "    <tr>\n",
       "      <th></th>\n",
       "      <th>epsilon</th>\n",
       "      <th>type</th>\n",
       "      <th>sigma</th>\n",
       "      <th colspan=\"8\" halign=\"left\">Model 4 (3 free pars)</th>\n",
       "    </tr>\n",
       "    <tr>\n",
       "      <th></th>\n",
       "      <th></th>\n",
       "      <th></th>\n",
       "      <th></th>\n",
       "      <th>k</th>\n",
       "      <th>k err</th>\n",
       "      <th>rho</th>\n",
       "      <th>rho err</th>\n",
       "      <th>N0</th>\n",
       "      <th>N0 err</th>\n",
       "      <th>lambda</th>\n",
       "      <th>Chi2</th>\n",
       "    </tr>\n",
       "  </thead>\n",
       "  <tbody>\n",
       "    <tr>\n",
       "      <th>0</th>\n",
       "      <td>2.0</td>\n",
       "      <td>real</td>\n",
       "      <td>NaN</td>\n",
       "      <td>0.234343</td>\n",
       "      <td>0.019192</td>\n",
       "      <td>1.841246</td>\n",
       "      <td>0.001831</td>\n",
       "      <td>4.485465</td>\n",
       "      <td>0.210999</td>\n",
       "      <td>0.5</td>\n",
       "      <td>0.000110</td>\n",
       "    </tr>\n",
       "    <tr>\n",
       "      <th>1</th>\n",
       "      <td>2.0</td>\n",
       "      <td>gaussian</td>\n",
       "      <td>0.3</td>\n",
       "      <td>0.157576</td>\n",
       "      <td>0.019192</td>\n",
       "      <td>1.228276</td>\n",
       "      <td>0.000420</td>\n",
       "      <td>104.759663</td>\n",
       "      <td>1.681834</td>\n",
       "      <td>0.5</td>\n",
       "      <td>0.000057</td>\n",
       "    </tr>\n",
       "    <tr>\n",
       "      <th>2</th>\n",
       "      <td>6.0</td>\n",
       "      <td>real</td>\n",
       "      <td>NaN</td>\n",
       "      <td>0.368687</td>\n",
       "      <td>0.019192</td>\n",
       "      <td>3.529348</td>\n",
       "      <td>0.002475</td>\n",
       "      <td>0.244450</td>\n",
       "      <td>0.006613</td>\n",
       "      <td>0.5</td>\n",
       "      <td>0.000026</td>\n",
       "    </tr>\n",
       "    <tr>\n",
       "      <th>3</th>\n",
       "      <td>6.0</td>\n",
       "      <td>gaussian</td>\n",
       "      <td>0.3</td>\n",
       "      <td>0.253535</td>\n",
       "      <td>0.019192</td>\n",
       "      <td>1.954448</td>\n",
       "      <td>0.001489</td>\n",
       "      <td>14.358209</td>\n",
       "      <td>0.423139</td>\n",
       "      <td>0.5</td>\n",
       "      <td>0.000103</td>\n",
       "    </tr>\n",
       "    <tr>\n",
       "      <th>4</th>\n",
       "      <td>10.0</td>\n",
       "      <td>real</td>\n",
       "      <td>NaN</td>\n",
       "      <td>0.483838</td>\n",
       "      <td>0.019192</td>\n",
       "      <td>6.120074</td>\n",
       "      <td>0.003990</td>\n",
       "      <td>0.023326</td>\n",
       "      <td>0.000526</td>\n",
       "      <td>0.5</td>\n",
       "      <td>0.000015</td>\n",
       "    </tr>\n",
       "    <tr>\n",
       "      <th>5</th>\n",
       "      <td>10.0</td>\n",
       "      <td>gaussian</td>\n",
       "      <td>0.3</td>\n",
       "      <td>0.330303</td>\n",
       "      <td>0.019192</td>\n",
       "      <td>2.815163</td>\n",
       "      <td>0.002020</td>\n",
       "      <td>3.154664</td>\n",
       "      <td>0.078732</td>\n",
       "      <td>0.5</td>\n",
       "      <td>0.000053</td>\n",
       "    </tr>\n",
       "    <tr>\n",
       "      <th>6</th>\n",
       "      <td>14.0</td>\n",
       "      <td>real</td>\n",
       "      <td>NaN</td>\n",
       "      <td>0.541414</td>\n",
       "      <td>0.019192</td>\n",
       "      <td>7.856494</td>\n",
       "      <td>0.009307</td>\n",
       "      <td>0.013519</td>\n",
       "      <td>0.000513</td>\n",
       "      <td>0.5</td>\n",
       "      <td>0.000047</td>\n",
       "    </tr>\n",
       "    <tr>\n",
       "      <th>7</th>\n",
       "      <td>14.0</td>\n",
       "      <td>gaussian</td>\n",
       "      <td>0.3</td>\n",
       "      <td>0.368687</td>\n",
       "      <td>0.019192</td>\n",
       "      <td>3.348571</td>\n",
       "      <td>0.001954</td>\n",
       "      <td>1.746794</td>\n",
       "      <td>0.033551</td>\n",
       "      <td>0.5</td>\n",
       "      <td>0.000030</td>\n",
       "    </tr>\n",
       "    <tr>\n",
       "      <th>8</th>\n",
       "      <td>18.0</td>\n",
       "      <td>real</td>\n",
       "      <td>NaN</td>\n",
       "      <td>0.579798</td>\n",
       "      <td>0.019192</td>\n",
       "      <td>9.189829</td>\n",
       "      <td>0.014074</td>\n",
       "      <td>0.011185</td>\n",
       "      <td>0.000519</td>\n",
       "      <td>0.5</td>\n",
       "      <td>0.000077</td>\n",
       "    </tr>\n",
       "    <tr>\n",
       "      <th>9</th>\n",
       "      <td>18.0</td>\n",
       "      <td>gaussian</td>\n",
       "      <td>0.3</td>\n",
       "      <td>0.387879</td>\n",
       "      <td>0.019192</td>\n",
       "      <td>3.620568</td>\n",
       "      <td>0.001477</td>\n",
       "      <td>1.518145</td>\n",
       "      <td>0.019630</td>\n",
       "      <td>0.5</td>\n",
       "      <td>0.000014</td>\n",
       "    </tr>\n",
       "    <tr>\n",
       "      <th>10</th>\n",
       "      <td>22.0</td>\n",
       "      <td>real</td>\n",
       "      <td>NaN</td>\n",
       "      <td>0.618182</td>\n",
       "      <td>0.019192</td>\n",
       "      <td>10.682352</td>\n",
       "      <td>0.029054</td>\n",
       "      <td>0.010497</td>\n",
       "      <td>0.000816</td>\n",
       "      <td>0.5</td>\n",
       "      <td>0.000238</td>\n",
       "    </tr>\n",
       "    <tr>\n",
       "      <th>11</th>\n",
       "      <td>22.0</td>\n",
       "      <td>gaussian</td>\n",
       "      <td>0.3</td>\n",
       "      <td>0.407071</td>\n",
       "      <td>0.019192</td>\n",
       "      <td>3.923020</td>\n",
       "      <td>0.001533</td>\n",
       "      <td>1.252694</td>\n",
       "      <td>0.015045</td>\n",
       "      <td>0.5</td>\n",
       "      <td>0.000012</td>\n",
       "    </tr>\n",
       "    <tr>\n",
       "      <th>12</th>\n",
       "      <td>26.0</td>\n",
       "      <td>real</td>\n",
       "      <td>NaN</td>\n",
       "      <td>0.637374</td>\n",
       "      <td>0.019192</td>\n",
       "      <td>11.295762</td>\n",
       "      <td>0.034680</td>\n",
       "      <td>0.014639</td>\n",
       "      <td>0.001222</td>\n",
       "      <td>0.5</td>\n",
       "      <td>0.000313</td>\n",
       "    </tr>\n",
       "    <tr>\n",
       "      <th>13</th>\n",
       "      <td>26.0</td>\n",
       "      <td>gaussian</td>\n",
       "      <td>0.3</td>\n",
       "      <td>0.426263</td>\n",
       "      <td>0.019192</td>\n",
       "      <td>4.243256</td>\n",
       "      <td>0.002111</td>\n",
       "      <td>1.075317</td>\n",
       "      <td>0.015910</td>\n",
       "      <td>0.5</td>\n",
       "      <td>0.000020</td>\n",
       "    </tr>\n",
       "    <tr>\n",
       "      <th>14</th>\n",
       "      <td>30.0</td>\n",
       "      <td>real</td>\n",
       "      <td>NaN</td>\n",
       "      <td>0.637374</td>\n",
       "      <td>0.019192</td>\n",
       "      <td>10.953281</td>\n",
       "      <td>0.034471</td>\n",
       "      <td>0.025527</td>\n",
       "      <td>0.002111</td>\n",
       "      <td>0.5</td>\n",
       "      <td>0.000354</td>\n",
       "    </tr>\n",
       "    <tr>\n",
       "      <th>15</th>\n",
       "      <td>30.0</td>\n",
       "      <td>gaussian</td>\n",
       "      <td>0.3</td>\n",
       "      <td>0.464646</td>\n",
       "      <td>0.019192</td>\n",
       "      <td>5.030415</td>\n",
       "      <td>0.004125</td>\n",
       "      <td>0.625912</td>\n",
       "      <td>0.014663</td>\n",
       "      <td>0.5</td>\n",
       "      <td>0.000049</td>\n",
       "    </tr>\n",
       "  </tbody>\n",
       "</table>\n",
       "</div>"
      ],
      "text/plain": [
       "   epsilon      type sigma Model 4 (3 free pars)                       \\\n",
       "                                               k     k err        rho   \n",
       "0      2.0      real   NaN              0.234343  0.019192   1.841246   \n",
       "1      2.0  gaussian   0.3              0.157576  0.019192   1.228276   \n",
       "2      6.0      real   NaN              0.368687  0.019192   3.529348   \n",
       "3      6.0  gaussian   0.3              0.253535  0.019192   1.954448   \n",
       "4     10.0      real   NaN              0.483838  0.019192   6.120074   \n",
       "5     10.0  gaussian   0.3              0.330303  0.019192   2.815163   \n",
       "6     14.0      real   NaN              0.541414  0.019192   7.856494   \n",
       "7     14.0  gaussian   0.3              0.368687  0.019192   3.348571   \n",
       "8     18.0      real   NaN              0.579798  0.019192   9.189829   \n",
       "9     18.0  gaussian   0.3              0.387879  0.019192   3.620568   \n",
       "10    22.0      real   NaN              0.618182  0.019192  10.682352   \n",
       "11    22.0  gaussian   0.3              0.407071  0.019192   3.923020   \n",
       "12    26.0      real   NaN              0.637374  0.019192  11.295762   \n",
       "13    26.0  gaussian   0.3              0.426263  0.019192   4.243256   \n",
       "14    30.0      real   NaN              0.637374  0.019192  10.953281   \n",
       "15    30.0  gaussian   0.3              0.464646  0.019192   5.030415   \n",
       "\n",
       "                                                     \n",
       "     rho err          N0    N0 err lambda      Chi2  \n",
       "0   0.001831    4.485465  0.210999    0.5  0.000110  \n",
       "1   0.000420  104.759663  1.681834    0.5  0.000057  \n",
       "2   0.002475    0.244450  0.006613    0.5  0.000026  \n",
       "3   0.001489   14.358209  0.423139    0.5  0.000103  \n",
       "4   0.003990    0.023326  0.000526    0.5  0.000015  \n",
       "5   0.002020    3.154664  0.078732    0.5  0.000053  \n",
       "6   0.009307    0.013519  0.000513    0.5  0.000047  \n",
       "7   0.001954    1.746794  0.033551    0.5  0.000030  \n",
       "8   0.014074    0.011185  0.000519    0.5  0.000077  \n",
       "9   0.001477    1.518145  0.019630    0.5  0.000014  \n",
       "10  0.029054    0.010497  0.000816    0.5  0.000238  \n",
       "11  0.001533    1.252694  0.015045    0.5  0.000012  \n",
       "12  0.034680    0.014639  0.001222    0.5  0.000313  \n",
       "13  0.002111    1.075317  0.015910    0.5  0.000020  \n",
       "14  0.034471    0.025527  0.002111    0.5  0.000354  \n",
       "15  0.004125    0.625912  0.014663    0.5  0.000049  "
      ]
     },
     "execution_count": 22,
     "metadata": {},
     "output_type": "execute_result"
    }
   ],
   "source": [
    "fitting_data[[\"epsilon\", \"type\", \"sigma\", \"Model 4 (3 free pars)\"]]"
   ]
  },
  {
   "cell_type": "markdown",
   "metadata": {},
   "source": [
    "# Fokker-Planck Fittings\n",
    "## Fixed $\\kappa$, exploring $I_\\ast$"
   ]
  },
  {
   "cell_type": "code",
   "execution_count": 25,
   "metadata": {},
   "outputs": [],
   "source": [
    "labels = (\n",
    "    (\"epsilon\", \"\"),\n",
    "    (\"type\", \"\"),\n",
    "    (\"sigma\", \"\"),\n",
    "    (\"Fokker-Planck\", \"I_star\"),\n",
    "    (\"Fokker-Planck\", \"time_scale\"),\n",
    "    (\"Fit data\", \"error\"),\n",
    ")\n",
    "\n",
    "fp_data = []\n",
    "fp_fit_data = pd.DataFrame(columns=pd.MultiIndex.from_tuples(labels))"
   ]
  },
  {
   "cell_type": "code",
   "execution_count": 26,
   "metadata": {
    "scrolled": true
   },
   "outputs": [
    {
     "data": {
      "application/vnd.jupyter.widget-view+json": {
       "model_id": "f8b5f830575c4be0a6b1b18d65d81659",
       "version_major": 2,
       "version_minor": 0
      },
      "text/plain": [
       "HBox(children=(FloatProgress(value=0.0, max=16.0), HTML(value='')))"
      ]
     },
     "metadata": {},
     "output_type": "display_data"
    },
    {
     "name": "stdout",
     "output_type": "stream",
     "text": [
      "k=0.23434343434343433, I_star=0.19, dt=0.01\n",
      "k=0.23434343434343433, I_star=0.2, dt=0.01\n",
      "k=0.23434343434343433, I_star=0.21000000000000002, dt=0.01\n",
      "Going UP!\n",
      "k=0.23434343434343433, I_star=0.22050000000000003, dt=0.01\n",
      "k=0.23434343434343433, I_star=0.23152500000000004, dt=0.01\n",
      "k=0.23434343434343433, I_star=0.24310125000000005, dt=0.01\n",
      "k=0.23434343434343433, I_star=0.2552563125000001, dt=0.01\n",
      "k=0.23434343434343433, I_star=0.2680191281250001, dt=0.01\n",
      "k=0.23434343434343433, I_star=0.2814200845312501, dt=0.01\n",
      "k=0.23434343434343433, I_star=0.29549108875781266, dt=0.01\n",
      "increase!\n",
      "k=0.23434343434343433, I_star=0.3102656431957033, dt=0.1\n",
      "k=0.23434343434343433, I_star=0.3257789253554885, dt=0.1\n",
      "k=0.1575757575757576, I_star=0.19, dt=0.01\n",
      "k=0.1575757575757576, I_star=0.2, dt=0.01\n",
      "k=0.1575757575757576, I_star=0.21000000000000002, dt=0.01\n",
      "Going UP!\n",
      "k=0.1575757575757576, I_star=0.22050000000000003, dt=0.01\n",
      "k=0.1575757575757576, I_star=0.23152500000000004, dt=0.01\n",
      "k=0.3686868686868686, I_star=0.19, dt=0.01\n",
      "k=0.3686868686868686, I_star=0.2, dt=0.01\n",
      "k=0.3686868686868686, I_star=0.21000000000000002, dt=0.01\n",
      "Going UP!\n",
      "k=0.3686868686868686, I_star=0.22050000000000003, dt=0.01\n",
      "k=0.3686868686868686, I_star=0.23152500000000004, dt=0.01\n",
      "k=0.3686868686868686, I_star=0.24310125000000005, dt=0.01\n",
      "k=0.3686868686868686, I_star=0.2552563125000001, dt=0.01\n",
      "k=0.3686868686868686, I_star=0.2680191281250001, dt=0.01\n",
      "k=0.3686868686868686, I_star=0.2814200845312501, dt=0.01\n",
      "k=0.3686868686868686, I_star=0.29549108875781266, dt=0.01\n",
      "k=0.3686868686868686, I_star=0.3102656431957033, dt=0.01\n",
      "k=0.3686868686868686, I_star=0.3257789253554885, dt=0.01\n",
      "k=0.3686868686868686, I_star=0.34206787162326296, dt=0.01\n",
      "k=0.3686868686868686, I_star=0.3591712652044261, dt=0.01\n",
      "k=0.3686868686868686, I_star=0.37712982846464743, dt=0.01\n",
      "k=0.3686868686868686, I_star=0.3959863198878798, dt=0.01\n",
      "k=0.3686868686868686, I_star=0.4157856358822738, dt=0.01\n",
      "k=0.3686868686868686, I_star=0.4365749176763875, dt=0.01\n",
      "k=0.3686868686868686, I_star=0.4584036635602069, dt=0.01\n",
      "increase!\n",
      "k=0.3686868686868686, I_star=0.48132384673821726, dt=0.1\n",
      "k=0.3686868686868686, I_star=0.5053900390751281, dt=0.1\n",
      "k=0.3686868686868686, I_star=0.5306595410288846, dt=0.1\n",
      "increase!\n",
      "k=0.3686868686868686, I_star=0.5571925180803289, dt=1.0\n",
      "k=0.3686868686868686, I_star=0.5850521439843454, dt=1.0\n",
      "increase!\n",
      "k=0.3686868686868686, I_star=0.6143047511835626, dt=10.0\n",
      "k=0.2535353535353535, I_star=0.19, dt=0.01\n",
      "k=0.2535353535353535, I_star=0.2, dt=0.01\n",
      "k=0.2535353535353535, I_star=0.21000000000000002, dt=0.01\n",
      "Going UP!\n",
      "k=0.2535353535353535, I_star=0.22050000000000003, dt=0.01\n",
      "k=0.2535353535353535, I_star=0.23152500000000004, dt=0.01\n",
      "k=0.2535353535353535, I_star=0.24310125000000005, dt=0.01\n",
      "k=0.2535353535353535, I_star=0.2552563125000001, dt=0.01\n",
      "k=0.2535353535353535, I_star=0.2680191281250001, dt=0.01\n",
      "k=0.2535353535353535, I_star=0.2814200845312501, dt=0.01\n",
      "k=0.2535353535353535, I_star=0.29549108875781266, dt=0.01\n",
      "k=0.2535353535353535, I_star=0.3102656431957033, dt=0.01\n",
      "k=0.2535353535353535, I_star=0.3257789253554885, dt=0.01\n",
      "k=0.48383838383838385, I_star=0.19, dt=0.01\n",
      "k=0.48383838383838385, I_star=0.2, dt=0.01\n",
      "k=0.48383838383838385, I_star=0.21000000000000002, dt=0.01\n",
      "Going UP!\n",
      "k=0.48383838383838385, I_star=0.22050000000000003, dt=0.01\n",
      "k=0.48383838383838385, I_star=0.23152500000000004, dt=0.01\n",
      "k=0.48383838383838385, I_star=0.24310125000000005, dt=0.01\n",
      "k=0.48383838383838385, I_star=0.2552563125000001, dt=0.01\n",
      "k=0.48383838383838385, I_star=0.2680191281250001, dt=0.01\n",
      "k=0.48383838383838385, I_star=0.2814200845312501, dt=0.01\n",
      "k=0.48383838383838385, I_star=0.29549108875781266, dt=0.01\n",
      "k=0.48383838383838385, I_star=0.3102656431957033, dt=0.01\n",
      "k=0.48383838383838385, I_star=0.3257789253554885, dt=0.01\n",
      "k=0.48383838383838385, I_star=0.34206787162326296, dt=0.01\n",
      "k=0.48383838383838385, I_star=0.3591712652044261, dt=0.01\n",
      "k=0.48383838383838385, I_star=0.37712982846464743, dt=0.01\n",
      "k=0.48383838383838385, I_star=0.3959863198878798, dt=0.01\n",
      "k=0.48383838383838385, I_star=0.4157856358822738, dt=0.01\n",
      "k=0.48383838383838385, I_star=0.4365749176763875, dt=0.01\n",
      "k=0.48383838383838385, I_star=0.4584036635602069, dt=0.01\n",
      "k=0.48383838383838385, I_star=0.48132384673821726, dt=0.01\n",
      "k=0.48383838383838385, I_star=0.5053900390751281, dt=0.01\n",
      "k=0.48383838383838385, I_star=0.5306595410288846, dt=0.01\n",
      "k=0.48383838383838385, I_star=0.5571925180803289, dt=0.01\n",
      "k=0.48383838383838385, I_star=0.5850521439843454, dt=0.01\n",
      "k=0.48383838383838385, I_star=0.6143047511835626, dt=0.01\n",
      "k=0.48383838383838385, I_star=0.6450199887427408, dt=0.01\n",
      "increase!\n",
      "k=0.48383838383838385, I_star=0.6772709881798779, dt=0.1\n",
      "k=0.48383838383838385, I_star=0.7111345375888718, dt=0.1\n",
      "k=0.48383838383838385, I_star=0.7466912644683155, dt=0.1\n",
      "k=0.48383838383838385, I_star=0.7840258276917312, dt=0.1\n",
      "increase!\n",
      "k=0.48383838383838385, I_star=0.8232271190763178, dt=1.0\n",
      "k=0.48383838383838385, I_star=0.8643884750301338, dt=1.0\n",
      "k=0.48383838383838385, I_star=0.9076078987816406, dt=1.0\n",
      "increase!\n",
      "k=0.48383838383838385, I_star=0.9529882937207227, dt=10.0\n",
      "k=0.48383838383838385, I_star=1.0006377084067588, dt=10.0\n",
      "k=0.48383838383838385, I_star=1.050669593827097, dt=10.0\n",
      "increase!\n",
      "k=0.48383838383838385, I_star=1.1032030735184517, dt=100.0\n",
      "k=0.48383838383838385, I_star=1.1583632271943742, dt=100.0\n",
      "k=0.3303030303030303, I_star=0.19, dt=0.01\n",
      "k=0.3303030303030303, I_star=0.2, dt=0.01\n",
      "k=0.3303030303030303, I_star=0.21000000000000002, dt=0.01\n",
      "Going UP!\n",
      "k=0.3303030303030303, I_star=0.22050000000000003, dt=0.01\n",
      "k=0.3303030303030303, I_star=0.23152500000000004, dt=0.01\n",
      "k=0.3303030303030303, I_star=0.24310125000000005, dt=0.01\n",
      "k=0.3303030303030303, I_star=0.2552563125000001, dt=0.01\n",
      "k=0.3303030303030303, I_star=0.2680191281250001, dt=0.01\n",
      "k=0.3303030303030303, I_star=0.2814200845312501, dt=0.01\n",
      "k=0.3303030303030303, I_star=0.29549108875781266, dt=0.01\n",
      "k=0.3303030303030303, I_star=0.3102656431957033, dt=0.01\n",
      "k=0.3303030303030303, I_star=0.3257789253554885, dt=0.01\n",
      "k=0.3303030303030303, I_star=0.34206787162326296, dt=0.01\n",
      "k=0.3303030303030303, I_star=0.3591712652044261, dt=0.01\n",
      "k=0.3303030303030303, I_star=0.37712982846464743, dt=0.01\n",
      "k=0.3303030303030303, I_star=0.3959863198878798, dt=0.01\n",
      "increase!\n",
      "k=0.3303030303030303, I_star=0.4157856358822738, dt=0.1\n",
      "k=0.3303030303030303, I_star=0.4365749176763875, dt=0.1\n",
      "k=0.3303030303030303, I_star=0.4584036635602069, dt=0.1\n",
      "k=0.5414141414141413, I_star=0.19, dt=0.01\n",
      "k=0.5414141414141413, I_star=0.2, dt=0.01\n",
      "k=0.5414141414141413, I_star=0.21000000000000002, dt=0.01\n",
      "Going UP!\n",
      "k=0.5414141414141413, I_star=0.22050000000000003, dt=0.01\n",
      "k=0.5414141414141413, I_star=0.23152500000000004, dt=0.01\n",
      "k=0.5414141414141413, I_star=0.24310125000000005, dt=0.01\n",
      "k=0.5414141414141413, I_star=0.2552563125000001, dt=0.01\n",
      "k=0.5414141414141413, I_star=0.2680191281250001, dt=0.01\n",
      "k=0.5414141414141413, I_star=0.2814200845312501, dt=0.01\n",
      "k=0.5414141414141413, I_star=0.29549108875781266, dt=0.01\n",
      "k=0.5414141414141413, I_star=0.3102656431957033, dt=0.01\n",
      "k=0.5414141414141413, I_star=0.3257789253554885, dt=0.01\n",
      "k=0.5414141414141413, I_star=0.34206787162326296, dt=0.01\n",
      "k=0.5414141414141413, I_star=0.3591712652044261, dt=0.01\n",
      "k=0.5414141414141413, I_star=0.37712982846464743, dt=0.01\n",
      "k=0.5414141414141413, I_star=0.3959863198878798, dt=0.01\n",
      "k=0.5414141414141413, I_star=0.4157856358822738, dt=0.01\n",
      "k=0.5414141414141413, I_star=0.4365749176763875, dt=0.01\n",
      "k=0.5414141414141413, I_star=0.4584036635602069, dt=0.01\n",
      "k=0.5414141414141413, I_star=0.48132384673821726, dt=0.01\n",
      "k=0.5414141414141413, I_star=0.5053900390751281, dt=0.01\n",
      "k=0.5414141414141413, I_star=0.5306595410288846, dt=0.01\n",
      "k=0.5414141414141413, I_star=0.5571925180803289, dt=0.01\n",
      "k=0.5414141414141413, I_star=0.5850521439843454, dt=0.01\n",
      "k=0.5414141414141413, I_star=0.6143047511835626, dt=0.01\n",
      "k=0.5414141414141413, I_star=0.6450199887427408, dt=0.01\n",
      "k=0.5414141414141413, I_star=0.6772709881798779, dt=0.01\n",
      "k=0.5414141414141413, I_star=0.7111345375888718, dt=0.01\n",
      "k=0.5414141414141413, I_star=0.7466912644683155, dt=0.01\n",
      "increase!\n",
      "k=0.5414141414141413, I_star=0.7840258276917312, dt=0.1\n",
      "k=0.5414141414141413, I_star=0.8232271190763178, dt=0.1\n",
      "k=0.5414141414141413, I_star=0.8643884750301338, dt=0.1\n",
      "k=0.5414141414141413, I_star=0.9076078987816406, dt=0.1\n",
      "k=0.5414141414141413, I_star=0.9529882937207227, dt=0.1\n",
      "increase!\n",
      "k=0.5414141414141413, I_star=1.0006377084067588, dt=1.0\n",
      "k=0.5414141414141413, I_star=1.050669593827097, dt=1.0\n",
      "k=0.5414141414141413, I_star=1.1032030735184517, dt=1.0\n",
      "k=0.5414141414141413, I_star=1.1583632271943742, dt=1.0\n",
      "increase!\n",
      "k=0.5414141414141413, I_star=1.216281388554093, dt=10.0\n",
      "k=0.5414141414141413, I_star=1.2770954579817977, dt=10.0\n",
      "k=0.5414141414141413, I_star=1.3409502308808876, dt=10.0\n",
      "increase!\n",
      "k=0.5414141414141413, I_star=1.4079977424249321, dt=100.0\n",
      "k=0.5414141414141413, I_star=1.4783976295461787, dt=100.0\n",
      "k=0.3686868686868686, I_star=0.19, dt=0.01\n",
      "k=0.3686868686868686, I_star=0.2, dt=0.01\n",
      "k=0.3686868686868686, I_star=0.21000000000000002, dt=0.01\n",
      "Going UP!\n",
      "k=0.3686868686868686, I_star=0.22050000000000003, dt=0.01\n",
      "k=0.3686868686868686, I_star=0.23152500000000004, dt=0.01\n",
      "k=0.3686868686868686, I_star=0.24310125000000005, dt=0.01\n",
      "k=0.3686868686868686, I_star=0.2552563125000001, dt=0.01\n",
      "k=0.3686868686868686, I_star=0.2680191281250001, dt=0.01\n",
      "k=0.3686868686868686, I_star=0.2814200845312501, dt=0.01\n",
      "k=0.3686868686868686, I_star=0.29549108875781266, dt=0.01\n",
      "k=0.3686868686868686, I_star=0.3102656431957033, dt=0.01\n",
      "k=0.3686868686868686, I_star=0.3257789253554885, dt=0.01\n",
      "k=0.3686868686868686, I_star=0.34206787162326296, dt=0.01\n",
      "k=0.3686868686868686, I_star=0.3591712652044261, dt=0.01\n",
      "k=0.3686868686868686, I_star=0.37712982846464743, dt=0.01\n",
      "k=0.3686868686868686, I_star=0.3959863198878798, dt=0.01\n",
      "k=0.3686868686868686, I_star=0.4157856358822738, dt=0.01\n",
      "k=0.3686868686868686, I_star=0.4365749176763875, dt=0.01\n",
      "k=0.3686868686868686, I_star=0.4584036635602069, dt=0.01\n",
      "increase!\n",
      "k=0.3686868686868686, I_star=0.48132384673821726, dt=0.1\n",
      "k=0.3686868686868686, I_star=0.5053900390751281, dt=0.1\n",
      "k=0.3686868686868686, I_star=0.5306595410288846, dt=0.1\n",
      "increase!\n",
      "k=0.3686868686868686, I_star=0.5571925180803289, dt=1.0\n",
      "k=0.5797979797979798, I_star=0.19, dt=0.01\n",
      "k=0.5797979797979798, I_star=0.2, dt=0.01\n",
      "k=0.5797979797979798, I_star=0.21000000000000002, dt=0.01\n",
      "Going UP!\n",
      "k=0.5797979797979798, I_star=0.22050000000000003, dt=0.01\n",
      "k=0.5797979797979798, I_star=0.23152500000000004, dt=0.01\n",
      "k=0.5797979797979798, I_star=0.24310125000000005, dt=0.01\n",
      "k=0.5797979797979798, I_star=0.2552563125000001, dt=0.01\n",
      "k=0.5797979797979798, I_star=0.2680191281250001, dt=0.01\n",
      "k=0.5797979797979798, I_star=0.2814200845312501, dt=0.01\n",
      "k=0.5797979797979798, I_star=0.29549108875781266, dt=0.01\n",
      "k=0.5797979797979798, I_star=0.3102656431957033, dt=0.01\n",
      "k=0.5797979797979798, I_star=0.3257789253554885, dt=0.01\n",
      "k=0.5797979797979798, I_star=0.34206787162326296, dt=0.01\n",
      "k=0.5797979797979798, I_star=0.3591712652044261, dt=0.01\n",
      "k=0.5797979797979798, I_star=0.37712982846464743, dt=0.01\n",
      "k=0.5797979797979798, I_star=0.3959863198878798, dt=0.01\n",
      "k=0.5797979797979798, I_star=0.4157856358822738, dt=0.01\n",
      "k=0.5797979797979798, I_star=0.4365749176763875, dt=0.01\n",
      "k=0.5797979797979798, I_star=0.4584036635602069, dt=0.01\n",
      "k=0.5797979797979798, I_star=0.48132384673821726, dt=0.01\n",
      "k=0.5797979797979798, I_star=0.5053900390751281, dt=0.01\n",
      "k=0.5797979797979798, I_star=0.5306595410288846, dt=0.01\n",
      "k=0.5797979797979798, I_star=0.5571925180803289, dt=0.01\n",
      "k=0.5797979797979798, I_star=0.5850521439843454, dt=0.01\n",
      "k=0.5797979797979798, I_star=0.6143047511835626, dt=0.01\n",
      "k=0.5797979797979798, I_star=0.6450199887427408, dt=0.01\n",
      "k=0.5797979797979798, I_star=0.6772709881798779, dt=0.01\n",
      "k=0.5797979797979798, I_star=0.7111345375888718, dt=0.01\n",
      "k=0.5797979797979798, I_star=0.7466912644683155, dt=0.01\n",
      "k=0.5797979797979798, I_star=0.7840258276917312, dt=0.01\n",
      "k=0.5797979797979798, I_star=0.8232271190763178, dt=0.01\n",
      "increase!\n",
      "k=0.5797979797979798, I_star=0.8643884750301338, dt=0.1\n",
      "k=0.5797979797979798, I_star=0.9076078987816406, dt=0.1\n",
      "k=0.5797979797979798, I_star=0.9529882937207227, dt=0.1\n",
      "k=0.5797979797979798, I_star=1.0006377084067588, dt=0.1\n",
      "k=0.5797979797979798, I_star=1.050669593827097, dt=0.1\n",
      "increase!\n",
      "k=0.5797979797979798, I_star=1.1032030735184517, dt=1.0\n",
      "k=0.5797979797979798, I_star=1.1583632271943742, dt=1.0\n",
      "k=0.5797979797979798, I_star=1.216281388554093, dt=1.0\n",
      "k=0.5797979797979798, I_star=1.2770954579817977, dt=1.0\n",
      "increase!\n",
      "k=0.5797979797979798, I_star=1.3409502308808876, dt=10.0\n",
      "k=0.5797979797979798, I_star=1.4079977424249321, dt=10.0\n",
      "k=0.5797979797979798, I_star=1.4783976295461787, dt=10.0\n",
      "k=0.5797979797979798, I_star=1.5523175110234877, dt=10.0\n",
      "increase!\n",
      "k=0.5797979797979798, I_star=1.6299333865746621, dt=100.0\n",
      "k=0.3878787878787878, I_star=0.19, dt=0.01\n",
      "k=0.3878787878787878, I_star=0.2, dt=0.01\n",
      "k=0.3878787878787878, I_star=0.21000000000000002, dt=0.01\n",
      "Going UP!\n",
      "k=0.3878787878787878, I_star=0.22050000000000003, dt=0.01\n",
      "k=0.3878787878787878, I_star=0.23152500000000004, dt=0.01\n",
      "k=0.3878787878787878, I_star=0.24310125000000005, dt=0.01\n",
      "k=0.3878787878787878, I_star=0.2552563125000001, dt=0.01\n",
      "k=0.3878787878787878, I_star=0.2680191281250001, dt=0.01\n",
      "k=0.3878787878787878, I_star=0.2814200845312501, dt=0.01\n",
      "k=0.3878787878787878, I_star=0.29549108875781266, dt=0.01\n",
      "k=0.3878787878787878, I_star=0.3102656431957033, dt=0.01\n",
      "k=0.3878787878787878, I_star=0.3257789253554885, dt=0.01\n",
      "k=0.3878787878787878, I_star=0.34206787162326296, dt=0.01\n",
      "k=0.3878787878787878, I_star=0.3591712652044261, dt=0.01\n",
      "k=0.3878787878787878, I_star=0.37712982846464743, dt=0.01\n",
      "k=0.3878787878787878, I_star=0.3959863198878798, dt=0.01\n",
      "k=0.3878787878787878, I_star=0.4157856358822738, dt=0.01\n",
      "k=0.3878787878787878, I_star=0.4365749176763875, dt=0.01\n",
      "k=0.3878787878787878, I_star=0.4584036635602069, dt=0.01\n",
      "k=0.3878787878787878, I_star=0.48132384673821726, dt=0.01\n",
      "increase!\n",
      "k=0.3878787878787878, I_star=0.5053900390751281, dt=0.1\n",
      "k=0.3878787878787878, I_star=0.5306595410288846, dt=0.1\n",
      "k=0.3878787878787878, I_star=0.5571925180803289, dt=0.1\n",
      "increase!\n",
      "k=0.3878787878787878, I_star=0.5850521439843454, dt=1.0\n",
      "k=0.6181818181818182, I_star=0.19, dt=0.01\n",
      "k=0.6181818181818182, I_star=0.2, dt=0.01\n",
      "k=0.6181818181818182, I_star=0.21000000000000002, dt=0.01\n",
      "Going UP!\n",
      "k=0.6181818181818182, I_star=0.22050000000000003, dt=0.01\n",
      "k=0.6181818181818182, I_star=0.23152500000000004, dt=0.01\n",
      "k=0.6181818181818182, I_star=0.24310125000000005, dt=0.01\n",
      "k=0.6181818181818182, I_star=0.2552563125000001, dt=0.01\n",
      "k=0.6181818181818182, I_star=0.2680191281250001, dt=0.01\n",
      "k=0.6181818181818182, I_star=0.2814200845312501, dt=0.01\n",
      "k=0.6181818181818182, I_star=0.29549108875781266, dt=0.01\n",
      "k=0.6181818181818182, I_star=0.3102656431957033, dt=0.01\n",
      "k=0.6181818181818182, I_star=0.3257789253554885, dt=0.01\n",
      "k=0.6181818181818182, I_star=0.34206787162326296, dt=0.01\n",
      "k=0.6181818181818182, I_star=0.3591712652044261, dt=0.01\n",
      "k=0.6181818181818182, I_star=0.37712982846464743, dt=0.01\n",
      "k=0.6181818181818182, I_star=0.3959863198878798, dt=0.01\n",
      "k=0.6181818181818182, I_star=0.4157856358822738, dt=0.01\n",
      "k=0.6181818181818182, I_star=0.4365749176763875, dt=0.01\n",
      "k=0.6181818181818182, I_star=0.4584036635602069, dt=0.01\n",
      "k=0.6181818181818182, I_star=0.48132384673821726, dt=0.01\n",
      "k=0.6181818181818182, I_star=0.5053900390751281, dt=0.01\n",
      "k=0.6181818181818182, I_star=0.5306595410288846, dt=0.01\n",
      "k=0.6181818181818182, I_star=0.5571925180803289, dt=0.01\n",
      "k=0.6181818181818182, I_star=0.5850521439843454, dt=0.01\n",
      "k=0.6181818181818182, I_star=0.6143047511835626, dt=0.01\n",
      "k=0.6181818181818182, I_star=0.6450199887427408, dt=0.01\n",
      "k=0.6181818181818182, I_star=0.6772709881798779, dt=0.01\n",
      "k=0.6181818181818182, I_star=0.7111345375888718, dt=0.01\n",
      "k=0.6181818181818182, I_star=0.7466912644683155, dt=0.01\n",
      "k=0.6181818181818182, I_star=0.7840258276917312, dt=0.01\n",
      "k=0.6181818181818182, I_star=0.8232271190763178, dt=0.01\n",
      "k=0.6181818181818182, I_star=0.8643884750301338, dt=0.01\n",
      "k=0.6181818181818182, I_star=0.9076078987816406, dt=0.01\n",
      "increase!\n",
      "k=0.6181818181818182, I_star=0.9529882937207227, dt=0.1\n",
      "k=0.6181818181818182, I_star=1.0006377084067588, dt=0.1\n",
      "k=0.6181818181818182, I_star=1.050669593827097, dt=0.1\n",
      "k=0.6181818181818182, I_star=1.1032030735184517, dt=0.1\n",
      "k=0.6181818181818182, I_star=1.1583632271943742, dt=0.1\n",
      "increase!\n",
      "k=0.6181818181818182, I_star=1.216281388554093, dt=1.0\n",
      "k=0.6181818181818182, I_star=1.2770954579817977, dt=1.0\n",
      "k=0.6181818181818182, I_star=1.3409502308808876, dt=1.0\n",
      "k=0.6181818181818182, I_star=1.4079977424249321, dt=1.0\n",
      "k=0.6181818181818182, I_star=1.4783976295461787, dt=1.0\n",
      "increase!\n",
      "k=0.6181818181818182, I_star=1.5523175110234877, dt=10.0\n",
      "k=0.6181818181818182, I_star=1.6299333865746621, dt=10.0\n",
      "k=0.6181818181818182, I_star=1.7114300559033953, dt=10.0\n",
      "k=0.6181818181818182, I_star=1.797001558698565, dt=10.0\n",
      "increase!\n",
      "k=0.6181818181818182, I_star=1.8868516366334933, dt=100.0\n",
      "k=0.6181818181818182, I_star=1.981194218465168, dt=100.0\n",
      "k=0.407070707070707, I_star=0.19, dt=0.01\n",
      "k=0.407070707070707, I_star=0.2, dt=0.01\n",
      "k=0.407070707070707, I_star=0.21000000000000002, dt=0.01\n",
      "Going UP!\n",
      "k=0.407070707070707, I_star=0.22050000000000003, dt=0.01\n",
      "k=0.407070707070707, I_star=0.23152500000000004, dt=0.01\n",
      "k=0.407070707070707, I_star=0.24310125000000005, dt=0.01\n",
      "k=0.407070707070707, I_star=0.2552563125000001, dt=0.01\n",
      "k=0.407070707070707, I_star=0.2680191281250001, dt=0.01\n",
      "k=0.407070707070707, I_star=0.2814200845312501, dt=0.01\n",
      "k=0.407070707070707, I_star=0.29549108875781266, dt=0.01\n",
      "k=0.407070707070707, I_star=0.3102656431957033, dt=0.01\n",
      "k=0.407070707070707, I_star=0.3257789253554885, dt=0.01\n",
      "k=0.407070707070707, I_star=0.34206787162326296, dt=0.01\n",
      "k=0.407070707070707, I_star=0.3591712652044261, dt=0.01\n",
      "k=0.407070707070707, I_star=0.37712982846464743, dt=0.01\n",
      "k=0.407070707070707, I_star=0.3959863198878798, dt=0.01\n",
      "k=0.407070707070707, I_star=0.4157856358822738, dt=0.01\n",
      "k=0.407070707070707, I_star=0.4365749176763875, dt=0.01\n",
      "k=0.407070707070707, I_star=0.4584036635602069, dt=0.01\n",
      "k=0.407070707070707, I_star=0.48132384673821726, dt=0.01\n",
      "k=0.407070707070707, I_star=0.5053900390751281, dt=0.01\n",
      "increase!\n",
      "k=0.407070707070707, I_star=0.5306595410288846, dt=0.1\n",
      "k=0.407070707070707, I_star=0.5571925180803289, dt=0.1\n",
      "k=0.407070707070707, I_star=0.5850521439843454, dt=0.1\n",
      "increase!\n",
      "k=0.407070707070707, I_star=0.6143047511835626, dt=1.0\n",
      "k=0.407070707070707, I_star=0.6450199887427408, dt=1.0\n",
      "k=0.6373737373737373, I_star=0.19, dt=0.01\n",
      "k=0.6373737373737373, I_star=0.2, dt=0.01\n",
      "k=0.6373737373737373, I_star=0.21000000000000002, dt=0.01\n",
      "Going UP!\n",
      "k=0.6373737373737373, I_star=0.22050000000000003, dt=0.01\n",
      "k=0.6373737373737373, I_star=0.23152500000000004, dt=0.01\n",
      "k=0.6373737373737373, I_star=0.24310125000000005, dt=0.01\n",
      "k=0.6373737373737373, I_star=0.2552563125000001, dt=0.01\n",
      "k=0.6373737373737373, I_star=0.2680191281250001, dt=0.01\n",
      "k=0.6373737373737373, I_star=0.2814200845312501, dt=0.01\n",
      "k=0.6373737373737373, I_star=0.29549108875781266, dt=0.01\n",
      "k=0.6373737373737373, I_star=0.3102656431957033, dt=0.01\n",
      "k=0.6373737373737373, I_star=0.3257789253554885, dt=0.01\n",
      "k=0.6373737373737373, I_star=0.34206787162326296, dt=0.01\n",
      "k=0.6373737373737373, I_star=0.3591712652044261, dt=0.01\n",
      "k=0.6373737373737373, I_star=0.37712982846464743, dt=0.01\n",
      "k=0.6373737373737373, I_star=0.3959863198878798, dt=0.01\n",
      "k=0.6373737373737373, I_star=0.4157856358822738, dt=0.01\n",
      "k=0.6373737373737373, I_star=0.4365749176763875, dt=0.01\n",
      "k=0.6373737373737373, I_star=0.4584036635602069, dt=0.01\n",
      "k=0.6373737373737373, I_star=0.48132384673821726, dt=0.01\n",
      "k=0.6373737373737373, I_star=0.5053900390751281, dt=0.01\n",
      "k=0.6373737373737373, I_star=0.5306595410288846, dt=0.01\n",
      "k=0.6373737373737373, I_star=0.5571925180803289, dt=0.01\n",
      "k=0.6373737373737373, I_star=0.5850521439843454, dt=0.01\n",
      "k=0.6373737373737373, I_star=0.6143047511835626, dt=0.01\n",
      "k=0.6373737373737373, I_star=0.6450199887427408, dt=0.01\n",
      "k=0.6373737373737373, I_star=0.6772709881798779, dt=0.01\n",
      "k=0.6373737373737373, I_star=0.7111345375888718, dt=0.01\n",
      "k=0.6373737373737373, I_star=0.7466912644683155, dt=0.01\n",
      "k=0.6373737373737373, I_star=0.7840258276917312, dt=0.01\n",
      "k=0.6373737373737373, I_star=0.8232271190763178, dt=0.01\n",
      "k=0.6373737373737373, I_star=0.8643884750301338, dt=0.01\n",
      "k=0.6373737373737373, I_star=0.9076078987816406, dt=0.01\n",
      "increase!\n",
      "k=0.6373737373737373, I_star=0.9529882937207227, dt=0.1\n",
      "k=0.6373737373737373, I_star=1.0006377084067588, dt=0.1\n",
      "k=0.6373737373737373, I_star=1.050669593827097, dt=0.1\n",
      "k=0.6373737373737373, I_star=1.1032030735184517, dt=0.1\n",
      "k=0.6373737373737373, I_star=1.1583632271943742, dt=0.1\n",
      "k=0.6373737373737373, I_star=1.216281388554093, dt=0.1\n",
      "increase!\n",
      "k=0.6373737373737373, I_star=1.2770954579817977, dt=1.0\n",
      "k=0.6373737373737373, I_star=1.3409502308808876, dt=1.0\n",
      "k=0.6373737373737373, I_star=1.4079977424249321, dt=1.0\n",
      "k=0.6373737373737373, I_star=1.4783976295461787, dt=1.0\n",
      "k=0.6373737373737373, I_star=1.5523175110234877, dt=1.0\n",
      "increase!\n",
      "k=0.6373737373737373, I_star=1.6299333865746621, dt=10.0\n",
      "k=0.6373737373737373, I_star=1.7114300559033953, dt=10.0\n",
      "k=0.6373737373737373, I_star=1.797001558698565, dt=10.0\n",
      "k=0.6373737373737373, I_star=1.8868516366334933, dt=10.0\n",
      "increase!\n",
      "k=0.6373737373737373, I_star=1.981194218465168, dt=100.0\n",
      "k=0.6373737373737373, I_star=2.0802539293884266, dt=100.0\n",
      "k=0.6373737373737373, I_star=2.184266625857848, dt=100.0\n",
      "k=0.42626262626262623, I_star=0.19, dt=0.01\n",
      "k=0.42626262626262623, I_star=0.2, dt=0.01\n",
      "k=0.42626262626262623, I_star=0.21000000000000002, dt=0.01\n",
      "Going UP!\n",
      "k=0.42626262626262623, I_star=0.22050000000000003, dt=0.01\n",
      "k=0.42626262626262623, I_star=0.23152500000000004, dt=0.01\n",
      "k=0.42626262626262623, I_star=0.24310125000000005, dt=0.01\n",
      "k=0.42626262626262623, I_star=0.2552563125000001, dt=0.01\n",
      "k=0.42626262626262623, I_star=0.2680191281250001, dt=0.01\n",
      "k=0.42626262626262623, I_star=0.2814200845312501, dt=0.01\n",
      "k=0.42626262626262623, I_star=0.29549108875781266, dt=0.01\n",
      "k=0.42626262626262623, I_star=0.3102656431957033, dt=0.01\n",
      "k=0.42626262626262623, I_star=0.3257789253554885, dt=0.01\n",
      "k=0.42626262626262623, I_star=0.34206787162326296, dt=0.01\n",
      "k=0.42626262626262623, I_star=0.3591712652044261, dt=0.01\n",
      "k=0.42626262626262623, I_star=0.37712982846464743, dt=0.01\n",
      "k=0.42626262626262623, I_star=0.3959863198878798, dt=0.01\n",
      "k=0.42626262626262623, I_star=0.4157856358822738, dt=0.01\n",
      "k=0.42626262626262623, I_star=0.4365749176763875, dt=0.01\n",
      "k=0.42626262626262623, I_star=0.4584036635602069, dt=0.01\n",
      "k=0.42626262626262623, I_star=0.48132384673821726, dt=0.01\n",
      "k=0.42626262626262623, I_star=0.5053900390751281, dt=0.01\n",
      "k=0.42626262626262623, I_star=0.5306595410288846, dt=0.01\n",
      "increase!\n",
      "k=0.42626262626262623, I_star=0.5571925180803289, dt=0.1\n",
      "k=0.42626262626262623, I_star=0.5850521439843454, dt=0.1\n",
      "k=0.42626262626262623, I_star=0.6143047511835626, dt=0.1\n",
      "increase!\n",
      "k=0.42626262626262623, I_star=0.6450199887427408, dt=1.0\n",
      "k=0.42626262626262623, I_star=0.6772709881798779, dt=1.0\n",
      "k=0.42626262626262623, I_star=0.7111345375888718, dt=1.0\n",
      "k=0.6373737373737373, I_star=0.19, dt=0.01\n",
      "k=0.6373737373737373, I_star=0.2, dt=0.01\n",
      "k=0.6373737373737373, I_star=0.21000000000000002, dt=0.01\n",
      "Going UP!\n",
      "k=0.6373737373737373, I_star=0.22050000000000003, dt=0.01\n",
      "k=0.6373737373737373, I_star=0.23152500000000004, dt=0.01\n",
      "k=0.6373737373737373, I_star=0.24310125000000005, dt=0.01\n",
      "k=0.6373737373737373, I_star=0.2552563125000001, dt=0.01\n",
      "k=0.6373737373737373, I_star=0.2680191281250001, dt=0.01\n",
      "k=0.6373737373737373, I_star=0.2814200845312501, dt=0.01\n",
      "k=0.6373737373737373, I_star=0.29549108875781266, dt=0.01\n",
      "k=0.6373737373737373, I_star=0.3102656431957033, dt=0.01\n",
      "k=0.6373737373737373, I_star=0.3257789253554885, dt=0.01\n",
      "k=0.6373737373737373, I_star=0.34206787162326296, dt=0.01\n",
      "k=0.6373737373737373, I_star=0.3591712652044261, dt=0.01\n",
      "k=0.6373737373737373, I_star=0.37712982846464743, dt=0.01\n",
      "k=0.6373737373737373, I_star=0.3959863198878798, dt=0.01\n",
      "k=0.6373737373737373, I_star=0.4157856358822738, dt=0.01\n",
      "k=0.6373737373737373, I_star=0.4365749176763875, dt=0.01\n",
      "k=0.6373737373737373, I_star=0.4584036635602069, dt=0.01\n",
      "k=0.6373737373737373, I_star=0.48132384673821726, dt=0.01\n",
      "k=0.6373737373737373, I_star=0.5053900390751281, dt=0.01\n",
      "k=0.6373737373737373, I_star=0.5306595410288846, dt=0.01\n",
      "k=0.6373737373737373, I_star=0.5571925180803289, dt=0.01\n",
      "k=0.6373737373737373, I_star=0.5850521439843454, dt=0.01\n",
      "k=0.6373737373737373, I_star=0.6143047511835626, dt=0.01\n",
      "k=0.6373737373737373, I_star=0.6450199887427408, dt=0.01\n",
      "k=0.6373737373737373, I_star=0.6772709881798779, dt=0.01\n",
      "k=0.6373737373737373, I_star=0.7111345375888718, dt=0.01\n",
      "k=0.6373737373737373, I_star=0.7466912644683155, dt=0.01\n",
      "k=0.6373737373737373, I_star=0.7840258276917312, dt=0.01\n",
      "k=0.6373737373737373, I_star=0.8232271190763178, dt=0.01\n",
      "k=0.6373737373737373, I_star=0.8643884750301338, dt=0.01\n",
      "k=0.6373737373737373, I_star=0.9076078987816406, dt=0.01\n",
      "increase!\n",
      "k=0.6373737373737373, I_star=0.9529882937207227, dt=0.1\n",
      "k=0.6373737373737373, I_star=1.0006377084067588, dt=0.1\n",
      "k=0.6373737373737373, I_star=1.050669593827097, dt=0.1\n",
      "k=0.6373737373737373, I_star=1.1032030735184517, dt=0.1\n",
      "k=0.6373737373737373, I_star=1.1583632271943742, dt=0.1\n",
      "k=0.6373737373737373, I_star=1.216281388554093, dt=0.1\n",
      "increase!\n",
      "k=0.6373737373737373, I_star=1.2770954579817977, dt=1.0\n",
      "k=0.6373737373737373, I_star=1.3409502308808876, dt=1.0\n",
      "k=0.6373737373737373, I_star=1.4079977424249321, dt=1.0\n",
      "k=0.6373737373737373, I_star=1.4783976295461787, dt=1.0\n",
      "increase!\n",
      "k=0.6373737373737373, I_star=1.5523175110234877, dt=10.0\n",
      "k=0.6373737373737373, I_star=1.6299333865746621, dt=10.0\n",
      "k=0.6373737373737373, I_star=1.7114300559033953, dt=10.0\n",
      "k=0.6373737373737373, I_star=1.797001558698565, dt=10.0\n",
      "increase!\n",
      "k=0.6373737373737373, I_star=1.8868516366334933, dt=100.0\n",
      "k=0.6373737373737373, I_star=1.981194218465168, dt=100.0\n",
      "k=0.46464646464646464, I_star=0.19, dt=0.01\n",
      "k=0.46464646464646464, I_star=0.2, dt=0.01\n",
      "k=0.46464646464646464, I_star=0.21000000000000002, dt=0.01\n",
      "Going UP!\n",
      "k=0.46464646464646464, I_star=0.22050000000000003, dt=0.01\n",
      "k=0.46464646464646464, I_star=0.23152500000000004, dt=0.01\n",
      "k=0.46464646464646464, I_star=0.24310125000000005, dt=0.01\n",
      "k=0.46464646464646464, I_star=0.2552563125000001, dt=0.01\n",
      "k=0.46464646464646464, I_star=0.2680191281250001, dt=0.01\n",
      "k=0.46464646464646464, I_star=0.2814200845312501, dt=0.01\n",
      "k=0.46464646464646464, I_star=0.29549108875781266, dt=0.01\n",
      "k=0.46464646464646464, I_star=0.3102656431957033, dt=0.01\n",
      "k=0.46464646464646464, I_star=0.3257789253554885, dt=0.01\n",
      "k=0.46464646464646464, I_star=0.34206787162326296, dt=0.01\n",
      "k=0.46464646464646464, I_star=0.3591712652044261, dt=0.01\n",
      "k=0.46464646464646464, I_star=0.37712982846464743, dt=0.01\n",
      "k=0.46464646464646464, I_star=0.3959863198878798, dt=0.01\n",
      "k=0.46464646464646464, I_star=0.4157856358822738, dt=0.01\n",
      "k=0.46464646464646464, I_star=0.4365749176763875, dt=0.01\n",
      "k=0.46464646464646464, I_star=0.4584036635602069, dt=0.01\n",
      "k=0.46464646464646464, I_star=0.48132384673821726, dt=0.01\n",
      "k=0.46464646464646464, I_star=0.5053900390751281, dt=0.01\n",
      "k=0.46464646464646464, I_star=0.5306595410288846, dt=0.01\n",
      "k=0.46464646464646464, I_star=0.5571925180803289, dt=0.01\n",
      "k=0.46464646464646464, I_star=0.5850521439843454, dt=0.01\n",
      "increase!\n",
      "k=0.46464646464646464, I_star=0.6143047511835626, dt=0.1\n",
      "k=0.46464646464646464, I_star=0.6450199887427408, dt=0.1\n",
      "k=0.46464646464646464, I_star=0.6772709881798779, dt=0.1\n",
      "k=0.46464646464646464, I_star=0.7111345375888718, dt=0.1\n",
      "increase!\n",
      "k=0.46464646464646464, I_star=0.7466912644683155, dt=1.0\n",
      "k=0.46464646464646464, I_star=0.7840258276917312, dt=1.0\n",
      "k=0.46464646464646464, I_star=0.8232271190763178, dt=1.0\n",
      "\n"
     ]
    }
   ],
   "source": [
    "for i in tqdm(range(len(fitting_data[(\"Model 4 (3 free pars)\", \"k\")]))):\n",
    "    # Setup initial conditions\n",
    "    I_max = cut_point**2 / 2\n",
    "    I = np.linspace(0, I_max, 1000)\n",
    "    I0 = I * np.exp(-(I/sigma**2))\n",
    "    I0 /= integrate.trapz(I0, I)\n",
    "    # Execute research\n",
    "    values, I_star, t, error = fit.scan_I_star(\n",
    "        lost_table[i],\n",
    "        turn_sampling,\n",
    "        I_max,\n",
    "        I0,\n",
    "        fitting_data[(\"Model 4 (3 free pars)\", \"k\")][i],\n",
    "        0.2,\n",
    "        0.01,\n",
    "        10,\n",
    "        0.05\n",
    "    )\n",
    "    # Save data\n",
    "    fp_data.append(values)\n",
    "    fp_fit_data.loc[len(fp_fit_data)] = [\n",
    "        fitting_data[(\"epsilon\", \"\")][i],\n",
    "        fitting_data[(\"type\", \"\")][i],\n",
    "        fitting_data[(\"sigma\", \"\")][i],\n",
    "        I_star,\n",
    "        t,\n",
    "        error\n",
    "    ]"
   ]
  },
  {
   "cell_type": "code",
   "execution_count": 27,
   "metadata": {},
   "outputs": [
    {
     "data": {
      "text/html": [
       "<div>\n",
       "<style scoped>\n",
       "    .dataframe tbody tr th:only-of-type {\n",
       "        vertical-align: middle;\n",
       "    }\n",
       "\n",
       "    .dataframe tbody tr th {\n",
       "        vertical-align: top;\n",
       "    }\n",
       "\n",
       "    .dataframe thead tr th {\n",
       "        text-align: left;\n",
       "    }\n",
       "</style>\n",
       "<table border=\"1\" class=\"dataframe\">\n",
       "  <thead>\n",
       "    <tr>\n",
       "      <th></th>\n",
       "      <th>epsilon</th>\n",
       "      <th>type</th>\n",
       "      <th>sigma</th>\n",
       "      <th colspan=\"2\" halign=\"left\">Fokker-Planck</th>\n",
       "      <th>Fit data</th>\n",
       "    </tr>\n",
       "    <tr>\n",
       "      <th></th>\n",
       "      <th></th>\n",
       "      <th></th>\n",
       "      <th></th>\n",
       "      <th>I_star</th>\n",
       "      <th>time_scale</th>\n",
       "      <th>error</th>\n",
       "    </tr>\n",
       "  </thead>\n",
       "  <tbody>\n",
       "    <tr>\n",
       "      <th>0</th>\n",
       "      <td>2.0</td>\n",
       "      <td>real</td>\n",
       "      <td>NaN</td>\n",
       "      <td>0.310266</td>\n",
       "      <td>[436.0, 435.0, 434.0, 433.0, 432.0, 431.0, 430...</td>\n",
       "      <td>0.009252</td>\n",
       "    </tr>\n",
       "    <tr>\n",
       "      <th>1</th>\n",
       "      <td>2.0</td>\n",
       "      <td>gaussian</td>\n",
       "      <td>0.3</td>\n",
       "      <td>0.220500</td>\n",
       "      <td>[22.900000000000002, 22.8, 22.7, 22.6, 22.5, 2...</td>\n",
       "      <td>0.004905</td>\n",
       "    </tr>\n",
       "    <tr>\n",
       "      <th>2</th>\n",
       "      <td>6.0</td>\n",
       "      <td>real</td>\n",
       "      <td>NaN</td>\n",
       "      <td>0.585052</td>\n",
       "      <td>[13540.0, 13530.0, 13520.0, 13510.0, 13500.0, ...</td>\n",
       "      <td>0.010820</td>\n",
       "    </tr>\n",
       "    <tr>\n",
       "      <th>3</th>\n",
       "      <td>6.0</td>\n",
       "      <td>gaussian</td>\n",
       "      <td>0.3</td>\n",
       "      <td>0.310266</td>\n",
       "      <td>[95.5, 95.4, 95.3, 95.2, 95.10000000000001, 95...</td>\n",
       "      <td>0.012351</td>\n",
       "    </tr>\n",
       "    <tr>\n",
       "      <th>4</th>\n",
       "      <td>10.0</td>\n",
       "      <td>real</td>\n",
       "      <td>NaN</td>\n",
       "      <td>1.103203</td>\n",
       "      <td>[410000.0, 409000.0, 408000.0, 407000.0, 40600...</td>\n",
       "      <td>0.012547</td>\n",
       "    </tr>\n",
       "    <tr>\n",
       "      <th>5</th>\n",
       "      <td>10.0</td>\n",
       "      <td>gaussian</td>\n",
       "      <td>0.3</td>\n",
       "      <td>0.436575</td>\n",
       "      <td>[591.0, 590.0, 589.0, 588.0, 587.0, 586.0, 585...</td>\n",
       "      <td>0.013779</td>\n",
       "    </tr>\n",
       "    <tr>\n",
       "      <th>6</th>\n",
       "      <td>14.0</td>\n",
       "      <td>real</td>\n",
       "      <td>NaN</td>\n",
       "      <td>1.407998</td>\n",
       "      <td>[474000.0, 473000.0, 472000.0, 471000.0, 47000...</td>\n",
       "      <td>0.011806</td>\n",
       "    </tr>\n",
       "    <tr>\n",
       "      <th>7</th>\n",
       "      <td>14.0</td>\n",
       "      <td>gaussian</td>\n",
       "      <td>0.3</td>\n",
       "      <td>0.530660</td>\n",
       "      <td>[2096.0, 2095.0, 2094.0, 2093.0, 2092.0, 2091....</td>\n",
       "      <td>0.012824</td>\n",
       "    </tr>\n",
       "    <tr>\n",
       "      <th>8</th>\n",
       "      <td>18.0</td>\n",
       "      <td>real</td>\n",
       "      <td>NaN</td>\n",
       "      <td>1.552318</td>\n",
       "      <td>[211800.0, 211700.0, 211600.0, 211500.0, 21140...</td>\n",
       "      <td>0.011484</td>\n",
       "    </tr>\n",
       "    <tr>\n",
       "      <th>9</th>\n",
       "      <td>18.0</td>\n",
       "      <td>gaussian</td>\n",
       "      <td>0.3</td>\n",
       "      <td>0.557193</td>\n",
       "      <td>[1736.0, 1735.0, 1734.0, 1733.0, 1732.0, 1731....</td>\n",
       "      <td>0.015139</td>\n",
       "    </tr>\n",
       "    <tr>\n",
       "      <th>10</th>\n",
       "      <td>22.0</td>\n",
       "      <td>real</td>\n",
       "      <td>NaN</td>\n",
       "      <td>1.886852</td>\n",
       "      <td>[416000.0, 415000.0, 414000.0, 413000.0, 41200...</td>\n",
       "      <td>0.011968</td>\n",
       "    </tr>\n",
       "    <tr>\n",
       "      <th>11</th>\n",
       "      <td>22.0</td>\n",
       "      <td>gaussian</td>\n",
       "      <td>0.3</td>\n",
       "      <td>0.614305</td>\n",
       "      <td>[3330.0, 3320.0, 3310.0, 3300.0, 3290.0, 3280....</td>\n",
       "      <td>0.014523</td>\n",
       "    </tr>\n",
       "    <tr>\n",
       "      <th>12</th>\n",
       "      <td>26.0</td>\n",
       "      <td>real</td>\n",
       "      <td>NaN</td>\n",
       "      <td>2.080254</td>\n",
       "      <td>[673000.0, 672000.0, 671000.0, 670000.0, 66900...</td>\n",
       "      <td>0.013273</td>\n",
       "    </tr>\n",
       "    <tr>\n",
       "      <th>13</th>\n",
       "      <td>26.0</td>\n",
       "      <td>gaussian</td>\n",
       "      <td>0.3</td>\n",
       "      <td>0.677271</td>\n",
       "      <td>[6200.0, 6190.0, 6180.0, 6170.0, 6160.0, 6150....</td>\n",
       "      <td>0.016143</td>\n",
       "    </tr>\n",
       "    <tr>\n",
       "      <th>14</th>\n",
       "      <td>30.0</td>\n",
       "      <td>real</td>\n",
       "      <td>NaN</td>\n",
       "      <td>1.886852</td>\n",
       "      <td>[242000.0, 241000.0, 240000.0, 239000.0, 23800...</td>\n",
       "      <td>0.010115</td>\n",
       "    </tr>\n",
       "    <tr>\n",
       "      <th>15</th>\n",
       "      <td>30.0</td>\n",
       "      <td>gaussian</td>\n",
       "      <td>0.3</td>\n",
       "      <td>0.784026</td>\n",
       "      <td>[7040.0, 7030.0, 7020.0, 7010.0, 7000.0, 6990....</td>\n",
       "      <td>0.015665</td>\n",
       "    </tr>\n",
       "  </tbody>\n",
       "</table>\n",
       "</div>"
      ],
      "text/plain": [
       "   epsilon      type sigma Fokker-Planck  \\\n",
       "                                  I_star   \n",
       "0      2.0      real   NaN      0.310266   \n",
       "1      2.0  gaussian   0.3      0.220500   \n",
       "2      6.0      real   NaN      0.585052   \n",
       "3      6.0  gaussian   0.3      0.310266   \n",
       "4     10.0      real   NaN      1.103203   \n",
       "5     10.0  gaussian   0.3      0.436575   \n",
       "6     14.0      real   NaN      1.407998   \n",
       "7     14.0  gaussian   0.3      0.530660   \n",
       "8     18.0      real   NaN      1.552318   \n",
       "9     18.0  gaussian   0.3      0.557193   \n",
       "10    22.0      real   NaN      1.886852   \n",
       "11    22.0  gaussian   0.3      0.614305   \n",
       "12    26.0      real   NaN      2.080254   \n",
       "13    26.0  gaussian   0.3      0.677271   \n",
       "14    30.0      real   NaN      1.886852   \n",
       "15    30.0  gaussian   0.3      0.784026   \n",
       "\n",
       "                                                       Fit data  \n",
       "                                           time_scale     error  \n",
       "0   [436.0, 435.0, 434.0, 433.0, 432.0, 431.0, 430...  0.009252  \n",
       "1   [22.900000000000002, 22.8, 22.7, 22.6, 22.5, 2...  0.004905  \n",
       "2   [13540.0, 13530.0, 13520.0, 13510.0, 13500.0, ...  0.010820  \n",
       "3   [95.5, 95.4, 95.3, 95.2, 95.10000000000001, 95...  0.012351  \n",
       "4   [410000.0, 409000.0, 408000.0, 407000.0, 40600...  0.012547  \n",
       "5   [591.0, 590.0, 589.0, 588.0, 587.0, 586.0, 585...  0.013779  \n",
       "6   [474000.0, 473000.0, 472000.0, 471000.0, 47000...  0.011806  \n",
       "7   [2096.0, 2095.0, 2094.0, 2093.0, 2092.0, 2091....  0.012824  \n",
       "8   [211800.0, 211700.0, 211600.0, 211500.0, 21140...  0.011484  \n",
       "9   [1736.0, 1735.0, 1734.0, 1733.0, 1732.0, 1731....  0.015139  \n",
       "10  [416000.0, 415000.0, 414000.0, 413000.0, 41200...  0.011968  \n",
       "11  [3330.0, 3320.0, 3310.0, 3300.0, 3290.0, 3280....  0.014523  \n",
       "12  [673000.0, 672000.0, 671000.0, 670000.0, 66900...  0.013273  \n",
       "13  [6200.0, 6190.0, 6180.0, 6170.0, 6160.0, 6150....  0.016143  \n",
       "14  [242000.0, 241000.0, 240000.0, 239000.0, 23800...  0.010115  \n",
       "15  [7040.0, 7030.0, 7020.0, 7010.0, 7000.0, 6990....  0.015665  "
      ]
     },
     "execution_count": 27,
     "metadata": {},
     "output_type": "execute_result"
    }
   ],
   "source": [
    "fp_fit_data"
   ]
  },
  {
   "cell_type": "code",
   "execution_count": 28,
   "metadata": {},
   "outputs": [
    {
     "data": {
      "application/vnd.jupyter.widget-view+json": {
       "model_id": "da37c4a370004faba251ac8402d22fb7",
       "version_major": 2,
       "version_minor": 0
      },
      "text/plain": [
       "Canvas(toolbar=Toolbar(toolitems=[('Home', 'Reset original view', 'home', 'home'), ('Back', 'Back to previous …"
      ]
     },
     "metadata": {},
     "output_type": "display_data"
    },
    {
     "data": {
      "text/plain": [
       "Text(0.5, 1.0, 'Best value for $I_\\\\ast$')"
      ]
     },
     "execution_count": 28,
     "metadata": {},
     "output_type": "execute_result"
    }
   ],
   "source": [
    "plt.figure()\n",
    "\n",
    "plt.plot(\n",
    "    fp_fit_data[fp_fit_data[(\"type\")] == \"gaussian\"][(\"epsilon\")],\n",
    "    fp_fit_data[fp_fit_data[(\"type\")] == \"gaussian\"][(\"Fokker-Planck\", \"I_star\")]\n",
    ")\n",
    "plt.xlabel(\"$\\\\varepsilon$\")\n",
    "plt.ylabel(\"$I_\\\\ast$\")\n",
    "plt.title(\"Best value for $I_\\\\ast$\")"
   ]
  },
  {
   "cell_type": "markdown",
   "metadata": {},
   "source": [
    "## Double FP fit for both $\\kappa$ and $I_\\ast$"
   ]
  },
  {
   "cell_type": "code",
   "execution_count": 45,
   "metadata": {},
   "outputs": [],
   "source": [
    "labels = (\n",
    "    (\"epsilon\", \"\"),\n",
    "    (\"type\", \"\"),\n",
    "    (\"sigma\", \"\"),\n",
    "    (\"Fokker-Planck\", \"k\"),\n",
    "    (\"Fokker-Planck\", \"I_star\"),\n",
    "    (\"Fokker-Planck\", \"time_scale\"),\n",
    "    (\"Fit data\", \"error\")\n",
    ")\n",
    "\n",
    "fp_double_data = []\n",
    "fp_double_fit_data = pd.DataFrame(columns=pd.MultiIndex.from_tuples(labels))"
   ]
  },
  {
   "cell_type": "code",
   "execution_count": null,
   "metadata": {
    "scrolled": true
   },
   "outputs": [
    {
     "data": {
      "application/vnd.jupyter.widget-view+json": {
       "model_id": "4f568a45dc1649daa45177c302e817c7",
       "version_major": 2,
       "version_minor": 0
      },
      "text/plain": [
       "HBox(children=(FloatProgress(value=0.0, max=16.0), HTML(value='')))"
      ]
     },
     "metadata": {},
     "output_type": "display_data"
    },
    {
     "name": "stdout",
     "output_type": "stream",
     "text": [
      "k=0.2226262626262626, I_star=0.19, dt=0.001\n",
      "k=0.2226262626262626, I_star=0.2, dt=0.001\n",
      "k=0.2226262626262626, I_star=0.21000000000000002, dt=0.001\n",
      "Going UP!\n",
      "k=0.2226262626262626, I_star=0.22050000000000003, dt=0.001\n",
      "k=0.2226262626262626, I_star=0.23152500000000004, dt=0.001\n",
      "k=0.2226262626262626, I_star=0.24310125000000005, dt=0.001\n",
      "k=0.2226262626262626, I_star=0.2552563125000001, dt=0.001\n",
      "increase!\n",
      "k=0.2226262626262626, I_star=0.2680191281250001, dt=0.01\n",
      "k=0.2226262626262626, I_star=0.2814200845312501, dt=0.01\n",
      "k=0.2226262626262626, I_star=0.29549108875781266, dt=0.01\n",
      "k=0.23434343434343433, I_star=0.19, dt=0.001\n",
      "k=0.23434343434343433, I_star=0.2, dt=0.001\n",
      "k=0.23434343434343433, I_star=0.21000000000000002, dt=0.001\n",
      "Going UP!\n",
      "k=0.23434343434343433, I_star=0.22050000000000003, dt=0.001\n",
      "k=0.23434343434343433, I_star=0.23152500000000004, dt=0.001\n",
      "k=0.23434343434343433, I_star=0.24310125000000005, dt=0.001\n",
      "k=0.23434343434343433, I_star=0.2552563125000001, dt=0.001\n",
      "k=0.23434343434343433, I_star=0.2680191281250001, dt=0.001\n",
      "increase!\n",
      "k=0.23434343434343433, I_star=0.2814200845312501, dt=0.01\n",
      "k=0.23434343434343433, I_star=0.29549108875781266, dt=0.01\n",
      "increase!\n",
      "k=0.23434343434343433, I_star=0.3102656431957033, dt=0.1\n",
      "k=0.23434343434343433, I_star=0.3257789253554885, dt=0.1\n",
      "k=0.24606060606060606, I_star=0.19, dt=0.001\n",
      "k=0.24606060606060606, I_star=0.2, dt=0.001\n",
      "k=0.24606060606060606, I_star=0.21000000000000002, dt=0.001\n",
      "Going UP!\n",
      "k=0.24606060606060606, I_star=0.22050000000000003, dt=0.001\n",
      "k=0.24606060606060606, I_star=0.23152500000000004, dt=0.001\n",
      "k=0.24606060606060606, I_star=0.24310125000000005, dt=0.001\n",
      "k=0.24606060606060606, I_star=0.2552563125000001, dt=0.001\n",
      "k=0.24606060606060606, I_star=0.2680191281250001, dt=0.001\n",
      "k=0.24606060606060606, I_star=0.2814200845312501, dt=0.001\n",
      "increase!\n",
      "k=0.24606060606060606, I_star=0.29549108875781266, dt=0.01\n",
      "k=0.24606060606060606, I_star=0.3102656431957033, dt=0.01\n",
      "increase!\n",
      "k=0.24606060606060606, I_star=0.3257789253554885, dt=0.1\n",
      "k=0.24606060606060606, I_star=0.34206787162326296, dt=0.1\n",
      "Going DOWN with k!!!\n",
      "k=0.21149494949494946, I_star=0.19, dt=0.001\n",
      "k=0.21149494949494946, I_star=0.2, dt=0.001\n",
      "k=0.21149494949494946, I_star=0.21000000000000002, dt=0.001\n",
      "Going UP!\n",
      "k=0.21149494949494946, I_star=0.22050000000000003, dt=0.001\n",
      "k=0.21149494949494946, I_star=0.23152500000000004, dt=0.001\n",
      "k=0.21149494949494946, I_star=0.24310125000000005, dt=0.001\n",
      "k=0.21149494949494946, I_star=0.2552563125000001, dt=0.001\n",
      "increase!\n",
      "k=0.21149494949494946, I_star=0.2680191281250001, dt=0.01\n",
      "k=0.21149494949494946, I_star=0.2814200845312501, dt=0.01\n",
      "k=0.20092020202020197, I_star=0.19, dt=0.001\n",
      "k=0.20092020202020197, I_star=0.2, dt=0.001\n",
      "k=0.20092020202020197, I_star=0.21000000000000002, dt=0.001\n",
      "Going UP!\n",
      "k=0.20092020202020197, I_star=0.22050000000000003, dt=0.001\n",
      "k=0.20092020202020197, I_star=0.23152500000000004, dt=0.001\n",
      "k=0.20092020202020197, I_star=0.24310125000000005, dt=0.001\n",
      "increase!\n",
      "k=0.20092020202020197, I_star=0.2552563125000001, dt=0.01\n",
      "k=0.20092020202020197, I_star=0.2680191281250001, dt=0.01\n",
      "k=0.19087419191919186, I_star=0.19, dt=0.001\n",
      "k=0.19087419191919186, I_star=0.2, dt=0.001\n",
      "k=0.19087419191919186, I_star=0.21000000000000002, dt=0.001\n",
      "Going UP!\n",
      "k=0.19087419191919186, I_star=0.22050000000000003, dt=0.001\n",
      "k=0.19087419191919186, I_star=0.23152500000000004, dt=0.001\n",
      "increase!\n",
      "k=0.19087419191919186, I_star=0.24310125000000005, dt=0.01\n",
      "k=0.19087419191919186, I_star=0.2552563125000001, dt=0.01\n",
      "k=0.14969696969696972, I_star=0.19, dt=0.001\n",
      "k=0.14969696969696972, I_star=0.2, dt=0.001\n",
      "k=0.14969696969696972, I_star=0.21000000000000002, dt=0.001\n",
      "up increase!\n",
      "Going UP!\n",
      "k=0.14969696969696972, I_star=0.22050000000000003, dt=0.01\n",
      "k=0.1575757575757576, I_star=0.19, dt=0.001\n",
      "k=0.1575757575757576, I_star=0.2, dt=0.001\n",
      "k=0.1575757575757576, I_star=0.21000000000000002, dt=0.001\n",
      "Going UP!\n",
      "k=0.1575757575757576, I_star=0.22050000000000003, dt=0.001\n",
      "increase!\n",
      "k=0.1575757575757576, I_star=0.23152500000000004, dt=0.01\n",
      "k=0.16545454545454547, I_star=0.19, dt=0.001\n",
      "k=0.16545454545454547, I_star=0.2, dt=0.001\n",
      "k=0.16545454545454547, I_star=0.21000000000000002, dt=0.001\n",
      "Going UP!\n",
      "k=0.16545454545454547, I_star=0.22050000000000003, dt=0.001\n",
      "increase!\n",
      "k=0.16545454545454547, I_star=0.23152500000000004, dt=0.01\n",
      "k=0.16545454545454547, I_star=0.24310125000000005, dt=0.01\n",
      "STAYNG HERE!\n",
      "k=0.35025252525252515, I_star=0.19, dt=0.001\n",
      "k=0.35025252525252515, I_star=0.2, dt=0.001\n",
      "k=0.35025252525252515, I_star=0.21000000000000002, dt=0.001\n",
      "Going UP!\n",
      "k=0.35025252525252515, I_star=0.22050000000000003, dt=0.001\n",
      "k=0.35025252525252515, I_star=0.23152500000000004, dt=0.001\n",
      "k=0.35025252525252515, I_star=0.24310125000000005, dt=0.001\n",
      "k=0.35025252525252515, I_star=0.2552563125000001, dt=0.001\n",
      "k=0.35025252525252515, I_star=0.2680191281250001, dt=0.001\n",
      "k=0.35025252525252515, I_star=0.2814200845312501, dt=0.001\n",
      "k=0.35025252525252515, I_star=0.29549108875781266, dt=0.001\n",
      "k=0.35025252525252515, I_star=0.3102656431957033, dt=0.001\n",
      "k=0.35025252525252515, I_star=0.3257789253554885, dt=0.001\n",
      "k=0.35025252525252515, I_star=0.34206787162326296, dt=0.001\n",
      "k=0.35025252525252515, I_star=0.3591712652044261, dt=0.001\n",
      "increase!\n",
      "k=0.35025252525252515, I_star=0.37712982846464743, dt=0.01\n",
      "k=0.35025252525252515, I_star=0.3959863198878798, dt=0.01\n",
      "k=0.35025252525252515, I_star=0.4157856358822738, dt=0.01\n",
      "k=0.35025252525252515, I_star=0.4365749176763875, dt=0.01\n",
      "increase!\n",
      "k=0.35025252525252515, I_star=0.4584036635602069, dt=0.1\n",
      "k=0.35025252525252515, I_star=0.48132384673821726, dt=0.1\n",
      "increase!\n",
      "k=0.35025252525252515, I_star=0.5053900390751281, dt=1.0\n",
      "k=0.35025252525252515, I_star=0.5306595410288846, dt=1.0\n",
      "k=0.35025252525252515, I_star=0.5571925180803289, dt=1.0\n",
      "k=0.3686868686868686, I_star=0.19, dt=0.001\n",
      "k=0.3686868686868686, I_star=0.2, dt=0.001\n",
      "k=0.3686868686868686, I_star=0.21000000000000002, dt=0.001\n",
      "Going UP!\n",
      "k=0.3686868686868686, I_star=0.22050000000000003, dt=0.001\n",
      "k=0.3686868686868686, I_star=0.23152500000000004, dt=0.001\n",
      "k=0.3686868686868686, I_star=0.24310125000000005, dt=0.001\n",
      "k=0.3686868686868686, I_star=0.2552563125000001, dt=0.001\n",
      "k=0.3686868686868686, I_star=0.2680191281250001, dt=0.001\n",
      "k=0.3686868686868686, I_star=0.2814200845312501, dt=0.001\n",
      "k=0.3686868686868686, I_star=0.29549108875781266, dt=0.001\n",
      "k=0.3686868686868686, I_star=0.3102656431957033, dt=0.001\n",
      "k=0.3686868686868686, I_star=0.3257789253554885, dt=0.001\n",
      "k=0.3686868686868686, I_star=0.34206787162326296, dt=0.001\n",
      "k=0.3686868686868686, I_star=0.3591712652044261, dt=0.001\n",
      "increase!\n",
      "k=0.3686868686868686, I_star=0.37712982846464743, dt=0.01\n",
      "k=0.3686868686868686, I_star=0.3959863198878798, dt=0.01\n",
      "k=0.3686868686868686, I_star=0.4157856358822738, dt=0.01\n",
      "k=0.3686868686868686, I_star=0.4365749176763875, dt=0.01\n",
      "k=0.3686868686868686, I_star=0.4584036635602069, dt=0.01\n",
      "increase!\n",
      "k=0.3686868686868686, I_star=0.48132384673821726, dt=0.1\n",
      "k=0.3686868686868686, I_star=0.5053900390751281, dt=0.1\n",
      "k=0.3686868686868686, I_star=0.5306595410288846, dt=0.1\n",
      "increase!\n",
      "k=0.3686868686868686, I_star=0.5571925180803289, dt=1.0\n",
      "k=0.3686868686868686, I_star=0.5850521439843454, dt=1.0\n",
      "increase!\n",
      "k=0.3686868686868686, I_star=0.6143047511835626, dt=10.0\n",
      "k=0.3871212121212121, I_star=0.19, dt=0.001\n",
      "k=0.3871212121212121, I_star=0.2, dt=0.001\n",
      "k=0.3871212121212121, I_star=0.21000000000000002, dt=0.001\n",
      "Going UP!\n",
      "k=0.3871212121212121, I_star=0.22050000000000003, dt=0.001\n",
      "k=0.3871212121212121, I_star=0.23152500000000004, dt=0.001\n",
      "k=0.3871212121212121, I_star=0.24310125000000005, dt=0.001\n",
      "k=0.3871212121212121, I_star=0.2552563125000001, dt=0.001\n",
      "k=0.3871212121212121, I_star=0.2680191281250001, dt=0.001\n",
      "k=0.3871212121212121, I_star=0.2814200845312501, dt=0.001\n",
      "k=0.3871212121212121, I_star=0.29549108875781266, dt=0.001\n",
      "k=0.3871212121212121, I_star=0.3102656431957033, dt=0.001\n",
      "k=0.3871212121212121, I_star=0.3257789253554885, dt=0.001\n",
      "k=0.3871212121212121, I_star=0.34206787162326296, dt=0.001\n",
      "k=0.3871212121212121, I_star=0.3591712652044261, dt=0.001\n",
      "k=0.3871212121212121, I_star=0.37712982846464743, dt=0.001\n",
      "increase!\n",
      "k=0.3871212121212121, I_star=0.3959863198878798, dt=0.01\n",
      "k=0.3871212121212121, I_star=0.4157856358822738, dt=0.01\n",
      "k=0.3871212121212121, I_star=0.4365749176763875, dt=0.01\n",
      "k=0.3871212121212121, I_star=0.4584036635602069, dt=0.01\n",
      "k=0.3871212121212121, I_star=0.48132384673821726, dt=0.01\n",
      "increase!\n",
      "k=0.3871212121212121, I_star=0.5053900390751281, dt=0.1\n",
      "k=0.3871212121212121, I_star=0.5306595410288846, dt=0.1\n",
      "k=0.3871212121212121, I_star=0.5571925180803289, dt=0.1\n",
      "increase!\n",
      "k=0.3871212121212121, I_star=0.5850521439843454, dt=1.0\n",
      "k=0.3871212121212121, I_star=0.6143047511835626, dt=1.0\n",
      "k=0.3871212121212121, I_star=0.6450199887427408, dt=1.0\n",
      "increase!\n",
      "k=0.3871212121212121, I_star=0.6772709881798779, dt=10.0\n",
      "STAYNG HERE!\n",
      "k=0.24085858585858583, I_star=0.19, dt=0.001\n",
      "k=0.24085858585858583, I_star=0.2, dt=0.001\n",
      "k=0.24085858585858583, I_star=0.21000000000000002, dt=0.001\n",
      "Going UP!\n",
      "k=0.24085858585858583, I_star=0.22050000000000003, dt=0.001\n",
      "k=0.24085858585858583, I_star=0.23152500000000004, dt=0.001\n",
      "k=0.24085858585858583, I_star=0.24310125000000005, dt=0.001\n",
      "k=0.24085858585858583, I_star=0.2552563125000001, dt=0.001\n",
      "k=0.24085858585858583, I_star=0.2680191281250001, dt=0.001\n",
      "increase!\n",
      "k=0.24085858585858583, I_star=0.2814200845312501, dt=0.01\n",
      "k=0.24085858585858583, I_star=0.29549108875781266, dt=0.01\n",
      "k=0.24085858585858583, I_star=0.3102656431957033, dt=0.01\n",
      "k=0.2535353535353535, I_star=0.19, dt=0.001\n",
      "k=0.2535353535353535, I_star=0.2, dt=0.001\n",
      "k=0.2535353535353535, I_star=0.21000000000000002, dt=0.001\n",
      "Going UP!\n",
      "k=0.2535353535353535, I_star=0.22050000000000003, dt=0.001\n",
      "k=0.2535353535353535, I_star=0.23152500000000004, dt=0.001\n",
      "k=0.2535353535353535, I_star=0.24310125000000005, dt=0.001\n",
      "k=0.2535353535353535, I_star=0.2552563125000001, dt=0.001\n",
      "k=0.2535353535353535, I_star=0.2680191281250001, dt=0.001\n",
      "k=0.2535353535353535, I_star=0.2814200845312501, dt=0.001\n",
      "increase!\n",
      "k=0.2535353535353535, I_star=0.29549108875781266, dt=0.01\n",
      "k=0.2535353535353535, I_star=0.3102656431957033, dt=0.01\n",
      "k=0.2535353535353535, I_star=0.3257789253554885, dt=0.01\n",
      "k=0.2662121212121212, I_star=0.19, dt=0.001\n",
      "k=0.2662121212121212, I_star=0.2, dt=0.001\n",
      "k=0.2662121212121212, I_star=0.21000000000000002, dt=0.001\n",
      "Going UP!\n",
      "k=0.2662121212121212, I_star=0.22050000000000003, dt=0.001\n",
      "k=0.2662121212121212, I_star=0.23152500000000004, dt=0.001\n",
      "k=0.2662121212121212, I_star=0.24310125000000005, dt=0.001\n",
      "k=0.2662121212121212, I_star=0.2552563125000001, dt=0.001\n",
      "k=0.2662121212121212, I_star=0.2680191281250001, dt=0.001\n",
      "k=0.2662121212121212, I_star=0.2814200845312501, dt=0.001\n",
      "k=0.2662121212121212, I_star=0.29549108875781266, dt=0.001\n",
      "increase!\n",
      "k=0.2662121212121212, I_star=0.3102656431957033, dt=0.01\n",
      "k=0.2662121212121212, I_star=0.3257789253554885, dt=0.01\n",
      "increase!\n",
      "k=0.2662121212121212, I_star=0.34206787162326296, dt=0.1\n",
      "k=0.2662121212121212, I_star=0.3591712652044261, dt=0.1\n",
      "Going DOWN with k!!!\n",
      "k=0.22881565656565653, I_star=0.19, dt=0.001\n",
      "k=0.22881565656565653, I_star=0.2, dt=0.001\n",
      "k=0.22881565656565653, I_star=0.21000000000000002, dt=0.001\n",
      "Going UP!\n",
      "k=0.22881565656565653, I_star=0.22050000000000003, dt=0.001\n",
      "k=0.22881565656565653, I_star=0.23152500000000004, dt=0.001\n",
      "k=0.22881565656565653, I_star=0.24310125000000005, dt=0.001\n",
      "k=0.22881565656565653, I_star=0.2552563125000001, dt=0.001\n",
      "k=0.22881565656565653, I_star=0.2680191281250001, dt=0.001\n",
      "increase!\n",
      "k=0.22881565656565653, I_star=0.2814200845312501, dt=0.01\n",
      "k=0.22881565656565653, I_star=0.29549108875781266, dt=0.01\n",
      "k=0.2173748737373737, I_star=0.19, dt=0.001\n",
      "k=0.2173748737373737, I_star=0.2, dt=0.001\n",
      "k=0.2173748737373737, I_star=0.21000000000000002, dt=0.001\n",
      "Going UP!\n",
      "k=0.2173748737373737, I_star=0.22050000000000003, dt=0.001\n",
      "k=0.2173748737373737, I_star=0.23152500000000004, dt=0.001\n",
      "k=0.2173748737373737, I_star=0.24310125000000005, dt=0.001\n",
      "k=0.2173748737373737, I_star=0.2552563125000001, dt=0.001\n",
      "increase!\n",
      "k=0.2173748737373737, I_star=0.2680191281250001, dt=0.01\n",
      "k=0.2173748737373737, I_star=0.2814200845312501, dt=0.01\n",
      "k=0.206506130050505, I_star=0.19, dt=0.001\n",
      "k=0.206506130050505, I_star=0.2, dt=0.001\n",
      "k=0.206506130050505, I_star=0.21000000000000002, dt=0.001\n",
      "Going UP!\n",
      "k=0.206506130050505, I_star=0.22050000000000003, dt=0.001\n",
      "k=0.206506130050505, I_star=0.23152500000000004, dt=0.001\n",
      "k=0.206506130050505, I_star=0.24310125000000005, dt=0.001\n",
      "increase!\n",
      "k=0.206506130050505, I_star=0.2552563125000001, dt=0.01\n",
      "k=0.206506130050505, I_star=0.2680191281250001, dt=0.01\n",
      "k=0.19618082354797975, I_star=0.19, dt=0.001\n",
      "k=0.19618082354797975, I_star=0.2, dt=0.001\n",
      "k=0.19618082354797975, I_star=0.21000000000000002, dt=0.001\n",
      "Going UP!\n",
      "k=0.19618082354797975, I_star=0.22050000000000003, dt=0.001\n",
      "k=0.19618082354797975, I_star=0.23152500000000004, dt=0.001\n",
      "k=0.19618082354797975, I_star=0.24310125000000005, dt=0.001\n",
      "increase!\n",
      "k=0.19618082354797975, I_star=0.2552563125000001, dt=0.01\n",
      "k=0.18637178237058075, I_star=0.19, dt=0.001\n",
      "k=0.18637178237058075, I_star=0.2, dt=0.001\n",
      "k=0.18637178237058075, I_star=0.21000000000000002, dt=0.001\n",
      "Going UP!\n",
      "k=0.18637178237058075, I_star=0.22050000000000003, dt=0.001\n",
      "k=0.18637178237058075, I_star=0.23152500000000004, dt=0.001\n",
      "increase!\n",
      "k=0.18637178237058075, I_star=0.24310125000000005, dt=0.01\n",
      "k=0.45964646464646464, I_star=0.19, dt=0.001\n",
      "k=0.45964646464646464, I_star=0.2, dt=0.001\n",
      "k=0.45964646464646464, I_star=0.21000000000000002, dt=0.001\n",
      "Going UP!\n",
      "k=0.45964646464646464, I_star=0.22050000000000003, dt=0.001\n",
      "k=0.45964646464646464, I_star=0.23152500000000004, dt=0.001\n",
      "k=0.45964646464646464, I_star=0.24310125000000005, dt=0.001\n",
      "k=0.45964646464646464, I_star=0.2552563125000001, dt=0.001\n",
      "k=0.45964646464646464, I_star=0.2680191281250001, dt=0.001\n",
      "k=0.45964646464646464, I_star=0.2814200845312501, dt=0.001\n",
      "k=0.45964646464646464, I_star=0.29549108875781266, dt=0.001\n",
      "k=0.45964646464646464, I_star=0.3102656431957033, dt=0.001\n",
      "k=0.45964646464646464, I_star=0.3257789253554885, dt=0.001\n",
      "k=0.45964646464646464, I_star=0.34206787162326296, dt=0.001\n",
      "k=0.45964646464646464, I_star=0.3591712652044261, dt=0.001\n",
      "k=0.45964646464646464, I_star=0.37712982846464743, dt=0.001\n",
      "k=0.45964646464646464, I_star=0.3959863198878798, dt=0.001\n",
      "k=0.45964646464646464, I_star=0.4157856358822738, dt=0.001\n",
      "k=0.45964646464646464, I_star=0.4365749176763875, dt=0.001\n",
      "increase!\n",
      "k=0.45964646464646464, I_star=0.4584036635602069, dt=0.01\n",
      "k=0.45964646464646464, I_star=0.48132384673821726, dt=0.01\n",
      "k=0.45964646464646464, I_star=0.5053900390751281, dt=0.01\n",
      "k=0.45964646464646464, I_star=0.5306595410288846, dt=0.01\n",
      "k=0.45964646464646464, I_star=0.5571925180803289, dt=0.01\n",
      "k=0.45964646464646464, I_star=0.5850521439843454, dt=0.01\n",
      "increase!\n",
      "k=0.45964646464646464, I_star=0.6143047511835626, dt=0.1\n",
      "k=0.45964646464646464, I_star=0.6450199887427408, dt=0.1\n",
      "k=0.45964646464646464, I_star=0.6772709881798779, dt=0.1\n",
      "k=0.45964646464646464, I_star=0.7111345375888718, dt=0.1\n",
      "increase!\n",
      "k=0.45964646464646464, I_star=0.7466912644683155, dt=1.0\n",
      "k=0.45964646464646464, I_star=0.7840258276917312, dt=1.0\n",
      "k=0.45964646464646464, I_star=0.8232271190763178, dt=1.0\n",
      "increase!\n",
      "k=0.45964646464646464, I_star=0.8643884750301338, dt=10.0\n",
      "k=0.45964646464646464, I_star=0.9076078987816406, dt=10.0\n",
      "k=0.45964646464646464, I_star=0.9529882937207227, dt=10.0\n",
      "k=0.48383838383838385, I_star=0.19, dt=0.001\n",
      "k=0.48383838383838385, I_star=0.2, dt=0.001\n",
      "k=0.48383838383838385, I_star=0.21000000000000002, dt=0.001\n",
      "Going UP!\n",
      "k=0.48383838383838385, I_star=0.22050000000000003, dt=0.001\n",
      "k=0.48383838383838385, I_star=0.23152500000000004, dt=0.001\n",
      "k=0.48383838383838385, I_star=0.24310125000000005, dt=0.001\n",
      "k=0.48383838383838385, I_star=0.2552563125000001, dt=0.001\n",
      "k=0.48383838383838385, I_star=0.2680191281250001, dt=0.001\n",
      "k=0.48383838383838385, I_star=0.2814200845312501, dt=0.001\n",
      "k=0.48383838383838385, I_star=0.29549108875781266, dt=0.001\n",
      "k=0.48383838383838385, I_star=0.3102656431957033, dt=0.001\n",
      "k=0.48383838383838385, I_star=0.3257789253554885, dt=0.001\n",
      "k=0.48383838383838385, I_star=0.34206787162326296, dt=0.001\n",
      "k=0.48383838383838385, I_star=0.3591712652044261, dt=0.001\n",
      "k=0.48383838383838385, I_star=0.37712982846464743, dt=0.001\n",
      "k=0.48383838383838385, I_star=0.3959863198878798, dt=0.001\n",
      "k=0.48383838383838385, I_star=0.4157856358822738, dt=0.001\n",
      "k=0.48383838383838385, I_star=0.4365749176763875, dt=0.001\n",
      "k=0.48383838383838385, I_star=0.4584036635602069, dt=0.001\n",
      "increase!\n",
      "k=0.48383838383838385, I_star=0.48132384673821726, dt=0.01\n",
      "k=0.48383838383838385, I_star=0.5053900390751281, dt=0.01\n",
      "k=0.48383838383838385, I_star=0.5306595410288846, dt=0.01\n",
      "k=0.48383838383838385, I_star=0.5571925180803289, dt=0.01\n",
      "k=0.48383838383838385, I_star=0.5850521439843454, dt=0.01\n",
      "k=0.48383838383838385, I_star=0.6143047511835626, dt=0.01\n",
      "k=0.48383838383838385, I_star=0.6450199887427408, dt=0.01\n",
      "increase!\n",
      "k=0.48383838383838385, I_star=0.6772709881798779, dt=0.1\n",
      "k=0.48383838383838385, I_star=0.7111345375888718, dt=0.1\n",
      "k=0.48383838383838385, I_star=0.7466912644683155, dt=0.1\n",
      "k=0.48383838383838385, I_star=0.7840258276917312, dt=0.1\n",
      "increase!\n",
      "k=0.48383838383838385, I_star=0.8232271190763178, dt=1.0\n",
      "k=0.48383838383838385, I_star=0.8643884750301338, dt=1.0\n",
      "k=0.48383838383838385, I_star=0.9076078987816406, dt=1.0\n",
      "increase!\n",
      "k=0.48383838383838385, I_star=0.9529882937207227, dt=10.0\n",
      "k=0.48383838383838385, I_star=1.0006377084067588, dt=10.0\n",
      "k=0.48383838383838385, I_star=1.050669593827097, dt=10.0\n",
      "increase!\n",
      "k=0.48383838383838385, I_star=1.1032030735184517, dt=100.0\n",
      "k=0.48383838383838385, I_star=1.1583632271943742, dt=100.0\n",
      "k=0.508030303030303, I_star=0.19, dt=0.001\n",
      "k=0.508030303030303, I_star=0.2, dt=0.001\n",
      "k=0.508030303030303, I_star=0.21000000000000002, dt=0.001\n",
      "Going UP!\n",
      "k=0.508030303030303, I_star=0.22050000000000003, dt=0.001\n",
      "k=0.508030303030303, I_star=0.23152500000000004, dt=0.001\n",
      "k=0.508030303030303, I_star=0.24310125000000005, dt=0.001\n",
      "k=0.508030303030303, I_star=0.2552563125000001, dt=0.001\n",
      "k=0.508030303030303, I_star=0.2680191281250001, dt=0.001\n",
      "k=0.508030303030303, I_star=0.2814200845312501, dt=0.001\n",
      "k=0.508030303030303, I_star=0.29549108875781266, dt=0.001\n"
     ]
    }
   ],
   "source": [
    "for i in tqdm(range(len(fitting_data[(\"Model 4 (3 free pars)\", \"k\")]))):\n",
    "    # Setup initial conditions\n",
    "    I_max = cut_point**2 / 2\n",
    "    I = np.linspace(0, I_max, 1000)\n",
    "    I0 = I * np.exp(-(I/sigma**2))\n",
    "    I0 /= integrate.trapz(I0, I)\n",
    "    # Execute research\n",
    "    values, k, I_star, t, error = fit.scan_k(\n",
    "        lost_table[i],\n",
    "        turn_sampling,\n",
    "        I_max,\n",
    "        I0,\n",
    "        fitting_data[(\"Model 4 (3 free pars)\", \"k\")][i],\n",
    "        0.2,\n",
    "        0.001,\n",
    "        10,\n",
    "        0.05,\n",
    "        0.05\n",
    "    )\n",
    "    fp_double_data.append(values)\n",
    "    fp_double_fit_data.loc[len(fp_double_fit_data)] = [\n",
    "        fitting_data[(\"epsilon\", \"\")][i],\n",
    "        fitting_data[(\"type\", \"\")][i],\n",
    "        fitting_data[(\"sigma\", \"\")][i],\n",
    "        k,\n",
    "        I_star,\n",
    "        t,\n",
    "        error,\n",
    "    ]"
   ]
  },
  {
   "cell_type": "code",
   "execution_count": 44,
   "metadata": {},
   "outputs": [
    {
     "data": {
      "application/vnd.jupyter.widget-view+json": {
       "model_id": "530b3024f06849bfb1e3063cba01704f",
       "version_major": 2,
       "version_minor": 0
      },
      "text/plain": [
       "Canvas(toolbar=Toolbar(toolitems=[('Home', 'Reset original view', 'home', 'home'), ('Back', 'Back to previous …"
      ]
     },
     "metadata": {},
     "output_type": "display_data"
    },
    {
     "data": {
      "text/plain": [
       "[<matplotlib.lines.Line2D at 0x7fbb6c50f210>]"
      ]
     },
     "execution_count": 44,
     "metadata": {},
     "output_type": "execute_result"
    }
   ],
   "source": [
    "i = 4\n",
    "\n",
    "plt.figure()\n",
    "plt.plot(turn_sampling, fp_double_data[i][:-1])\n",
    "plt.plot(turn_sampling, lost_table[i])"
   ]
  },
  {
   "cell_type": "code",
   "execution_count": 34,
   "metadata": {},
   "outputs": [
    {
     "data": {
      "text/html": [
       "<div>\n",
       "<style scoped>\n",
       "    .dataframe tbody tr th:only-of-type {\n",
       "        vertical-align: middle;\n",
       "    }\n",
       "\n",
       "    .dataframe tbody tr th {\n",
       "        vertical-align: top;\n",
       "    }\n",
       "\n",
       "    .dataframe thead tr th {\n",
       "        text-align: left;\n",
       "    }\n",
       "</style>\n",
       "<table border=\"1\" class=\"dataframe\">\n",
       "  <thead>\n",
       "    <tr>\n",
       "      <th></th>\n",
       "      <th>epsilon</th>\n",
       "      <th>type</th>\n",
       "      <th>sigma</th>\n",
       "      <th colspan=\"3\" halign=\"left\">Fokker-Planck</th>\n",
       "      <th>Fit data</th>\n",
       "    </tr>\n",
       "    <tr>\n",
       "      <th></th>\n",
       "      <th></th>\n",
       "      <th></th>\n",
       "      <th></th>\n",
       "      <th>k</th>\n",
       "      <th>I_star</th>\n",
       "      <th>time_scale</th>\n",
       "      <th>error</th>\n",
       "    </tr>\n",
       "  </thead>\n",
       "  <tbody>\n",
       "    <tr>\n",
       "      <th>0</th>\n",
       "      <td>2.0</td>\n",
       "      <td>real</td>\n",
       "      <td>NaN</td>\n",
       "      <td>0.200920</td>\n",
       "      <td>0.255256</td>\n",
       "      <td>[55.6, 55.5, 55.4, 55.300000000000004, 55.2, 5...</td>\n",
       "      <td>0.005488</td>\n",
       "    </tr>\n",
       "    <tr>\n",
       "      <th>1</th>\n",
       "      <td>2.0</td>\n",
       "      <td>gaussian</td>\n",
       "      <td>0.3</td>\n",
       "      <td>0.157576</td>\n",
       "      <td>0.220500</td>\n",
       "      <td>[22.75, 22.740000000000002, 22.73, 22.72, 22.7...</td>\n",
       "      <td>0.005109</td>\n",
       "    </tr>\n",
       "    <tr>\n",
       "      <th>2</th>\n",
       "      <td>6.0</td>\n",
       "      <td>real</td>\n",
       "      <td>NaN</td>\n",
       "      <td>0.368687</td>\n",
       "      <td>0.585052</td>\n",
       "      <td>[13540.0, 13530.0, 13520.0, 13510.0, 13500.0, ...</td>\n",
       "      <td>0.010820</td>\n",
       "    </tr>\n",
       "    <tr>\n",
       "      <th>3</th>\n",
       "      <td>6.0</td>\n",
       "      <td>gaussian</td>\n",
       "      <td>0.3</td>\n",
       "      <td>0.196181</td>\n",
       "      <td>0.243101</td>\n",
       "      <td>[29.560000000000002, 29.55, 29.54, 29.53, 29.5...</td>\n",
       "      <td>0.006097</td>\n",
       "    </tr>\n",
       "    <tr>\n",
       "      <th>4</th>\n",
       "      <td>10.0</td>\n",
       "      <td>real</td>\n",
       "      <td>NaN</td>\n",
       "      <td>0.414831</td>\n",
       "      <td>0.711135</td>\n",
       "      <td>[27200.0, 27100.0, 27000.0, 26900.0, 26800.0, ...</td>\n",
       "      <td>0.010374</td>\n",
       "    </tr>\n",
       "    <tr>\n",
       "      <th>5</th>\n",
       "      <td>10.0</td>\n",
       "      <td>gaussian</td>\n",
       "      <td>0.3</td>\n",
       "      <td>0.298098</td>\n",
       "      <td>0.377130</td>\n",
       "      <td>[345.0, 344.0, 343.0, 342.0, 341.0, 340.0, 339...</td>\n",
       "      <td>0.009693</td>\n",
       "    </tr>\n",
       "    <tr>\n",
       "      <th>6</th>\n",
       "      <td>14.0</td>\n",
       "      <td>real</td>\n",
       "      <td>NaN</td>\n",
       "      <td>0.440985</td>\n",
       "      <td>0.746691</td>\n",
       "      <td>[13770.0, 13760.0, 13750.0, 13740.0, 13730.0, ...</td>\n",
       "      <td>0.010102</td>\n",
       "    </tr>\n",
       "    <tr>\n",
       "      <th>7</th>\n",
       "      <td>14.0</td>\n",
       "      <td>gaussian</td>\n",
       "      <td>0.3</td>\n",
       "      <td>0.316103</td>\n",
       "      <td>0.395986</td>\n",
       "      <td>[350.0, 349.0, 348.0, 347.0, 346.0, 345.0, 344...</td>\n",
       "      <td>0.010344</td>\n",
       "    </tr>\n",
       "    <tr>\n",
       "      <th>8</th>\n",
       "      <td>18.0</td>\n",
       "      <td>real</td>\n",
       "      <td>NaN</td>\n",
       "      <td>0.497104</td>\n",
       "      <td>0.952988</td>\n",
       "      <td>[26800.0, 26700.0, 26600.0, 26500.0, 26400.0, ...</td>\n",
       "      <td>0.009599</td>\n",
       "    </tr>\n",
       "    <tr>\n",
       "      <th>9</th>\n",
       "      <td>18.0</td>\n",
       "      <td>gaussian</td>\n",
       "      <td>0.3</td>\n",
       "      <td>0.350061</td>\n",
       "      <td>0.458404</td>\n",
       "      <td>[693.0, 692.0, 691.0, 690.0, 689.0, 688.0, 687...</td>\n",
       "      <td>0.012143</td>\n",
       "    </tr>\n",
       "    <tr>\n",
       "      <th>10</th>\n",
       "      <td>22.0</td>\n",
       "      <td>real</td>\n",
       "      <td>NaN</td>\n",
       "      <td>0.587273</td>\n",
       "      <td>1.552318</td>\n",
       "      <td>[170800.0, 170700.0, 170600.0, 170500.0, 17040...</td>\n",
       "      <td>0.011582</td>\n",
       "    </tr>\n",
       "    <tr>\n",
       "      <th>11</th>\n",
       "      <td>22.0</td>\n",
       "      <td>gaussian</td>\n",
       "      <td>0.3</td>\n",
       "      <td>0.386717</td>\n",
       "      <td>0.557193</td>\n",
       "      <td>[2460.0, 2450.0, 2440.0, 2430.0, 2420.0, 2410....</td>\n",
       "      <td>0.012934</td>\n",
       "    </tr>\n",
       "    <tr>\n",
       "      <th>12</th>\n",
       "      <td>26.0</td>\n",
       "      <td>real</td>\n",
       "      <td>NaN</td>\n",
       "      <td>0.519145</td>\n",
       "      <td>1.000638</td>\n",
       "      <td>[25400.0, 25300.0, 25200.0, 25100.0, 25000.0, ...</td>\n",
       "      <td>0.009699</td>\n",
       "    </tr>\n",
       "    <tr>\n",
       "      <th>13</th>\n",
       "      <td>26.0</td>\n",
       "      <td>gaussian</td>\n",
       "      <td>0.3</td>\n",
       "      <td>0.329834</td>\n",
       "      <td>0.395986</td>\n",
       "      <td>[318.0, 317.0, 316.0, 315.0, 314.0, 313.0, 312...</td>\n",
       "      <td>0.009632</td>\n",
       "    </tr>\n",
       "    <tr>\n",
       "      <th>14</th>\n",
       "      <td>30.0</td>\n",
       "      <td>real</td>\n",
       "      <td>NaN</td>\n",
       "      <td>0.637374</td>\n",
       "      <td>1.886852</td>\n",
       "      <td>[242000.0, 241000.0, 240000.0, 239000.0, 23800...</td>\n",
       "      <td>0.010115</td>\n",
       "    </tr>\n",
       "    <tr>\n",
       "      <th>15</th>\n",
       "      <td>30.0</td>\n",
       "      <td>gaussian</td>\n",
       "      <td>0.3</td>\n",
       "      <td>0.464646</td>\n",
       "      <td>0.784026</td>\n",
       "      <td>[7040.0, 7030.0, 7020.0, 7010.0, 7000.0, 6990....</td>\n",
       "      <td>0.015665</td>\n",
       "    </tr>\n",
       "  </tbody>\n",
       "</table>\n",
       "</div>"
      ],
      "text/plain": [
       "   epsilon      type sigma Fokker-Planck            \\\n",
       "                                       k    I_star   \n",
       "0      2.0      real   NaN      0.200920  0.255256   \n",
       "1      2.0  gaussian   0.3      0.157576  0.220500   \n",
       "2      6.0      real   NaN      0.368687  0.585052   \n",
       "3      6.0  gaussian   0.3      0.196181  0.243101   \n",
       "4     10.0      real   NaN      0.414831  0.711135   \n",
       "5     10.0  gaussian   0.3      0.298098  0.377130   \n",
       "6     14.0      real   NaN      0.440985  0.746691   \n",
       "7     14.0  gaussian   0.3      0.316103  0.395986   \n",
       "8     18.0      real   NaN      0.497104  0.952988   \n",
       "9     18.0  gaussian   0.3      0.350061  0.458404   \n",
       "10    22.0      real   NaN      0.587273  1.552318   \n",
       "11    22.0  gaussian   0.3      0.386717  0.557193   \n",
       "12    26.0      real   NaN      0.519145  1.000638   \n",
       "13    26.0  gaussian   0.3      0.329834  0.395986   \n",
       "14    30.0      real   NaN      0.637374  1.886852   \n",
       "15    30.0  gaussian   0.3      0.464646  0.784026   \n",
       "\n",
       "                                                       Fit data  \n",
       "                                           time_scale     error  \n",
       "0   [55.6, 55.5, 55.4, 55.300000000000004, 55.2, 5...  0.005488  \n",
       "1   [22.75, 22.740000000000002, 22.73, 22.72, 22.7...  0.005109  \n",
       "2   [13540.0, 13530.0, 13520.0, 13510.0, 13500.0, ...  0.010820  \n",
       "3   [29.560000000000002, 29.55, 29.54, 29.53, 29.5...  0.006097  \n",
       "4   [27200.0, 27100.0, 27000.0, 26900.0, 26800.0, ...  0.010374  \n",
       "5   [345.0, 344.0, 343.0, 342.0, 341.0, 340.0, 339...  0.009693  \n",
       "6   [13770.0, 13760.0, 13750.0, 13740.0, 13730.0, ...  0.010102  \n",
       "7   [350.0, 349.0, 348.0, 347.0, 346.0, 345.0, 344...  0.010344  \n",
       "8   [26800.0, 26700.0, 26600.0, 26500.0, 26400.0, ...  0.009599  \n",
       "9   [693.0, 692.0, 691.0, 690.0, 689.0, 688.0, 687...  0.012143  \n",
       "10  [170800.0, 170700.0, 170600.0, 170500.0, 17040...  0.011582  \n",
       "11  [2460.0, 2450.0, 2440.0, 2430.0, 2420.0, 2410....  0.012934  \n",
       "12  [25400.0, 25300.0, 25200.0, 25100.0, 25000.0, ...  0.009699  \n",
       "13  [318.0, 317.0, 316.0, 315.0, 314.0, 313.0, 312...  0.009632  \n",
       "14  [242000.0, 241000.0, 240000.0, 239000.0, 23800...  0.010115  \n",
       "15  [7040.0, 7030.0, 7020.0, 7010.0, 7000.0, 6990....  0.015665  "
      ]
     },
     "execution_count": 34,
     "metadata": {},
     "output_type": "execute_result"
    }
   ],
   "source": [
    "fp_double_fit_data"
   ]
  },
  {
   "cell_type": "code",
   "execution_count": 32,
   "metadata": {},
   "outputs": [
    {
     "data": {
      "application/vnd.jupyter.widget-view+json": {
       "model_id": "e4537094a41d444a986b1b4497400cf8",
       "version_major": 2,
       "version_minor": 0
      },
      "text/plain": [
       "Canvas(toolbar=Toolbar(toolitems=[('Home', 'Reset original view', 'home', 'home'), ('Back', 'Back to previous …"
      ]
     },
     "metadata": {},
     "output_type": "display_data"
    },
    {
     "data": {
      "text/plain": [
       "Text(0.5, 1.0, 'Comparison between Model 4 best fit and Fokker-Planck result')"
      ]
     },
     "execution_count": 32,
     "metadata": {},
     "output_type": "execute_result"
    }
   ],
   "source": [
    "plt.figure()\n",
    "plt.scatter(\n",
    "    fp_double_fit_data[fp_double_fit_data[\"type\"] == \"gaussian\"][\"epsilon\"],\n",
    "    fp_double_fit_data[fp_double_fit_data[\"type\"] == \"gaussian\"][(\"Fokker-Planck\", \"k\")],\n",
    "    label=\"$\\\\kappa$, FP best fit\"\n",
    ")\n",
    "plt.scatter(\n",
    "    fitting_data[fitting_data[\"type\"] == \"gaussian\"][\"epsilon\"],\n",
    "    fitting_data[fitting_data[\"type\"] == \"gaussian\"][(\"Model 4 (3 free pars)\", \"k\")],\n",
    "    label=\"$\\\\kappa$, Model 4 best fit\"\n",
    ")\n",
    "\n",
    "plt.legend()\n",
    "plt.xlabel(\"$\\\\varepsilon$\")\n",
    "plt.ylabel(\"$\\\\kappa$\")\n",
    "plt.title(\"Comparison between Model 4 best fit and Fokker-Planck result\")"
   ]
  },
  {
   "cell_type": "code",
   "execution_count": 33,
   "metadata": {},
   "outputs": [
    {
     "data": {
      "application/vnd.jupyter.widget-view+json": {
       "model_id": "c43fa4f36c204e29950636f74d142f93",
       "version_major": 2,
       "version_minor": 0
      },
      "text/plain": [
       "Canvas(toolbar=Toolbar(toolitems=[('Home', 'Reset original view', 'home', 'home'), ('Back', 'Back to previous …"
      ]
     },
     "metadata": {},
     "output_type": "display_data"
    },
    {
     "data": {
      "text/plain": [
       "Text(0.5, 1.0, 'Comparison between Model 4 best fit and Fokker-Planck result')"
      ]
     },
     "execution_count": 33,
     "metadata": {},
     "output_type": "execute_result"
    }
   ],
   "source": [
    "plt.figure()\n",
    "plt.scatter(\n",
    "    fp_double_fit_data[fp_double_fit_data[\"type\"] == \"gaussian\"][\"epsilon\"],\n",
    "    fp_double_fit_data[fp_double_fit_data[\"type\"] == \"gaussian\"][(\"Fokker-Planck\", \"I_star\")],\n",
    "    label=\"$I_\\\\ast$, FP best fit\"\n",
    ")\n",
    "\n",
    "plt.legend()\n",
    "plt.xlabel(\"$\\\\varepsilon$\")\n",
    "plt.ylabel(\"$I_\\\\ast$\")\n",
    "plt.title(\"Comparison between Model 4 best fit and Fokker-Planck result\")"
   ]
  },
  {
   "cell_type": "code",
   "execution_count": null,
   "metadata": {},
   "outputs": [],
   "source": []
  }
 ],
 "metadata": {
  "kernelspec": {
   "display_name": "Python 3",
   "language": "python",
   "name": "python3"
  },
  "language_info": {
   "codemirror_mode": {
    "name": "ipython",
    "version": 3
   },
   "file_extension": ".py",
   "mimetype": "text/x-python",
   "name": "python",
   "nbconvert_exporter": "python",
   "pygments_lexer": "ipython3",
   "version": "3.7.7"
  }
 },
 "nbformat": 4,
 "nbformat_minor": 4
}
