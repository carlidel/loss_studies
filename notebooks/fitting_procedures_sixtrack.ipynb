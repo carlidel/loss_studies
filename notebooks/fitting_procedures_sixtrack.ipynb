{
 "cells": [
  {
   "cell_type": "markdown",
   "metadata": {},
   "source": [
    "# General DA fittings and Fokker-Planck comparisons\n"
   ]
  },
  {
   "cell_type": "markdown",
   "metadata": {},
   "source": [
    "## Setup scripts if we are under SWAN"
   ]
  },
  {
   "cell_type": "code",
   "execution_count": null,
   "metadata": {},
   "outputs": [],
   "source": [
    "# Working in the right path\n",
    "%cd /eos/project/d/da-and-diffusion-studies/DA_Studies/Simulations/Models/loss_studies/notebooks"
   ]
  },
  {
   "cell_type": "code",
   "execution_count": null,
   "metadata": {},
   "outputs": [],
   "source": [
    "# Install the libraries\n",
    "import sys\n",
    "!{sys.executable} -m pip install --user tqdm pynverse sixtrackwrap crank-nicolson-numba henon-map symplectic-map\n",
    "!{sys.executable} -m pip install --user --upgrade sixtrackwrap \n",
    "!{sys.executable} -m pip install --user --upgrade crank-nicolson-numba \n",
    "!{sys.executable} -m pip install --user --upgrade henon-map \n",
    "!{sys.executable} -m pip install --user --upgrade symplectic-map\n",
    "!export PYTHONPATH=$CERNBOX_HOME.local/lib/python3.7/site-packages:$PYTHONPATH"
   ]
  },
  {
   "cell_type": "code",
   "execution_count": null,
   "metadata": {},
   "outputs": [],
   "source": [
    "# For this \"presentation\" only!\n",
    "import warnings\n",
    "warnings.filterwarnings('ignore')"
   ]
  },
  {
   "cell_type": "markdown",
   "metadata": {},
   "source": [
    "## Imports"
   ]
  },
  {
   "cell_type": "code",
   "execution_count": 3,
   "metadata": {},
   "outputs": [],
   "source": [
    "%matplotlib widget"
   ]
  },
  {
   "cell_type": "code",
   "execution_count": 4,
   "metadata": {},
   "outputs": [],
   "source": [
    "# Base libraries\n",
    "import math\n",
    "import numpy as np\n",
    "import scipy.integrate as integrate\n",
    "from scipy.special import erf\n",
    "import pickle\n",
    "import itertools\n",
    "from scipy.optimize import curve_fit\n",
    "\n",
    "from numba import njit, prange\n",
    "\n",
    "from tqdm.notebook import tqdm\n",
    "import time\n",
    "import matplotlib.pyplot as plt\n",
    "import ipywidgets as widgets\n",
    "import matplotlib.pyplot as plt\n",
    "import matplotlib\n",
    "import matplotlib.ticker as ticker\n",
    "from math import gcd\n",
    "\n",
    "import pandas as pd\n",
    "\n",
    "from scipy.special import lambertw\n",
    "from scipy.interpolate import interp1d\n",
    "\n",
    "import os\n",
    "\n",
    "# Personal libraries\n",
    "import sixtrackwrap as sx\n",
    "import crank_nicolson_numba.nekhoroshev as nk\n",
    "\n",
    "# Personal modules\n",
    "import fit_utils as fit"
   ]
  },
  {
   "cell_type": "markdown",
   "metadata": {},
   "source": [
    "## Load data and setup original DA"
   ]
  },
  {
   "cell_type": "code",
   "execution_count": 3,
   "metadata": {},
   "outputs": [],
   "source": [
    "savepath = \"../data/\"\n",
    "\n",
    "engine = sx.uniform_radial_scanner.load_values(savepath + \"big_scan.pkl\")\n",
    "\n",
    "min_turns = engine.min_time\n",
    "max_turns = engine.max_time\n",
    "n_turn_samples = 500\n",
    "\n",
    "turn_sampling = np.linspace(min_turns, max_turns, n_turn_samples, dtype=np.int_)[::-1]\n",
    "\n",
    "d_r = engine.dr\n",
    "starting_step = engine.starting_step\n",
    "\n",
    "# BASELINE COMPUTING\n",
    "baseline_samples = 33\n",
    "baseline_total_samples = baseline_samples ** 3"
   ]
  },
  {
   "cell_type": "code",
   "execution_count": null,
   "metadata": {},
   "outputs": [],
   "source": [
    "DA = engine.compute_DA_standard(turn_sampling)"
   ]
  },
  {
   "cell_type": "code",
   "execution_count": 7,
   "metadata": {},
   "outputs": [],
   "source": [
    "axis_sampling = np.concatenate((turn_sampling, [0.0]))"
   ]
  },
  {
   "cell_type": "markdown",
   "metadata": {},
   "source": [
    "## Visualize original DA value from data"
   ]
  },
  {
   "cell_type": "code",
   "execution_count": 13,
   "metadata": {},
   "outputs": [
    {
     "data": {
      "application/vnd.jupyter.widget-view+json": {
       "model_id": "df76fe6f85d34b58aad9439008dea785",
       "version_major": 2,
       "version_minor": 0
      },
      "text/plain": [
       "Canvas(toolbar=Toolbar(toolitems=[('Home', 'Reset original view', 'home', 'home'), ('Back', 'Back to previous …"
      ]
     },
     "metadata": {},
     "output_type": "display_data"
    },
    {
     "data": {
      "text/plain": [
       "Text(0, 0.5, '$DA(N)$')"
      ]
     },
     "execution_count": 13,
     "metadata": {},
     "output_type": "execute_result"
    }
   ],
   "source": [
    "fig1, ax1 = plt.subplots()\n",
    "ax1.plot(turn_sampling, DA)\n",
    "ax1.set_title(\"Original $DA$ values (LHC on SixTrack)\")\n",
    "ax1.set_xlabel(\"$N$ turns\")\n",
    "ax1.set_ylabel(\"$DA(N)$\")"
   ]
  },
  {
   "cell_type": "markdown",
   "metadata": {},
   "source": [
    "## Setup Dataframe for storing the fitting data properly!"
   ]
  },
  {
   "cell_type": "code",
   "execution_count": 14,
   "metadata": {},
   "outputs": [],
   "source": [
    "labels = (\n",
    "    (\"type\", \"\"),\n",
    "    (\"sigma\", \"\"),\n",
    "    (\"Model 2\", \"k\"),\n",
    "    (\"Model 2\", \"k err\"),\n",
    "    (\"Model 2\", \"rho\"),\n",
    "    (\"Model 2\", \"rho err\"),\n",
    "    (\"Model 2\", \"N0\"),\n",
    "    (\"Model 2\", \"N0 err\"),\n",
    "    (\"Model 2\", \"Chi2\"),\n",
    "    (\"Model 4 (2 free pars)\", \"k\"),\n",
    "    (\"Model 4 (2 free pars)\", \"k err\"),\n",
    "    (\"Model 4 (2 free pars)\", \"rho\"),\n",
    "    (\"Model 4 (2 free pars)\", \"rho err\"),\n",
    "    (\"Model 4 (2 free pars)\", \"lambda\"),\n",
    "    (\"Model 4 (2 free pars)\", \"Chi2\"),\n",
    "    (\"Model 4 (3 free pars)\", \"k\"),\n",
    "    (\"Model 4 (3 free pars)\", \"k err\"),\n",
    "    (\"Model 4 (3 free pars)\", \"rho\"),\n",
    "    (\"Model 4 (3 free pars)\", \"rho err\"),\n",
    "    (\"Model 4 (3 free pars)\", \"N0\"),\n",
    "    (\"Model 4 (3 free pars)\", \"N0 err\"),\n",
    "    (\"Model 4 (3 free pars)\", \"lambda\"),\n",
    "    (\"Model 4 (3 free pars)\", \"Chi2\"),\n",
    ")\n",
    "\n",
    "fitting_data = pd.DataFrame(columns=pd.MultiIndex.from_tuples(labels))"
   ]
  },
  {
   "cell_type": "markdown",
   "metadata": {},
   "source": [
    "## How is the error on the DA loss computed right now?\n",
    "\n",
    "1. Consider all the radiuses sampled.\n",
    "2. Compute the DA value.\n",
    "3. For every radius sampled, compute the difference from the DA value.\n",
    "4. The absolute value of the average of all these differences is considered as error.\n",
    "\n",
    "(I tried using the Standard Deviation of the radiuses distribution, but it ended up being 10% of the DA itself, so we \"need\" somehow a smaller error estimation)"
   ]
  },
  {
   "cell_type": "markdown",
   "metadata": {},
   "source": [
    "## Loss and Fits -- Symmetric Gaussian Beam Distribution\n",
    "### Choose your Sigma and DA_0!"
   ]
  },
  {
   "cell_type": "code",
   "execution_count": 29,
   "metadata": {},
   "outputs": [],
   "source": [
    "sigma = 8.0\n",
    "DA0 = 36.0"
   ]
  },
  {
   "cell_type": "markdown",
   "metadata": {},
   "source": [
    "### Loss comparison"
   ]
  },
  {
   "cell_type": "code",
   "execution_count": 30,
   "metadata": {},
   "outputs": [],
   "source": [
    "# Assign uniform weights to engine and compute loss\n",
    "engine.assign_weights(\n",
    "    sx.assign_symmetric_gaussian(sigma)\n",
    ")\n",
    "real_values = engine.compute_loss(turn_sampling, DA0)\n",
    "real_values = np.concatenate((real_values, [1.0]))\n",
    "\n",
    "# Compute DA-based loss\n",
    "values = fit.symmetric_gaussian_loss(DA, sigma, DA0)\n",
    "values = np.concatenate((values, [1.0]))"
   ]
  },
  {
   "cell_type": "markdown",
   "metadata": {},
   "source": [
    "#### Visualize Loss comparison"
   ]
  },
  {
   "cell_type": "code",
   "execution_count": 31,
   "metadata": {},
   "outputs": [
    {
     "data": {
      "application/vnd.jupyter.widget-view+json": {
       "model_id": "31a5ab95f7dd4302a4ac3deaf1b254f1",
       "version_major": 2,
       "version_minor": 0
      },
      "text/plain": [
       "Canvas(toolbar=Toolbar(toolitems=[('Home', 'Reset original view', 'home', 'home'), ('Back', 'Back to previous …"
      ]
     },
     "metadata": {},
     "output_type": "display_data"
    },
    {
     "data": {
      "text/plain": [
       "Text(0.5, 1.0, 'Symmetric Gaussian beam ($\\\\sigma=8.0$, Cutting Point at $DA=26.0$)')"
      ]
     },
     "execution_count": 31,
     "metadata": {},
     "output_type": "execute_result"
    }
   ],
   "source": [
    "fig2, ax2 = plt.subplots()\n",
    "ax2.plot(axis_sampling, values, label=\"Values from DA\")\n",
    "ax2.plot(axis_sampling, real_values, label=\"Values from weights\")\n",
    "ax2.legend()\n",
    "ax2.set_xlabel(\"$N$ turns\")\n",
    "ax2.set_ylabel(\"Active beam\")\n",
    "ax2.set_title(\"Symmetric Gaussian beam ($\\\\sigma={}$, Cutting Point at $DA=26.0$)\".format(sigma))"
   ]
  },
  {
   "cell_type": "markdown",
   "metadata": {},
   "source": [
    "### Get DA from loss"
   ]
  },
  {
   "cell_type": "code",
   "execution_count": 32,
   "metadata": {},
   "outputs": [],
   "source": [
    "DA_from_loss = fit.DA_from_symmetric_gaussian_loss(real_values, sigma, DA0)"
   ]
  },
  {
   "cell_type": "markdown",
   "metadata": {},
   "source": [
    "#### Visualize difference"
   ]
  },
  {
   "cell_type": "code",
   "execution_count": 33,
   "metadata": {},
   "outputs": [
    {
     "data": {
      "application/vnd.jupyter.widget-view+json": {
       "model_id": "8e88f7b8b25c4cb5b8bb0ab84abc3839",
       "version_major": 2,
       "version_minor": 0
      },
      "text/plain": [
       "Canvas(toolbar=Toolbar(toolitems=[('Home', 'Reset original view', 'home', 'home'), ('Back', 'Back to previous …"
      ]
     },
     "metadata": {},
     "output_type": "display_data"
    },
    {
     "data": {
      "text/plain": [
       "Text(0.5, 1.0, 'Comparison between original DA and DA obtained from real Loss')"
      ]
     },
     "execution_count": 33,
     "metadata": {},
     "output_type": "execute_result"
    }
   ],
   "source": [
    "fig3, ax3 = plt.subplots()\n",
    "ax3.plot(turn_sampling, DA, label=\"Original DA\")\n",
    "ax3.plot(axis_sampling[:-1], DA_from_loss[:-1], label=\"DA extracted from real loss values\")\n",
    "ax3.legend()\n",
    "ax3.set_xlabel(\"$N$ turns\")\n",
    "ax3.set_ylabel(\"$DA(N)$\")\n",
    "ax3.set_title(\"Comparison between original DA and DA obtained from real Loss\")"
   ]
  },
  {
   "cell_type": "markdown",
   "metadata": {},
   "source": [
    "### Compare fitting values with Model 2"
   ]
  },
  {
   "cell_type": "code",
   "execution_count": 34,
   "metadata": {},
   "outputs": [
    {
     "data": {
      "application/vnd.jupyter.widget-view+json": {
       "model_id": "c0a39b7058fc4b10aa390f6897b92d42",
       "version_major": 2,
       "version_minor": 0
      },
      "text/plain": [
       "HBox(children=(FloatProgress(value=0.0, max=400.0), HTML(value='')))"
      ]
     },
     "metadata": {},
     "output_type": "display_data"
    },
    {
     "name": "stdout",
     "output_type": "stream",
     "text": [
      "\n"
     ]
    },
    {
     "data": {
      "application/vnd.jupyter.widget-view+json": {
       "model_id": "58582ccbadd14a07b68d250372f5249d",
       "version_major": 2,
       "version_minor": 0
      },
      "text/plain": [
       "HBox(children=(FloatProgress(value=0.0, max=400.0), HTML(value='')))"
      ]
     },
     "metadata": {},
     "output_type": "display_data"
    },
    {
     "name": "stdout",
     "output_type": "stream",
     "text": [
      "\n"
     ]
    }
   ],
   "source": [
    "k_min = 0.05\n",
    "k_max = 0.20\n",
    "samples = 400\n",
    "\n",
    "ks = np.linspace(k_min, k_max, samples)\n",
    "\n",
    "real_pars, real_errs, real_co_pars = fit.explore_k_model_2(turn_sampling, DA, k_min, k_max, samples)\n",
    "loss_pars, loss_errs, loss_co_pars = fit.explore_k_model_2(axis_sampling[:-1], DA_from_loss[:-1], k_min, k_max, samples)\n",
    "\n",
    "real_selected_err_2 = np.min(real_errs)\n",
    "real_selected_k_2 = ks[np.argmin(real_errs)]\n",
    "real_selected_pars_2 = real_pars[np.argmin(real_errs)]\n",
    "real_selected_co_pars_2 = real_co_pars[np.argmin(real_errs)]\n",
    "\n",
    "loss_selected_err_2 = np.min(loss_errs)\n",
    "loss_selected_k_2 = ks[np.argmin(loss_errs)]\n",
    "loss_selected_pars_2 = loss_pars[np.argmin(loss_errs)]\n",
    "loss_selected_co_pars_2 = loss_co_pars[np.argmin(loss_errs)]"
   ]
  },
  {
   "cell_type": "code",
   "execution_count": 35,
   "metadata": {},
   "outputs": [
    {
     "name": "stdout",
     "output_type": "stream",
     "text": [
      "REAL: $\\kappa:$ 0.11992481203007521 , $\\rho_\\ast$ and $N_0$ [36.15442002 46.76235005]\n",
      "FROM LOSS: $\\kappa:$ 0.11729323308270678 , $\\rho_\\ast$ and $N_0$ [36.03135337 37.12036537]\n"
     ]
    }
   ],
   "source": [
    "print(\"REAL:\", \"$\\\\kappa:$\", real_selected_k_2, \", $\\\\rho_\\\\ast$ and $N_0$\", real_selected_pars_2)\n",
    "print(\"FROM LOSS:\", \"$\\\\kappa:$\", loss_selected_k_2, \", $\\\\rho_\\\\ast$ and $N_0$\", loss_selected_pars_2)"
   ]
  },
  {
   "cell_type": "code",
   "execution_count": 36,
   "metadata": {},
   "outputs": [
    {
     "data": {
      "application/vnd.jupyter.widget-view+json": {
       "model_id": "13d043aec182439e9baefb332d790dbc",
       "version_major": 2,
       "version_minor": 0
      },
      "text/plain": [
       "Canvas(toolbar=Toolbar(toolitems=[('Home', 'Reset original view', 'home', 'home'), ('Back', 'Back to previous …"
      ]
     },
     "metadata": {},
     "output_type": "display_data"
    },
    {
     "data": {
      "text/plain": [
       "Text(0.5, 1.0, 'Comparison between original DA and DA obtained from real Loss, with Model 2 Fits')"
      ]
     },
     "execution_count": 36,
     "metadata": {},
     "output_type": "execute_result"
    }
   ],
   "source": [
    "fig3, ax3 = plt.subplots()\n",
    "\n",
    "ax3.plot(turn_sampling, DA, label=\"Original DA\")\n",
    "ax3.plot(turn_sampling, fit.model_2(turn_sampling, real_selected_pars_2[0], real_selected_pars_2[1], real_selected_k_2), label=\"Fitting on original DA\\n$\\\\kappa = {:.4f},\\\\rho_\\\\ast = {:.4f}, N_0={:.4f}$\".format(real_selected_k_2, real_selected_pars_2[0], real_selected_pars_2[1] ))\n",
    "\n",
    "ax3.plot(axis_sampling[:-1], DA_from_loss[:-1], label=\"DA extracted from real loss values\")\n",
    "ax3.plot(turn_sampling, fit.model_2(turn_sampling, loss_selected_pars_2[0], loss_selected_pars_2[1], loss_selected_k_2), label=\"Fitting on original DA\\n$\\\\kappa = {:.4f},\\\\rho_\\\\ast = {:.4f}, N_0={:.4f}$\".format(loss_selected_k_2, loss_selected_pars_2[0], loss_selected_pars_2[1] ))\n",
    "\n",
    "ax3.legend()\n",
    "ax3.set_xlabel(\"$N$ turns\")\n",
    "ax3.set_ylabel(\"$DA(N)$\")\n",
    "ax3.set_title(\"Comparison between original DA and DA obtained from real Loss, with Model 2 Fits\")"
   ]
  },
  {
   "cell_type": "markdown",
   "metadata": {},
   "source": [
    "### Compare fitting values with Model 4"
   ]
  },
  {
   "cell_type": "code",
   "execution_count": 37,
   "metadata": {},
   "outputs": [
    {
     "data": {
      "application/vnd.jupyter.widget-view+json": {
       "model_id": "0d9db3eb51334abda502fa8845ad5d05",
       "version_major": 2,
       "version_minor": 0
      },
      "text/plain": [
       "HBox(children=(FloatProgress(value=0.0, max=400.0), HTML(value='')))"
      ]
     },
     "metadata": {},
     "output_type": "display_data"
    },
    {
     "name": "stdout",
     "output_type": "stream",
     "text": [
      "\n"
     ]
    },
    {
     "data": {
      "application/vnd.jupyter.widget-view+json": {
       "model_id": "db0884cfc3274bc98a2699656ba099ab",
       "version_major": 2,
       "version_minor": 0
      },
      "text/plain": [
       "HBox(children=(FloatProgress(value=0.0, max=400.0), HTML(value='')))"
      ]
     },
     "metadata": {},
     "output_type": "display_data"
    },
    {
     "name": "stdout",
     "output_type": "stream",
     "text": [
      "\n"
     ]
    }
   ],
   "source": [
    "k_min = 0.15\n",
    "k_max = 0.30\n",
    "samples = 400\n",
    "\n",
    "ks = np.linspace(k_min, k_max, samples)\n",
    "\n",
    "real_pars, real_errs, real_co_pars = fit.explore_k_model_4(turn_sampling, DA, k_min, k_max, samples)\n",
    "loss_pars, loss_errs, loss_co_pars = fit.explore_k_model_4(axis_sampling[:-1], DA_from_loss[:-1], k_min, k_max, samples)\n",
    "\n",
    "real_selected_err_4 = np.min(real_errs)\n",
    "real_selected_k_4 = ks[np.argmin(real_errs)]\n",
    "real_selected_pars_4 = real_pars[np.argmin(real_errs)]\n",
    "real_selected_co_pars_4 = real_co_pars[np.argmin(real_errs)]\n",
    "\n",
    "loss_selected_err_4 = np.min(loss_errs)\n",
    "loss_selected_k_4 = ks[np.argmin(loss_errs)]\n",
    "loss_selected_pars_4 = loss_pars[np.argmin(loss_errs)]\n",
    "loss_selected_co_pars_4 = loss_co_pars[np.argmin(loss_errs)]"
   ]
  },
  {
   "cell_type": "code",
   "execution_count": 38,
   "metadata": {},
   "outputs": [
    {
     "name": "stdout",
     "output_type": "stream",
     "text": [
      "REAL: $\\kappa:$ 0.21616541353383456 , $\\rho_\\ast$ and $N_0$ [60.22905065]\n",
      "FROM LOSS: $\\kappa:$ 0.21729323308270676 , $\\rho_\\ast$ and $N_0$ [60.76538463]\n"
     ]
    }
   ],
   "source": [
    "print(\"REAL:\", \"$\\\\kappa:$\", real_selected_k_4, \", $\\\\rho_\\\\ast$ and $N_0$\", real_selected_pars_4)\n",
    "print(\"FROM LOSS:\", \"$\\\\kappa:$\", loss_selected_k_4, \", $\\\\rho_\\\\ast$ and $N_0$\", loss_selected_pars_4)"
   ]
  },
  {
   "cell_type": "code",
   "execution_count": 39,
   "metadata": {},
   "outputs": [
    {
     "data": {
      "application/vnd.jupyter.widget-view+json": {
       "model_id": "75e1f2e4653f45a8af5d776d2cc166ab",
       "version_major": 2,
       "version_minor": 0
      },
      "text/plain": [
       "Canvas(toolbar=Toolbar(toolitems=[('Home', 'Reset original view', 'home', 'home'), ('Back', 'Back to previous …"
      ]
     },
     "metadata": {},
     "output_type": "display_data"
    },
    {
     "data": {
      "text/plain": [
       "Text(0.5, 1.0, 'Comparison between original DA and DA obtained from real Loss, with Model 4 Fits $(\\\\lambda=0.5)$')"
      ]
     },
     "execution_count": 39,
     "metadata": {},
     "output_type": "execute_result"
    }
   ],
   "source": [
    "fig3, ax3 = plt.subplots()\n",
    "\n",
    "ax3.plot(turn_sampling, DA, label=\"Original DA\")\n",
    "ax3.plot(turn_sampling, fit.model_4(turn_sampling, real_selected_pars_4[0], real_selected_k_4), label=\"Fitting on original DA\\n$\\\\kappa = {:.4f},\\\\rho_\\\\ast = {:.4f}$\".format(real_selected_k_4, real_selected_pars_4[0]))\n",
    "\n",
    "ax3.plot(axis_sampling[:-1], DA_from_loss[:-1], label=\"DA extracted from real loss values\")\n",
    "ax3.plot(turn_sampling, fit.model_4(turn_sampling, loss_selected_pars_4[0], loss_selected_k_4), label=\"Fitting on original DA\\n$\\\\kappa = {:.4f},\\\\rho_\\\\ast = {:.4f}$\".format(loss_selected_k_4, loss_selected_pars_4[0]))\n",
    "\n",
    "ax3.legend()\n",
    "ax3.set_xlabel(\"$N$ turns\")\n",
    "ax3.set_ylabel(\"$DA(N)$\")\n",
    "ax3.set_title(\"Comparison between original DA and DA obtained from real Loss, with Model 4 Fits $(\\\\lambda=0.5)$\")"
   ]
  },
  {
   "cell_type": "markdown",
   "metadata": {},
   "source": [
    "### Compare fitting values with Model 4 (But more free)"
   ]
  },
  {
   "cell_type": "code",
   "execution_count": 40,
   "metadata": {},
   "outputs": [
    {
     "data": {
      "application/vnd.jupyter.widget-view+json": {
       "model_id": "d83a45dcba2d41a6b7d310ab6c8204a3",
       "version_major": 2,
       "version_minor": 0
      },
      "text/plain": [
       "HBox(children=(FloatProgress(value=0.0, max=400.0), HTML(value='')))"
      ]
     },
     "metadata": {},
     "output_type": "display_data"
    },
    {
     "name": "stdout",
     "output_type": "stream",
     "text": [
      "\n"
     ]
    },
    {
     "data": {
      "application/vnd.jupyter.widget-view+json": {
       "model_id": "e130bb3a5283459da50ce62de162419a",
       "version_major": 2,
       "version_minor": 0
      },
      "text/plain": [
       "HBox(children=(FloatProgress(value=0.0, max=400.0), HTML(value='')))"
      ]
     },
     "metadata": {},
     "output_type": "display_data"
    },
    {
     "name": "stdout",
     "output_type": "stream",
     "text": [
      "\n"
     ]
    }
   ],
   "source": [
    "k_min = 0.05\n",
    "k_max = 0.20\n",
    "samples = 400\n",
    "\n",
    "ks = np.linspace(k_min, k_max, samples)\n",
    "\n",
    "real_pars, real_errs, real_co_pars = fit.explore_model_4_free(turn_sampling, DA, k_min, k_max, samples)\n",
    "loss_pars, loss_errs, loss_co_pars = fit.explore_model_4_free(axis_sampling[:-1], DA_from_loss[:-1], k_min, k_max, samples)\n",
    "\n",
    "real_selected_err_4_free = np.min(real_errs)\n",
    "real_selected_k_4_free = ks[np.argmin(real_errs)]\n",
    "real_selected_pars_4_free = real_pars[np.argmin(real_errs)]\n",
    "real_selected_co_pars_4_free = real_co_pars[np.argmin(real_errs)]\n",
    "\n",
    "loss_selected_err_4_free = np.min(loss_errs)\n",
    "loss_selected_k_4_free = ks[np.argmin(loss_errs)]\n",
    "loss_selected_pars_4_free = loss_pars[np.argmin(loss_errs)]\n",
    "loss_selected_co_pars_4_free = loss_co_pars[np.argmin(loss_errs)]"
   ]
  },
  {
   "cell_type": "code",
   "execution_count": 41,
   "metadata": {},
   "outputs": [
    {
     "name": "stdout",
     "output_type": "stream",
     "text": [
      "REAL: $\\kappa:$ 0.12293233082706768 , $\\rho_\\ast$ and $N_0$ [36.79845342 43.27224119]\n",
      "FROM LOSS: $\\kappa:$ 0.11992481203007521 , $\\rho_\\ast$ and $N_0$ [36.59997887 34.69222847]\n"
     ]
    }
   ],
   "source": [
    "print(\"REAL:\", \"$\\\\kappa:$\", real_selected_k_4_free, \", $\\\\rho_\\\\ast$ and $N_0$\", real_selected_pars_4_free)\n",
    "print(\"FROM LOSS:\", \"$\\\\kappa:$\", loss_selected_k_4_free, \", $\\\\rho_\\\\ast$ and $N_0$\", loss_selected_pars_4_free)"
   ]
  },
  {
   "cell_type": "code",
   "execution_count": 42,
   "metadata": {},
   "outputs": [
    {
     "data": {
      "application/vnd.jupyter.widget-view+json": {
       "model_id": "fe24f7d07955426984d97895b7ccadbd",
       "version_major": 2,
       "version_minor": 0
      },
      "text/plain": [
       "Canvas(toolbar=Toolbar(toolitems=[('Home', 'Reset original view', 'home', 'home'), ('Back', 'Back to previous …"
      ]
     },
     "metadata": {},
     "output_type": "display_data"
    },
    {
     "data": {
      "text/plain": [
       "Text(0.5, 1.0, 'Comparison between original DA and DA obtained from real Loss,\\n with Model 4 Fits $(\\\\lambda=0.5)$, 3 free parameters')"
      ]
     },
     "execution_count": 42,
     "metadata": {},
     "output_type": "execute_result"
    }
   ],
   "source": [
    "fig3, ax3 = plt.subplots()\n",
    "\n",
    "ax3.plot(turn_sampling, DA, label=\"Original DA\")\n",
    "ax3.plot(turn_sampling, fit.model_4_free(turn_sampling, real_selected_pars_4_free[0], real_selected_pars_4_free[1], real_selected_k_4_free), label=\"Fitting on original DA\\n$\\\\kappa = {:.4f},\\\\rho_\\\\ast = {:.4f}, N_0 = {:.4f}$\".format(real_selected_k_4_free, real_selected_pars_4_free[0], real_selected_pars_4_free[1]))\n",
    "\n",
    "ax3.plot(axis_sampling[:-1], DA_from_loss[:-1], label=\"DA extracted from real loss values\")\n",
    "ax3.plot(turn_sampling, fit.model_4_free(turn_sampling, loss_selected_pars_4_free[0], loss_selected_pars_4_free[1], loss_selected_k_4_free), label=\"Fitting on original DA\\n$\\\\kappa = {:.4f},\\\\rho_\\\\ast = {:.4f}, N_0 = {:.4f}$\".format(loss_selected_k_4_free, loss_selected_pars_4_free[0], loss_selected_pars_4_free[1]))\n",
    "\n",
    "ax3.legend()\n",
    "ax3.set_xlabel(\"$N$ turns\")\n",
    "ax3.set_ylabel(\"$DA(N)$\")\n",
    "ax3.set_title(\"Comparison between original DA and DA obtained from real Loss,\\n with Model 4 Fits $(\\\\lambda=0.5)$, 3 free parameters\")"
   ]
  },
  {
   "cell_type": "markdown",
   "metadata": {},
   "source": [
    "### Save data in the dataframe"
   ]
  },
  {
   "cell_type": "code",
   "execution_count": null,
   "metadata": {},
   "outputs": [],
   "source": [
    "fitting_data.loc[len(fitting_data)] = [\n",
    "     \"real\",\n",
    "     np.nan,\n",
    "     real_selected_k_2,\n",
    "     ks[1] - ks[0],\n",
    "     real_selected_pars_2[0],\n",
    "     np.sqrt(real_selected_co_pars_2[0, 0]), \n",
    "     real_selected_pars_2[1], \n",
    "     np.sqrt(real_selected_co_pars_2[1, 1]), \n",
    "     real_selected_err_2,\n",
    "     real_selected_k_4, \n",
    "     ks[1] - ks[0], \n",
    "     real_selected_pars_4[0], \n",
    "     np.sqrt(real_selected_co_pars_4[0, 0]),\n",
    "     1/2,\n",
    "     real_selected_err_4,\n",
    "     real_selected_k_4_free, \n",
    "     ks[1] - ks[0], \n",
    "     real_selected_pars_4_free[0], \n",
    "     np.sqrt(real_selected_co_pars_4_free[0, 0]),\n",
    "     real_selected_pars_4_free[1], \n",
    "     np.sqrt(real_selected_co_pars_4_free[1, 1]),\n",
    "     1/2,\n",
    "     real_selected_err_4_free\n",
    "]"
   ]
  },
  {
   "cell_type": "code",
   "execution_count": 43,
   "metadata": {},
   "outputs": [],
   "source": [
    "fitting_data.loc[len(fitting_data)] = [\n",
    "    \"gaussian\",\n",
    "     sigma,\n",
    "     loss_selected_k_2,\n",
    "     ks[1] - ks[0],\n",
    "     loss_selected_pars_2[0],\n",
    "     np.sqrt(loss_selected_co_pars_2[0, 0]),\n",
    "     loss_selected_pars_2[1],\n",
    "     np.sqrt(loss_selected_co_pars_2[1, 1]),\n",
    "     loss_selected_err_2,\n",
    "     loss_selected_k_4,\n",
    "     ks[1] - ks[0],\n",
    "     loss_selected_pars_4[0],\n",
    "     np.sqrt(loss_selected_co_pars_4[0, 0]),\n",
    "     1/2,\n",
    "     loss_selected_err_4,\n",
    "     loss_selected_k_4_free,\n",
    "     ks[1] - ks[0],\n",
    "     loss_selected_pars_4_free[1],\n",
    "     np.sqrt(loss_selected_co_pars_4_free[1, 1]),\n",
    "     loss_selected_pars_4_free[0],\n",
    "     np.sqrt(loss_selected_co_pars_4_free[0, 0]),\n",
    "     1/2,\n",
    "     loss_selected_err_4_free\n",
    "]"
   ]
  },
  {
   "cell_type": "markdown",
   "metadata": {},
   "source": [
    "## Display general dataframe with fitting data"
   ]
  },
  {
   "cell_type": "code",
   "execution_count": 44,
   "metadata": {},
   "outputs": [
    {
     "data": {
      "text/html": [
       "<div>\n",
       "<style scoped>\n",
       "    .dataframe tbody tr th:only-of-type {\n",
       "        vertical-align: middle;\n",
       "    }\n",
       "\n",
       "    .dataframe tbody tr th {\n",
       "        vertical-align: top;\n",
       "    }\n",
       "\n",
       "    .dataframe thead tr th {\n",
       "        text-align: left;\n",
       "    }\n",
       "</style>\n",
       "<table border=\"1\" class=\"dataframe\">\n",
       "  <thead>\n",
       "    <tr>\n",
       "      <th></th>\n",
       "      <th>type</th>\n",
       "      <th>sigma</th>\n",
       "      <th colspan=\"7\" halign=\"left\">Model 2</th>\n",
       "    </tr>\n",
       "    <tr>\n",
       "      <th></th>\n",
       "      <th></th>\n",
       "      <th></th>\n",
       "      <th>k</th>\n",
       "      <th>k err</th>\n",
       "      <th>rho</th>\n",
       "      <th>rho err</th>\n",
       "      <th>N0</th>\n",
       "      <th>N0 err</th>\n",
       "      <th>Chi2</th>\n",
       "    </tr>\n",
       "  </thead>\n",
       "  <tbody>\n",
       "    <tr>\n",
       "      <th>0</th>\n",
       "      <td>real</td>\n",
       "      <td>NaN</td>\n",
       "      <td>0.119925</td>\n",
       "      <td>0.000376</td>\n",
       "      <td>36.154420</td>\n",
       "      <td>0.003738</td>\n",
       "      <td>46.762350</td>\n",
       "      <td>0.203332</td>\n",
       "      <td>0.008032</td>\n",
       "    </tr>\n",
       "    <tr>\n",
       "      <th>1</th>\n",
       "      <td>uniform</td>\n",
       "      <td>NaN</td>\n",
       "      <td>0.121429</td>\n",
       "      <td>0.000376</td>\n",
       "      <td>37.482097</td>\n",
       "      <td>0.009520</td>\n",
       "      <td>57.090429</td>\n",
       "      <td>0.543469</td>\n",
       "      <td>10.872958</td>\n",
       "    </tr>\n",
       "    <tr>\n",
       "      <th>2</th>\n",
       "      <td>gaussian</td>\n",
       "      <td>8.0</td>\n",
       "      <td>0.117293</td>\n",
       "      <td>0.000376</td>\n",
       "      <td>36.031353</td>\n",
       "      <td>0.010386</td>\n",
       "      <td>37.120365</td>\n",
       "      <td>0.498382</td>\n",
       "      <td>0.208608</td>\n",
       "    </tr>\n",
       "  </tbody>\n",
       "</table>\n",
       "</div>"
      ],
      "text/plain": [
       "       type sigma   Model 2                                            \\\n",
       "                          k     k err        rho   rho err         N0   \n",
       "0      real   NaN  0.119925  0.000376  36.154420  0.003738  46.762350   \n",
       "1   uniform   NaN  0.121429  0.000376  37.482097  0.009520  57.090429   \n",
       "2  gaussian   8.0  0.117293  0.000376  36.031353  0.010386  37.120365   \n",
       "\n",
       "                        \n",
       "     N0 err       Chi2  \n",
       "0  0.203332   0.008032  \n",
       "1  0.543469  10.872958  \n",
       "2  0.498382   0.208608  "
      ]
     },
     "execution_count": 44,
     "metadata": {},
     "output_type": "execute_result"
    }
   ],
   "source": [
    "fitting_data[[\"type\", \"sigma\", \"Model 2\"]]"
   ]
  },
  {
   "cell_type": "code",
   "execution_count": 45,
   "metadata": {},
   "outputs": [
    {
     "data": {
      "text/html": [
       "<div>\n",
       "<style scoped>\n",
       "    .dataframe tbody tr th:only-of-type {\n",
       "        vertical-align: middle;\n",
       "    }\n",
       "\n",
       "    .dataframe tbody tr th {\n",
       "        vertical-align: top;\n",
       "    }\n",
       "\n",
       "    .dataframe thead tr th {\n",
       "        text-align: left;\n",
       "    }\n",
       "</style>\n",
       "<table border=\"1\" class=\"dataframe\">\n",
       "  <thead>\n",
       "    <tr>\n",
       "      <th></th>\n",
       "      <th>type</th>\n",
       "      <th>sigma</th>\n",
       "      <th colspan=\"6\" halign=\"left\">Model 4 (2 free pars)</th>\n",
       "    </tr>\n",
       "    <tr>\n",
       "      <th></th>\n",
       "      <th></th>\n",
       "      <th></th>\n",
       "      <th>k</th>\n",
       "      <th>k err</th>\n",
       "      <th>rho</th>\n",
       "      <th>rho err</th>\n",
       "      <th>lambda</th>\n",
       "      <th>Chi2</th>\n",
       "    </tr>\n",
       "  </thead>\n",
       "  <tbody>\n",
       "    <tr>\n",
       "      <th>0</th>\n",
       "      <td>real</td>\n",
       "      <td>NaN</td>\n",
       "      <td>0.216165</td>\n",
       "      <td>0.000376</td>\n",
       "      <td>60.229051</td>\n",
       "      <td>0.012648</td>\n",
       "      <td>0.5</td>\n",
       "      <td>0.180550</td>\n",
       "    </tr>\n",
       "    <tr>\n",
       "      <th>1</th>\n",
       "      <td>uniform</td>\n",
       "      <td>NaN</td>\n",
       "      <td>0.223684</td>\n",
       "      <td>0.000376</td>\n",
       "      <td>64.376111</td>\n",
       "      <td>0.020638</td>\n",
       "      <td>0.5</td>\n",
       "      <td>11.032593</td>\n",
       "    </tr>\n",
       "    <tr>\n",
       "      <th>2</th>\n",
       "      <td>gaussian</td>\n",
       "      <td>8.0</td>\n",
       "      <td>0.217293</td>\n",
       "      <td>0.000376</td>\n",
       "      <td>60.765385</td>\n",
       "      <td>0.015983</td>\n",
       "      <td>0.5</td>\n",
       "      <td>0.323162</td>\n",
       "    </tr>\n",
       "  </tbody>\n",
       "</table>\n",
       "</div>"
      ],
      "text/plain": [
       "       type sigma Model 4 (2 free pars)                                        \\\n",
       "                                      k     k err        rho   rho err lambda   \n",
       "0      real   NaN              0.216165  0.000376  60.229051  0.012648    0.5   \n",
       "1   uniform   NaN              0.223684  0.000376  64.376111  0.020638    0.5   \n",
       "2  gaussian   8.0              0.217293  0.000376  60.765385  0.015983    0.5   \n",
       "\n",
       "              \n",
       "        Chi2  \n",
       "0   0.180550  \n",
       "1  11.032593  \n",
       "2   0.323162  "
      ]
     },
     "execution_count": 45,
     "metadata": {},
     "output_type": "execute_result"
    }
   ],
   "source": [
    "fitting_data[[\"type\", \"sigma\", \"Model 4 (2 free pars)\"]]"
   ]
  },
  {
   "cell_type": "code",
   "execution_count": 46,
   "metadata": {},
   "outputs": [
    {
     "data": {
      "text/html": [
       "<div>\n",
       "<style scoped>\n",
       "    .dataframe tbody tr th:only-of-type {\n",
       "        vertical-align: middle;\n",
       "    }\n",
       "\n",
       "    .dataframe tbody tr th {\n",
       "        vertical-align: top;\n",
       "    }\n",
       "\n",
       "    .dataframe thead tr th {\n",
       "        text-align: left;\n",
       "    }\n",
       "</style>\n",
       "<table border=\"1\" class=\"dataframe\">\n",
       "  <thead>\n",
       "    <tr>\n",
       "      <th></th>\n",
       "      <th>type</th>\n",
       "      <th>sigma</th>\n",
       "      <th colspan=\"8\" halign=\"left\">Model 4 (3 free pars)</th>\n",
       "    </tr>\n",
       "    <tr>\n",
       "      <th></th>\n",
       "      <th></th>\n",
       "      <th></th>\n",
       "      <th>k</th>\n",
       "      <th>k err</th>\n",
       "      <th>rho</th>\n",
       "      <th>rho err</th>\n",
       "      <th>N0</th>\n",
       "      <th>N0 err</th>\n",
       "      <th>lambda</th>\n",
       "      <th>Chi2</th>\n",
       "    </tr>\n",
       "  </thead>\n",
       "  <tbody>\n",
       "    <tr>\n",
       "      <th>0</th>\n",
       "      <td>real</td>\n",
       "      <td>NaN</td>\n",
       "      <td>0.122932</td>\n",
       "      <td>0.000376</td>\n",
       "      <td>36.798453</td>\n",
       "      <td>0.003951</td>\n",
       "      <td>43.272241</td>\n",
       "      <td>0.194533</td>\n",
       "      <td>0.5</td>\n",
       "      <td>0.008776</td>\n",
       "    </tr>\n",
       "    <tr>\n",
       "      <th>1</th>\n",
       "      <td>uniform</td>\n",
       "      <td>NaN</td>\n",
       "      <td>0.124060</td>\n",
       "      <td>0.000376</td>\n",
       "      <td>38.085759</td>\n",
       "      <td>0.009677</td>\n",
       "      <td>52.815583</td>\n",
       "      <td>0.497892</td>\n",
       "      <td>0.5</td>\n",
       "      <td>10.872947</td>\n",
       "    </tr>\n",
       "    <tr>\n",
       "      <th>2</th>\n",
       "      <td>gaussian</td>\n",
       "      <td>8.0</td>\n",
       "      <td>0.119925</td>\n",
       "      <td>0.000376</td>\n",
       "      <td>34.692228</td>\n",
       "      <td>0.473111</td>\n",
       "      <td>36.599979</td>\n",
       "      <td>0.010746</td>\n",
       "      <td>0.5</td>\n",
       "      <td>0.208704</td>\n",
       "    </tr>\n",
       "  </tbody>\n",
       "</table>\n",
       "</div>"
      ],
      "text/plain": [
       "       type sigma Model 4 (3 free pars)                                 \\\n",
       "                                      k     k err        rho   rho err   \n",
       "0      real   NaN              0.122932  0.000376  36.798453  0.003951   \n",
       "1   uniform   NaN              0.124060  0.000376  38.085759  0.009677   \n",
       "2  gaussian   8.0              0.119925  0.000376  34.692228  0.473111   \n",
       "\n",
       "                                          \n",
       "          N0    N0 err lambda       Chi2  \n",
       "0  43.272241  0.194533    0.5   0.008776  \n",
       "1  52.815583  0.497892    0.5  10.872947  \n",
       "2  36.599979  0.010746    0.5   0.208704  "
      ]
     },
     "execution_count": 46,
     "metadata": {},
     "output_type": "execute_result"
    }
   ],
   "source": [
    "fitting_data[[\"type\", \"sigma\", \"Model 4 (3 free pars)\"]]"
   ]
  },
  {
   "cell_type": "markdown",
   "metadata": {},
   "source": [
    "# Fokker-Planck and Nekhoroshev"
   ]
  },
  {
   "cell_type": "code",
   "execution_count": 47,
   "metadata": {},
   "outputs": [],
   "source": [
    "import crank_nicolson_numba.nekhoroshev as nk"
   ]
  },
  {
   "cell_type": "code",
   "execution_count": 48,
   "metadata": {},
   "outputs": [],
   "source": [
    "k = fitting_data[(\"Model 4 (3 free pars)\", \"k\")][1]\n",
    "rho = fitting_data[(\"Model 4 (3 free pars)\", \"rho\")][1]\n",
    "N0 = fitting_data[(\"Model 4 (3 free pars)\", \"N0\")][1]"
   ]
  },
  {
   "cell_type": "markdown",
   "metadata": {},
   "source": [
    "## 4D normal distribution in 1D Action variable\n",
    "If we consider the following distribution:\n",
    "\n",
    "$$ f(x,p_x,y,p_y) = \\frac{1}{4\\pi^2\\sigma^4}\\exp\\left[-\\frac{1}{2}\\left(\\frac{x^2}{\\sigma^2}+\\frac{p_x^2}{\\sigma^2}+\\frac{y^2}{\\sigma^2}+\\frac{p_y^2}{\\sigma^2}\\right)\\right]$$"
   ]
  },
  {
   "cell_type": "markdown",
   "metadata": {},
   "source": [
    "we convert the distribution to polar variables:\n",
    "\n",
    "$$f(r, \\alpha, \\theta_1, \\theta_2) = \\frac{r^3 \\sin(\\alpha)\\cos(\\alpha)}{4\\pi^2\\sigma^4} \\exp\\left[-\\frac{1}{2}\\left(\\frac{r^2}{\\sigma^2}\\right)\\right]$$\n",
    "\n",
    "we then consider distribution integrated over $\\alpha, \\theta_1, \\theta_2$:\n",
    "\n",
    "$$f(r) = \\int_0^{2\\pi}\\int_0^{2\\pi}\\int_0^{\\pi/2} f(r,\\alpha,\\theta_1,\\theta_2)\\,d\\alpha\\,d\\theta_1\\,d\\theta_2 = \\frac{r^3}{2\\sigma^4}\\exp\\left[-\\frac{1}{2}\\left(\\frac{r^2}{\\sigma^2}\\right)\\right]$$\n"
   ]
  },
  {
   "cell_type": "markdown",
   "metadata": {},
   "source": [
    "and then we consider $I = r^2/2$ which implies also $dr = dI/I^{1/2}$, and end up with:\n",
    "\n",
    "$$f(I) = \\frac{I}{\\sigma^4}\\exp\\left[-\\frac{I}{\\sigma^2}\\right] = c I \\exp\\left[-\\frac{I}{\\sigma^2}\\right]$$\n",
    "\n",
    "where $c$ will be normalized in order to have a unitary starting value for the distributions considered."
   ]
  },
  {
   "cell_type": "markdown",
   "metadata": {},
   "source": [
    "## Nekhoroshev-like Diffusion equation\n",
    "\n",
    "$$D(I) = c \\exp\\left[-\\left(\\frac{I_\\ast}{I}\\right)^{1/2\\kappa}\\right]$$\n",
    "\n",
    "$$D(I) = c \\exp\\left[-2\\left(\\frac{I_\\ast}{I}\\right)^{1/2\\kappa}\\right]$$\n",
    "\n",
    "(verificare su articolo)\n",
    "\n",
    "* Try to use free $\\kappa$\n",
    "* (done) Fix $\\kappa$ "
   ]
  },
  {
   "cell_type": "markdown",
   "metadata": {},
   "source": [
    "### Parameters setup"
   ]
  },
  {
   "cell_type": "code",
   "execution_count": 49,
   "metadata": {},
   "outputs": [],
   "source": [
    "I_max = DA0**2 / 2\n",
    "I, stepI = np.linspace(0, I_max, 3000, retstep=True)\n",
    "I0 = I * np.exp(-(I/sigma**2))\n",
    "\n",
    "I0 = nk.logistic_damping(I, I0, 470, 10)\n",
    "\n",
    "I0 /= integrate.trapz(I0, I)\n",
    "\n",
    "c = 1.0\n",
    "\n",
    "I_star_min = 150.0\n",
    "I_star_max = 350.0\n",
    "I_star_steps = 401\n",
    "I_star_list = np.linspace(I_star_min, I_star_max, I_star_steps)\n",
    "\n",
    "iter_step = 100"
   ]
  },
  {
   "cell_type": "code",
   "execution_count": 50,
   "metadata": {},
   "outputs": [
    {
     "data": {
      "application/vnd.jupyter.widget-view+json": {
       "model_id": "1025bf74b39e48c8b0058014830369b8",
       "version_major": 2,
       "version_minor": 0
      },
      "text/plain": [
       "Canvas(toolbar=Toolbar(toolitems=[('Home', 'Reset original view', 'home', 'home'), ('Back', 'Back to previous …"
      ]
     },
     "metadata": {},
     "output_type": "display_data"
    },
    {
     "data": {
      "text/plain": [
       "Text(0.5, 1.0, 'Starting distribution for FP (logistic dumping added at the end)')"
      ]
     },
     "execution_count": 50,
     "metadata": {},
     "output_type": "execute_result"
    }
   ],
   "source": [
    "t1_fig, t1_ax = plt.subplots()\n",
    "t1_ax.plot(I, I0)\n",
    "t1_ax.set_xlabel(\"$I$\")\n",
    "t1_ax.set_ylabel(\"$f(I)$\")\n",
    "t1_ax.set_title(\"Starting distribution for FP (logistic dumping added at the end)\")"
   ]
  },
  {
   "cell_type": "code",
   "execution_count": 51,
   "metadata": {
    "scrolled": true
   },
   "outputs": [
    {
     "data": {
      "application/vnd.jupyter.widget-view+json": {
       "model_id": "0f86711a96124ae68154ec2dc9a999d8",
       "version_major": 2,
       "version_minor": 0
      },
      "text/plain": [
       "HBox(children=(FloatProgress(value=0.0, max=401.0), HTML(value='')))"
      ]
     },
     "metadata": {},
     "output_type": "display_data"
    },
    {
     "name": "stdout",
     "output_type": "stream",
     "text": [
      "Step: 0 / 401 , Number of steps executed 1501 , dt: 1.0\n",
      "Increasing dt!\n",
      "Step: 1 / 401 , Number of steps executed 754 , dt: 2.0\n",
      "Increasing dt!\n",
      "Step: 2 / 401 , Number of steps executed 379 , dt: 4.0\n",
      "Step: 3 / 401 , Number of steps executed 381 , dt: 4.0\n",
      "Step: 4 / 401 , Number of steps executed 383 , dt: 4.0\n",
      "Step: 5 / 401 , Number of steps executed 384 , dt: 4.0\n",
      "Step: 6 / 401 , Number of steps executed 386 , dt: 4.0\n",
      "Step: 7 / 401 , Number of steps executed 388 , dt: 4.0\n",
      "Step: 8 / 401 , Number of steps executed 390 , dt: 4.0\n",
      "Step: 9 / 401 , Number of steps executed 391 , dt: 4.0\n",
      "Step: 10 / 401 , Number of steps executed 393 , dt: 4.0\n",
      "Step: 11 / 401 , Number of steps executed 395 , dt: 4.0\n",
      "Step: 12 / 401 , Number of steps executed 397 , dt: 4.0\n",
      "Step: 13 / 401 , Number of steps executed 399 , dt: 4.0\n",
      "Step: 14 / 401 , Number of steps executed 401 , dt: 4.0\n",
      "Step: 15 / 401 , Number of steps executed 403 , dt: 4.0\n",
      "Step: 16 / 401 , Number of steps executed 405 , dt: 4.0\n",
      "Step: 17 / 401 , Number of steps executed 407 , dt: 4.0\n",
      "Step: 18 / 401 , Number of steps executed 409 , dt: 4.0\n",
      "Step: 19 / 401 , Number of steps executed 411 , dt: 4.0\n",
      "Step: 20 / 401 , Number of steps executed 413 , dt: 4.0\n",
      "Step: 21 / 401 , Number of steps executed 415 , dt: 4.0\n",
      "Step: 22 / 401 , Number of steps executed 417 , dt: 4.0\n",
      "Step: 23 / 401 , Number of steps executed 419 , dt: 4.0\n",
      "Step: 24 / 401 , Number of steps executed 422 , dt: 4.0\n",
      "Step: 25 / 401 , Number of steps executed 424 , dt: 4.0\n",
      "Step: 26 / 401 , Number of steps executed 426 , dt: 4.0\n",
      "Step: 27 / 401 , Number of steps executed 428 , dt: 4.0\n",
      "Step: 28 / 401 , Number of steps executed 431 , dt: 4.0\n",
      "Step: 29 / 401 , Number of steps executed 433 , dt: 4.0\n",
      "Step: 30 / 401 , Number of steps executed 435 , dt: 4.0\n",
      "Step: 31 / 401 , Number of steps executed 438 , dt: 4.0\n",
      "Step: 32 / 401 , Number of steps executed 440 , dt: 4.0\n",
      "Step: 33 / 401 , Number of steps executed 443 , dt: 4.0\n",
      "Step: 34 / 401 , Number of steps executed 445 , dt: 4.0\n",
      "Step: 35 / 401 , Number of steps executed 448 , dt: 4.0\n",
      "Step: 36 / 401 , Number of steps executed 450 , dt: 4.0\n",
      "Step: 37 / 401 , Number of steps executed 453 , dt: 4.0\n",
      "Step: 38 / 401 , Number of steps executed 455 , dt: 4.0\n",
      "Step: 39 / 401 , Number of steps executed 458 , dt: 4.0\n",
      "Step: 40 / 401 , Number of steps executed 461 , dt: 4.0\n",
      "Step: 41 / 401 , Number of steps executed 463 , dt: 4.0\n",
      "Step: 42 / 401 , Number of steps executed 466 , dt: 4.0\n",
      "Step: 43 / 401 , Number of steps executed 469 , dt: 4.0\n",
      "Step: 44 / 401 , Number of steps executed 472 , dt: 4.0\n",
      "Step: 45 / 401 , Number of steps executed 474 , dt: 4.0\n",
      "Step: 46 / 401 , Number of steps executed 477 , dt: 4.0\n",
      "Step: 47 / 401 , Number of steps executed 480 , dt: 4.0\n",
      "Step: 48 / 401 , Number of steps executed 483 , dt: 4.0\n",
      "Step: 49 / 401 , Number of steps executed 486 , dt: 4.0\n",
      "Step: 50 / 401 , Number of steps executed 489 , dt: 4.0\n",
      "Step: 51 / 401 , Number of steps executed 492 , dt: 4.0\n",
      "Step: 52 / 401 , Number of steps executed 496 , dt: 4.0\n",
      "Step: 53 / 401 , Number of steps executed 499 , dt: 4.0\n",
      "Step: 54 / 401 , Number of steps executed 502 , dt: 4.0\n",
      "Increasing dt!\n",
      "Step: 55 / 401 , Number of steps executed 253 , dt: 8.0\n",
      "Step: 56 / 401 , Number of steps executed 255 , dt: 8.0\n",
      "Step: 57 / 401 , Number of steps executed 256 , dt: 8.0\n",
      "Step: 58 / 401 , Number of steps executed 258 , dt: 8.0\n",
      "Step: 59 / 401 , Number of steps executed 260 , dt: 8.0\n",
      "Step: 60 / 401 , Number of steps executed 262 , dt: 8.0\n",
      "Step: 61 / 401 , Number of steps executed 263 , dt: 8.0\n",
      "Step: 62 / 401 , Number of steps executed 265 , dt: 8.0\n",
      "Step: 63 / 401 , Number of steps executed 267 , dt: 8.0\n",
      "Step: 64 / 401 , Number of steps executed 269 , dt: 8.0\n",
      "Step: 65 / 401 , Number of steps executed 271 , dt: 8.0\n",
      "Step: 66 / 401 , Number of steps executed 273 , dt: 8.0\n",
      "Step: 67 / 401 , Number of steps executed 275 , dt: 8.0\n",
      "Step: 68 / 401 , Number of steps executed 277 , dt: 8.0\n",
      "Step: 69 / 401 , Number of steps executed 279 , dt: 8.0\n",
      "Step: 70 / 401 , Number of steps executed 281 , dt: 8.0\n",
      "Step: 71 / 401 , Number of steps executed 283 , dt: 8.0\n",
      "Step: 72 / 401 , Number of steps executed 285 , dt: 8.0\n",
      "Step: 73 / 401 , Number of steps executed 287 , dt: 8.0\n",
      "Step: 74 / 401 , Number of steps executed 289 , dt: 8.0\n",
      "Step: 75 / 401 , Number of steps executed 292 , dt: 8.0\n",
      "Step: 76 / 401 , Number of steps executed 294 , dt: 8.0\n",
      "Step: 77 / 401 , Number of steps executed 296 , dt: 8.0\n",
      "Step: 78 / 401 , Number of steps executed 299 , dt: 8.0\n",
      "Step: 79 / 401 , Number of steps executed 301 , dt: 8.0\n",
      "Step: 80 / 401 , Number of steps executed 303 , dt: 8.0\n",
      "Step: 81 / 401 , Number of steps executed 306 , dt: 8.0\n",
      "Step: 82 / 401 , Number of steps executed 308 , dt: 8.0\n",
      "Step: 83 / 401 , Number of steps executed 311 , dt: 8.0\n",
      "Step: 84 / 401 , Number of steps executed 314 , dt: 8.0\n",
      "Step: 85 / 401 , Number of steps executed 316 , dt: 8.0\n",
      "Step: 86 / 401 , Number of steps executed 319 , dt: 8.0\n",
      "Step: 87 / 401 , Number of steps executed 322 , dt: 8.0\n",
      "Step: 88 / 401 , Number of steps executed 325 , dt: 8.0\n",
      "Step: 89 / 401 , Number of steps executed 327 , dt: 8.0\n",
      "Step: 90 / 401 , Number of steps executed 330 , dt: 8.0\n",
      "Step: 91 / 401 , Number of steps executed 333 , dt: 8.0\n",
      "Step: 92 / 401 , Number of steps executed 336 , dt: 8.0\n",
      "Step: 93 / 401 , Number of steps executed 340 , dt: 8.0\n",
      "Step: 94 / 401 , Number of steps executed 343 , dt: 8.0\n",
      "Step: 95 / 401 , Number of steps executed 346 , dt: 8.0\n",
      "Step: 96 / 401 , Number of steps executed 349 , dt: 8.0\n",
      "Step: 97 / 401 , Number of steps executed 353 , dt: 8.0\n",
      "Step: 98 / 401 , Number of steps executed 356 , dt: 8.0\n",
      "Step: 99 / 401 , Number of steps executed 359 , dt: 8.0\n",
      "Step: 100 / 401 , Number of steps executed 363 , dt: 8.0\n",
      "Step: 101 / 401 , Number of steps executed 367 , dt: 8.0\n",
      "Step: 102 / 401 , Number of steps executed 370 , dt: 8.0\n",
      "Step: 103 / 401 , Number of steps executed 374 , dt: 8.0\n",
      "Step: 104 / 401 , Number of steps executed 378 , dt: 8.0\n",
      "Step: 105 / 401 , Number of steps executed 382 , dt: 8.0\n",
      "Step: 106 / 401 , Number of steps executed 386 , dt: 8.0\n",
      "Step: 107 / 401 , Number of steps executed 390 , dt: 8.0\n",
      "Step: 108 / 401 , Number of steps executed 395 , dt: 8.0\n",
      "Step: 109 / 401 , Number of steps executed 399 , dt: 8.0\n",
      "Step: 110 / 401 , Number of steps executed 404 , dt: 8.0\n",
      "Step: 111 / 401 , Number of steps executed 408 , dt: 8.0\n",
      "Step: 112 / 401 , Number of steps executed 413 , dt: 8.0\n",
      "Step: 113 / 401 , Number of steps executed 418 , dt: 8.0\n",
      "Step: 114 / 401 , Number of steps executed 423 , dt: 8.0\n",
      "Step: 115 / 401 , Number of steps executed 428 , dt: 8.0\n",
      "Step: 116 / 401 , Number of steps executed 433 , dt: 8.0\n",
      "Step: 117 / 401 , Number of steps executed 438 , dt: 8.0\n",
      "Step: 118 / 401 , Number of steps executed 444 , dt: 8.0\n",
      "Step: 119 / 401 , Number of steps executed 449 , dt: 8.0\n",
      "Step: 120 / 401 , Number of steps executed 455 , dt: 8.0\n",
      "Step: 121 / 401 , Number of steps executed 461 , dt: 8.0\n",
      "Step: 122 / 401 , Number of steps executed 467 , dt: 8.0\n",
      "Step: 123 / 401 , Number of steps executed 474 , dt: 8.0\n",
      "Step: 124 / 401 , Number of steps executed 480 , dt: 8.0\n",
      "Step: 125 / 401 , Number of steps executed 487 , dt: 8.0\n",
      "Step: 126 / 401 , Number of steps executed 494 , dt: 8.0\n",
      "Step: 127 / 401 , Number of steps executed 501 , dt: 8.0\n",
      "Increasing dt!\n",
      "Step: 128 / 401 , Number of steps executed 254 , dt: 16.0\n",
      "Step: 129 / 401 , Number of steps executed 258 , dt: 16.0\n",
      "Step: 130 / 401 , Number of steps executed 262 , dt: 16.0\n",
      "Step: 131 / 401 , Number of steps executed 266 , dt: 16.0\n",
      "Step: 132 / 401 , Number of steps executed 270 , dt: 16.0\n",
      "Step: 133 / 401 , Number of steps executed 274 , dt: 16.0\n",
      "Step: 134 / 401 , Number of steps executed 279 , dt: 16.0\n",
      "Step: 135 / 401 , Number of steps executed 283 , dt: 16.0\n",
      "Step: 136 / 401 , Number of steps executed 288 , dt: 16.0\n",
      "Step: 137 / 401 , Number of steps executed 293 , dt: 16.0\n",
      "Step: 138 / 401 , Number of steps executed 298 , dt: 16.0\n",
      "Step: 139 / 401 , Number of steps executed 304 , dt: 16.0\n",
      "Step: 140 / 401 , Number of steps executed 309 , dt: 16.0\n",
      "Step: 141 / 401 , Number of steps executed 315 , dt: 16.0\n",
      "Step: 142 / 401 , Number of steps executed 321 , dt: 16.0\n",
      "Step: 143 / 401 , Number of steps executed 327 , dt: 16.0\n",
      "Step: 144 / 401 , Number of steps executed 333 , dt: 16.0\n",
      "Step: 145 / 401 , Number of steps executed 340 , dt: 16.0\n",
      "Step: 146 / 401 , Number of steps executed 347 , dt: 16.0\n",
      "Step: 147 / 401 , Number of steps executed 354 , dt: 16.0\n",
      "Step: 148 / 401 , Number of steps executed 362 , dt: 16.0\n",
      "Step: 149 / 401 , Number of steps executed 370 , dt: 16.0\n",
      "Step: 150 / 401 , Number of steps executed 378 , dt: 16.0\n",
      "Step: 151 / 401 , Number of steps executed 387 , dt: 16.0\n",
      "Step: 152 / 401 , Number of steps executed 396 , dt: 16.0\n",
      "Step: 153 / 401 , Number of steps executed 406 , dt: 16.0\n",
      "Step: 154 / 401 , Number of steps executed 416 , dt: 16.0\n",
      "Step: 155 / 401 , Number of steps executed 427 , dt: 16.0\n",
      "Step: 156 / 401 , Number of steps executed 438 , dt: 16.0\n",
      "Step: 157 / 401 , Number of steps executed 450 , dt: 16.0\n",
      "Step: 158 / 401 , Number of steps executed 462 , dt: 16.0\n",
      "Step: 159 / 401 , Number of steps executed 475 , dt: 16.0\n",
      "Step: 160 / 401 , Number of steps executed 489 , dt: 16.0\n",
      "Step: 161 / 401 , Number of steps executed 504 , dt: 16.0\n",
      "Increasing dt!\n",
      "Step: 162 / 401 , Number of steps executed 260 , dt: 32.0\n",
      "Step: 163 / 401 , Number of steps executed 268 , dt: 32.0\n",
      "Step: 164 / 401 , Number of steps executed 277 , dt: 32.0\n",
      "Step: 165 / 401 , Number of steps executed 286 , dt: 32.0\n",
      "Step: 166 / 401 , Number of steps executed 296 , dt: 32.0\n",
      "Step: 167 / 401 , Number of steps executed 306 , dt: 32.0\n",
      "Step: 168 / 401 , Number of steps executed 317 , dt: 32.0\n",
      "Step: 169 / 401 , Number of steps executed 329 , dt: 32.0\n",
      "Step: 170 / 401 , Number of steps executed 341 , dt: 32.0\n",
      "Step: 171 / 401 , Number of steps executed 355 , dt: 32.0\n",
      "Step: 172 / 401 , Number of steps executed 369 , dt: 32.0\n",
      "Step: 173 / 401 , Number of steps executed 384 , dt: 32.0\n",
      "Step: 174 / 401 , Number of steps executed 400 , dt: 32.0\n",
      "Step: 175 / 401 , Number of steps executed 417 , dt: 32.0\n",
      "Step: 176 / 401 , Number of steps executed 436 , dt: 32.0\n",
      "Step: 177 / 401 , Number of steps executed 455 , dt: 32.0\n",
      "Step: 178 / 401 , Number of steps executed 476 , dt: 32.0\n",
      "Step: 179 / 401 , Number of steps executed 498 , dt: 32.0\n",
      "Step: 180 / 401 , Number of steps executed 522 , dt: 32.0\n",
      "Increasing dt!\n",
      "Step: 181 / 401 , Number of steps executed 274 , dt: 64.0\n",
      "Step: 182 / 401 , Number of steps executed 288 , dt: 64.0\n",
      "Step: 183 / 401 , Number of steps executed 303 , dt: 64.0\n",
      "Step: 184 / 401 , Number of steps executed 318 , dt: 64.0\n",
      "Step: 185 / 401 , Number of steps executed 335 , dt: 64.0\n",
      "Step: 186 / 401 , Number of steps executed 353 , dt: 64.0\n",
      "Step: 187 / 401 , Number of steps executed 373 , dt: 64.0\n",
      "Step: 188 / 401 , Number of steps executed 394 , dt: 64.0\n",
      "Step: 189 / 401 , Number of steps executed 416 , dt: 64.0\n",
      "Step: 190 / 401 , Number of steps executed 440 , dt: 64.0\n",
      "Step: 191 / 401 , Number of steps executed 466 , dt: 64.0\n",
      "Step: 192 / 401 , Number of steps executed 494 , dt: 64.0\n",
      "Step: 193 / 401 , Number of steps executed 524 , dt: 64.0\n",
      "Increasing dt!\n",
      "Step: 194 / 401 , Number of steps executed 278 , dt: 128.0\n",
      "Step: 195 / 401 , Number of steps executed 296 , dt: 128.0\n",
      "Step: 196 / 401 , Number of steps executed 314 , dt: 128.0\n",
      "Step: 197 / 401 , Number of steps executed 335 , dt: 128.0\n",
      "Step: 198 / 401 , Number of steps executed 357 , dt: 128.0\n",
      "Step: 199 / 401 , Number of steps executed 380 , dt: 128.0\n",
      "Step: 200 / 401 , Number of steps executed 406 , dt: 128.0\n",
      "Step: 201 / 401 , Number of steps executed 433 , dt: 128.0\n",
      "Step: 202 / 401 , Number of steps executed 463 , dt: 128.0\n",
      "Step: 203 / 401 , Number of steps executed 495 , dt: 128.0\n",
      "Step: 204 / 401 , Number of steps executed 530 , dt: 128.0\n",
      "Increasing dt!\n",
      "Step: 205 / 401 , Number of steps executed 284 , dt: 256.0\n",
      "Step: 206 / 401 , Number of steps executed 305 , dt: 256.0\n",
      "Step: 207 / 401 , Number of steps executed 327 , dt: 256.0\n",
      "Step: 208 / 401 , Number of steps executed 352 , dt: 256.0\n",
      "Step: 209 / 401 , Number of steps executed 378 , dt: 256.0\n",
      "Step: 210 / 401 , Number of steps executed 407 , dt: 256.0\n",
      "Step: 211 / 401 , Number of steps executed 438 , dt: 256.0\n",
      "Step: 212 / 401 , Number of steps executed 472 , dt: 256.0\n",
      "Step: 213 / 401 , Number of steps executed 509 , dt: 256.0\n",
      "Increasing dt!\n",
      "Step: 214 / 401 , Number of steps executed 275 , dt: 512.0\n",
      "Step: 215 / 401 , Number of steps executed 297 , dt: 512.0\n",
      "Step: 216 / 401 , Number of steps executed 321 , dt: 512.0\n",
      "Step: 217 / 401 , Number of steps executed 347 , dt: 512.0\n",
      "Step: 218 / 401 , Number of steps executed 375 , dt: 512.0\n",
      "Step: 219 / 401 , Number of steps executed 407 , dt: 512.0\n",
      "Step: 220 / 401 , Number of steps executed 441 , dt: 512.0\n",
      "Step: 221 / 401 , Number of steps executed 478 , dt: 512.0\n",
      "Step: 222 / 401 , Number of steps executed 520 , dt: 512.0\n",
      "Increasing dt!\n",
      "Step: 223 / 401 , Number of steps executed 283 , dt: 1024.0\n",
      "Step: 224 / 401 , Number of steps executed 307 , dt: 1024.0\n",
      "Step: 225 / 401 , Number of steps executed 334 , dt: 1024.0\n",
      "Step: 226 / 401 , Number of steps executed 364 , dt: 1024.0\n",
      "Step: 227 / 401 , Number of steps executed 397 , dt: 1024.0\n",
      "We went down now!\n",
      "\n"
     ]
    }
   ],
   "source": [
    "best_data, best_I_star, best_time, error = fit.scan_I_star(\n",
    "    values,\n",
    "    turn_sampling,\n",
    "    I_max,\n",
    "    I0,\n",
    "    k,\n",
    "    200.0,\n",
    "    1.0,\n",
    "    iter_step,\n",
    "    0.05\n",
    ")"
   ]
  },
  {
   "cell_type": "code",
   "execution_count": 53,
   "metadata": {},
   "outputs": [
    {
     "name": "stdout",
     "output_type": "stream",
     "text": [
      "Displaying the best FP values obtained:\n",
      "I_star = 259.5\n",
      "Time scale = 416.768\n"
     ]
    }
   ],
   "source": [
    "print(\"Displaying the best FP values obtained:\")\n",
    "print(\"I_star = {}\".format(best_I_star))\n",
    "print(\"Time scale = {}\".format(best_time[0]/axis_sampling[0]))"
   ]
  },
  {
   "cell_type": "code",
   "execution_count": 54,
   "metadata": {},
   "outputs": [
    {
     "data": {
      "application/vnd.jupyter.widget-view+json": {
       "model_id": "80e7c30e350a4c87a4feeb9e32d7da0a",
       "version_major": 2,
       "version_minor": 0
      },
      "text/plain": [
       "Canvas(toolbar=Toolbar(toolitems=[('Home', 'Reset original view', 'home', 'home'), ('Back', 'Back to previous …"
      ]
     },
     "metadata": {},
     "output_type": "display_data"
    },
    {
     "data": {
      "text/plain": [
       "Text(0.5, 1.0, 'Comparison between loss curve from DA\\nand best equivalent Fokker-Planck process $(\\\\kappa=0.123, I_\\\\ast=259.5)$')"
      ]
     },
     "execution_count": 54,
     "metadata": {},
     "output_type": "execute_result"
    }
   ],
   "source": [
    "fp2_fig, fp2_ax = plt.subplots()\n",
    "fp2_ax.plot(axis_sampling, values, label=\"Loss from original DA\")\n",
    "fp2_ax.plot(axis_sampling, best_data, label=\"FP process $(I_\\\\ast={})$\".format(best_I_star))\n",
    "fp2_ax.legend()\n",
    "fp2_ax.set_xlabel(\"$N$ turns\")\n",
    "fp2_ax.set_ylabel(\"Active beam\")\n",
    "fp2_ax.set_title(\"Comparison between loss curve from DA\\nand best equivalent Fokker-Planck process $(\\\\kappa={:.3}, I_\\\\ast={})$\".format(k, best_I_star))"
   ]
  },
  {
   "cell_type": "markdown",
   "metadata": {},
   "source": [
    "## Test with also $\\kappa$ somewhat free"
   ]
  },
  {
   "cell_type": "code",
   "execution_count": 89,
   "metadata": {},
   "outputs": [],
   "source": [
    "k = fitting_data[(\"Model 4 (3 free pars)\", \"k\")][1]\n",
    "rho = fitting_data[(\"Model 4 (3 free pars)\", \"rho\")][1]\n",
    "N0 = fitting_data[(\"Model 4 (3 free pars)\", \"N0\")][1]"
   ]
  },
  {
   "cell_type": "code",
   "execution_count": 108,
   "metadata": {},
   "outputs": [],
   "source": [
    "I_max = DA0**2 / 2\n",
    "I, stepI = np.linspace(0, I_max, 3000, retstep=True)\n",
    "I0 = I * np.exp(-(I/sigma**2))\n",
    "\n",
    "I0 = nk.logistic_damping(I, I0, 470, 15)\n",
    "\n",
    "I0 /= integrate.trapz(I0, I)\n",
    "\n",
    "c = 1.0\n",
    "\n",
    "I_star_min = 250.0\n",
    "I_star_max = 450.0\n",
    "I_star_steps = 101\n",
    "I_star_list = np.linspace(I_star_min, I_star_max, I_star_steps)\n",
    "\n",
    "iter_step = 100\n",
    "\n",
    "dk = 0.1\n",
    "k_list = np.linspace(k, k + dk, 100)"
   ]
  },
  {
   "cell_type": "code",
   "execution_count": null,
   "metadata": {},
   "outputs": [],
   "source": [
    "fit_values, best_k, best_I_star, best_t, best_error = fit.scan_k(\n",
    "    values,\n",
    "    turn_sampling,\n",
    "    I_max,\n",
    "    I0,\n",
    "    k,\n",
    "    270.0,\n",
    "    1.0,\n",
    "    iter_step,\n",
    "    0.05\n",
    ")"
   ]
  }
 ],
 "metadata": {
  "kernelspec": {
   "display_name": "Python 3",
   "language": "python",
   "name": "python3"
  },
  "language_info": {
   "codemirror_mode": {
    "name": "ipython",
    "version": 3
   },
   "file_extension": ".py",
   "mimetype": "text/x-python",
   "name": "python",
   "nbconvert_exporter": "python",
   "pygments_lexer": "ipython3",
   "version": "3.7.7"
  }
 },
 "nbformat": 4,
 "nbformat_minor": 4
}
