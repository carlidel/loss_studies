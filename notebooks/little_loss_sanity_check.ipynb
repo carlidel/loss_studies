{
 "cells": [
  {
   "cell_type": "markdown",
   "metadata": {},
   "source": [
    "# Little Loss sanity check for Hénon map values\n",
    "* Here we just want to check if our weight and loss measurement system works properly"
   ]
  },
  {
   "cell_type": "markdown",
   "metadata": {},
   "source": [
    "## Setup scripts if we are under SWAN"
   ]
  },
  {
   "cell_type": "code",
   "execution_count": null,
   "metadata": {},
   "outputs": [],
   "source": [
    "# Working in the right path\n",
    "%cd /eos/project/d/da-and-diffusion-studies/DA_Studies/Simulations/Models/loss_studies/notebooks"
   ]
  },
  {
   "cell_type": "code",
   "execution_count": null,
   "metadata": {},
   "outputs": [],
   "source": [
    "# Install the libraries\n",
    "import sys\n",
    "!{sys.executable} -m pip install --user tqdm pynverse sixtrackwrap crank-nicolson-numba henon-map symplectic-map\n",
    "!{sys.executable} -m pip install --user --upgrade sixtrackwrap \n",
    "!{sys.executable} -m pip install --user --upgrade crank-nicolson-numba \n",
    "!{sys.executable} -m pip install --user --upgrade henon-map \n",
    "!{sys.executable} -m pip install --user --upgrade symplectic-map\n",
    "!export PYTHONPATH=$CERNBOX_HOME.local/lib/python3.7/site-packages:$PYTHONPATH"
   ]
  },
  {
   "cell_type": "code",
   "execution_count": null,
   "metadata": {},
   "outputs": [],
   "source": [
    "# For this \"presentation\" only!\n",
    "import warnings\n",
    "warnings.filterwarnings('ignore')"
   ]
  },
  {
   "cell_type": "markdown",
   "metadata": {},
   "source": [
    "## Library Imports"
   ]
  },
  {
   "cell_type": "code",
   "execution_count": 1,
   "metadata": {},
   "outputs": [],
   "source": [
    "%matplotlib widget"
   ]
  },
  {
   "cell_type": "code",
   "execution_count": 2,
   "metadata": {},
   "outputs": [],
   "source": [
    "# Base libraries\n",
    "import math\n",
    "import numpy as np\n",
    "import scipy.integrate as integrate\n",
    "from scipy.special import erf\n",
    "import pickle\n",
    "import itertools\n",
    "from scipy.optimize import curve_fit\n",
    "\n",
    "from numba import njit, prange\n",
    "\n",
    "# Personal libraries\n",
    "import sixtrackwrap as sx\n",
    "import crank_nicolson_numba.nekhoroshev as nk\n",
    "import henon_map as hm\n",
    "\n",
    "from tqdm.notebook import tqdm\n",
    "import time\n",
    "import matplotlib.pyplot as plt\n",
    "import ipywidgets as widgets\n",
    "import matplotlib.pyplot as plt\n",
    "import matplotlib\n",
    "import matplotlib.ticker as ticker\n",
    "from math import gcd\n",
    "\n",
    "import pandas as pd\n",
    "\n",
    "from scipy.special import lambertw\n",
    "from scipy.interpolate import interp1d\n",
    "\n",
    "import warnings\n",
    "import os"
   ]
  },
  {
   "cell_type": "code",
   "execution_count": 18,
   "metadata": {},
   "outputs": [],
   "source": [
    "from fit_utils import symmetric_gaussian_loss"
   ]
  },
  {
   "cell_type": "markdown",
   "metadata": {},
   "source": [
    "## Simple parameters"
   ]
  },
  {
   "cell_type": "code",
   "execution_count": 3,
   "metadata": {},
   "outputs": [],
   "source": [
    "# We need a small value for this, otherwise the numerical discretization is macroscopic\n",
    "dr = 0.001\n",
    "ang_samples = 15\n",
    "# This ends up with not needing that high value...\n",
    "lin_samples = 30\n",
    "\n",
    "max_turns = 1000\n",
    "min_turns = 100\n",
    "\n",
    "epsilon = 64.0\n",
    "\n",
    "sample_list = np.linspace(min_turns, max_turns, 50)"
   ]
  },
  {
   "cell_type": "code",
   "execution_count": 4,
   "metadata": {},
   "outputs": [],
   "source": [
    "# You can play with this one and try different values...\n",
    "cutting_point = 0.9"
   ]
  },
  {
   "cell_type": "code",
   "execution_count": 5,
   "metadata": {},
   "outputs": [],
   "source": [
    "alpha_preliminary_values = np.linspace(-1.0, 1.0, ang_samples)\n",
    "alpha = np.arccos(alpha_preliminary_values) / 2\n",
    "theta1 = np.linspace(0, np.pi * 2, ang_samples, endpoint=False)\n",
    "theta2 = np.linspace(0, np.pi * 2, ang_samples, endpoint=False)\n",
    "\n",
    "aa, th1, th2 = np.meshgrid(alpha, theta1, theta2, indexing=\"ij\")"
   ]
  },
  {
   "cell_type": "markdown",
   "metadata": {},
   "source": [
    "## Engines\n",
    "### Radial one"
   ]
  },
  {
   "cell_type": "code",
   "execution_count": 6,
   "metadata": {},
   "outputs": [],
   "source": [
    "radial_engine = hm.radial_scan.generate_instance(\n",
    "    dr,\n",
    "    aa.flatten(),\n",
    "    th1.flatten(),\n",
    "    th2.flatten(),\n",
    "    epsilon,\n",
    "    starting_position=0.3\n",
    ")"
   ]
  },
  {
   "cell_type": "code",
   "execution_count": 7,
   "metadata": {},
   "outputs": [],
   "source": [
    "radial_engine.block_compute(max_turns, min_turns);"
   ]
  },
  {
   "cell_type": "code",
   "execution_count": 8,
   "metadata": {},
   "outputs": [],
   "source": [
    "radial_engine.save_values(\"../data/temp_radial.pkl\")"
   ]
  },
  {
   "cell_type": "markdown",
   "metadata": {},
   "source": [
    "### Uniform one"
   ]
  },
  {
   "cell_type": "code",
   "execution_count": 9,
   "metadata": {},
   "outputs": [],
   "source": [
    "uniform_engine = hm.uniform_scan.generate_instance(\n",
    "    epsilon,\n",
    "    1.0,\n",
    "    lin_samples,\n",
    "    starting_radius = 0.3\n",
    ")"
   ]
  },
  {
   "cell_type": "code",
   "execution_count": 10,
   "metadata": {},
   "outputs": [
    {
     "name": "stdout",
     "output_type": "stream",
     "text": [
      "Elapsed time for execution: 31.986249446868896 s\n"
     ]
    }
   ],
   "source": [
    "uniform_engine.scan(max_turns);"
   ]
  },
  {
   "cell_type": "code",
   "execution_count": 11,
   "metadata": {},
   "outputs": [],
   "source": [
    "uniform_engine.save_values(\"../data/temp_uniform.pkl\")"
   ]
  },
  {
   "cell_type": "markdown",
   "metadata": {},
   "source": [
    "## Load values in the corresponding analyzers"
   ]
  },
  {
   "cell_type": "code",
   "execution_count": 12,
   "metadata": {},
   "outputs": [],
   "source": [
    "radial_analyzer = sx.uniform_radial_scanner.load_values(\"../data/temp_radial.pkl\")\n",
    "uniform_analyzer = sx.uniform_scanner.load_values(\"../data/temp_uniform.pkl\")"
   ]
  },
  {
   "cell_type": "markdown",
   "metadata": {},
   "source": [
    "### Let's test a uniform distribution"
   ]
  },
  {
   "cell_type": "code",
   "execution_count": null,
   "metadata": {},
   "outputs": [],
   "source": [
    "radial_analyzer.assign_weights(sx.assign_uniform_distribution())\n",
    "uniform_analyzer.assign_weights(sx.assign_uniform_distribution(), radial_cut=cutting_point)"
   ]
  },
  {
   "cell_type": "markdown",
   "metadata": {},
   "source": [
    "#### First sanity test - Manual raw comparison of boolean spheres "
   ]
  },
  {
   "cell_type": "code",
   "execution_count": null,
   "metadata": {},
   "outputs": [],
   "source": [
    "tests = np.linspace(0.1, 0.8, 200)\n",
    "A = [] # theoretical value\n",
    "B = [] # uniform sampling\n",
    "C = [] # radial sampling\n",
    "for test in tqdm(tests):\n",
    "    A.append(np.pi**2 * test**4 / 2)\n",
    "    B.append(uniform_analyzer.compute_loss_cut(test))\n",
    "    C.append(radial_analyzer.compute_loss_cut(test))"
   ]
  },
  {
   "cell_type": "code",
   "execution_count": null,
   "metadata": {},
   "outputs": [],
   "source": [
    "plt.figure()\n",
    "plt.plot(tests, A, label=\"theoretical value\")\n",
    "#plt.plot(np.concatenate(([0,0,0],C)))\n",
    "plt.plot(tests, B, label=\"uniform sampling\")\n",
    "plt.plot(tests, C, label=\"radial sampling\")\n",
    "plt.xlabel(\"4D sphere radius\")\n",
    "plt.ylabel(\"Measured hypervolume\")\n",
    "plt.legend()\n",
    "plt.title(\"First sanity test\")"
   ]
  },
  {
   "cell_type": "markdown",
   "metadata": {},
   "source": [
    "#### Second sanity test - loss comparison (uniform distribution)"
   ]
  },
  {
   "cell_type": "code",
   "execution_count": 16,
   "metadata": {},
   "outputs": [],
   "source": [
    "A = radial_analyzer.compute_loss(sample_list, cutting_point, normalization=False)\n",
    "B = uniform_analyzer.compute_loss(sample_list, normalization=False)"
   ]
  },
  {
   "cell_type": "code",
   "execution_count": 17,
   "metadata": {},
   "outputs": [
    {
     "data": {
      "application/vnd.jupyter.widget-view+json": {
       "model_id": "189cc2c056ee43caba3200750431515f",
       "version_major": 2,
       "version_minor": 0
      },
      "text/plain": [
       "Canvas(toolbar=Toolbar(toolitems=[('Home', 'Reset original view', 'home', 'home'), ('Back', 'Back to previous …"
      ]
     },
     "metadata": {},
     "output_type": "display_data"
    },
    {
     "data": {
      "text/plain": [
       "Text(0.5, 1.0, 'Second sanity test')"
      ]
     },
     "execution_count": 17,
     "metadata": {},
     "output_type": "execute_result"
    }
   ],
   "source": [
    "plt.figure()\n",
    "plt.plot(sample_list, A, label=\"Radial sampling\")\n",
    "plt.plot(sample_list, B, label=\"Uniform sampling\")\n",
    "plt.xlabel(\"Turns considered\")\n",
    "plt.ylabel(\"Active beam measured (not normalized)\")\n",
    "plt.legend()\n",
    "plt.title(\"Second sanity test\")"
   ]
  },
  {
   "cell_type": "markdown",
   "metadata": {},
   "source": [
    "### Now on to a Gaussian distribution"
   ]
  },
  {
   "cell_type": "code",
   "execution_count": 74,
   "metadata": {},
   "outputs": [],
   "source": [
    "sigma = 0.5"
   ]
  },
  {
   "cell_type": "code",
   "execution_count": 75,
   "metadata": {},
   "outputs": [],
   "source": [
    "radial_analyzer.assign_weights(sx.assign_symmetric_gaussian(sigma))\n",
    "uniform_analyzer.assign_weights(sx.assign_symmetric_gaussian(sigma, polar=False), radial_cut=cutting_point)"
   ]
  },
  {
   "cell_type": "markdown",
   "metadata": {},
   "source": [
    "#### Third sanity test - loss comparison (gaussian distribution)"
   ]
  },
  {
   "cell_type": "code",
   "execution_count": 76,
   "metadata": {},
   "outputs": [],
   "source": [
    "A = radial_analyzer.compute_loss(sample_list, cutting_point, normalization=True)\n",
    "B = uniform_analyzer.compute_loss(sample_list, normalization=True)"
   ]
  },
  {
   "cell_type": "code",
   "execution_count": 77,
   "metadata": {},
   "outputs": [],
   "source": [
    "DA = radial_analyzer.compute_DA_standard(sample_list)\n",
    "C = symmetric_gaussian_loss(DA, sigma, cutting_point)"
   ]
  },
  {
   "cell_type": "code",
   "execution_count": 78,
   "metadata": {},
   "outputs": [
    {
     "name": "stderr",
     "output_type": "stream",
     "text": [
      "/home/carlidel/anaconda3/lib/python3.7/site-packages/ipykernel_launcher.py:1: RuntimeWarning: More than 20 figures have been opened. Figures created through the pyplot interface (`matplotlib.pyplot.figure`) are retained until explicitly closed and may consume too much memory. (To control this warning, see the rcParam `figure.max_open_warning`).\n",
      "  \"\"\"Entry point for launching an IPython kernel.\n"
     ]
    },
    {
     "data": {
      "application/vnd.jupyter.widget-view+json": {
       "model_id": "a10b8d7bcf5c481c9946fe82f19e5dff",
       "version_major": 2,
       "version_minor": 0
      },
      "text/plain": [
       "Canvas(toolbar=Toolbar(toolitems=[('Home', 'Reset original view', 'home', 'home'), ('Back', 'Back to previous …"
      ]
     },
     "metadata": {},
     "output_type": "display_data"
    },
    {
     "data": {
      "text/plain": [
       "Text(0.5, 1.0, 'Third sanity test')"
      ]
     },
     "execution_count": 78,
     "metadata": {},
     "output_type": "execute_result"
    }
   ],
   "source": [
    "plt.figure()\n",
    "plt.plot(sample_list, A, label=\"Radial sampling\")\n",
    "plt.plot(sample_list, B, label=\"Uniform sampling\")\n",
    "plt.plot(sample_list, C, label=\"DA loss\")\n",
    "plt.xlabel(\"Turns considered\")\n",
    "plt.ylabel(\"Active beam measured (not normalized)\")\n",
    "plt.legend()\n",
    "plt.title(\"Third sanity test\")"
   ]
  },
  {
   "cell_type": "code",
   "execution_count": 67,
   "metadata": {},
   "outputs": [],
   "source": [
    "radiuses = radial_analyzer.extract_DA(sample_list)"
   ]
  },
  {
   "cell_type": "code",
   "execution_count": 84,
   "metadata": {},
   "outputs": [
    {
     "name": "stderr",
     "output_type": "stream",
     "text": [
      "/home/carlidel/anaconda3/lib/python3.7/site-packages/ipykernel_launcher.py:1: RuntimeWarning: More than 20 figures have been opened. Figures created through the pyplot interface (`matplotlib.pyplot.figure`) are retained until explicitly closed and may consume too much memory. (To control this warning, see the rcParam `figure.max_open_warning`).\n",
      "  \"\"\"Entry point for launching an IPython kernel.\n"
     ]
    },
    {
     "data": {
      "application/vnd.jupyter.widget-view+json": {
       "model_id": "2850cadb89a243e59d00956ded8a6acb",
       "version_major": 2,
       "version_minor": 0
      },
      "text/plain": [
       "Canvas(toolbar=Toolbar(toolitems=[('Home', 'Reset original view', 'home', 'home'), ('Back', 'Back to previous …"
      ]
     },
     "metadata": {},
     "output_type": "display_data"
    },
    {
     "data": {
      "text/plain": [
       "<matplotlib.legend.Legend at 0x7f9fc89867d0>"
      ]
     },
     "execution_count": 84,
     "metadata": {},
     "output_type": "execute_result"
    }
   ],
   "source": [
    "plt.figure()\n",
    "a = int(np.random.uniform(0, 15))\n",
    "b = int(np.random.uniform(0, 15))\n",
    "c = int(np.random.uniform(0, 15))\n",
    "plt.plot(radial_analyzer.r_values, radial_analyzer.steps[a,b,c], linewidth=0.5, label=\"Raw steps measured\\nin Hénon map\")\n",
    "plt.plot(radiuses[a,b,c], sample_list, c=\"C1\", label=\"Last stable radius\\nfor given number of turns\")\n",
    "\n",
    "plt.title(\"Random radius sample $(\\\\alpha={:.2},\\\\theta_1={:.2},\\\\theta_2={:.2})$\".format(radial_analyzer.alpha_values[a], radial_analyzer.theta1_values[b], radial_analyzer.theta2_values[c]))\n",
    "plt.xlabel(\"$r$\")\n",
    "plt.ylabel(\"$N$ turns\")\n",
    "plt.legend()"
   ]
  },
  {
   "cell_type": "code",
   "execution_count": null,
   "metadata": {},
   "outputs": [],
   "source": []
  }
 ],
 "metadata": {
  "kernelspec": {
   "display_name": "Python 3",
   "language": "python",
   "name": "python3"
  },
  "language_info": {
   "codemirror_mode": {
    "name": "ipython",
    "version": 3
   },
   "file_extension": ".py",
   "mimetype": "text/x-python",
   "name": "python",
   "nbconvert_exporter": "python",
   "pygments_lexer": "ipython3",
   "version": "3.7.7"
  }
 },
 "nbformat": 4,
 "nbformat_minor": 4
}
